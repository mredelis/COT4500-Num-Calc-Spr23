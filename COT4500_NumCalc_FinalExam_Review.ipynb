{
  "nbformat": 4,
  "nbformat_minor": 0,
  "metadata": {
    "colab": {
      "provenance": [],
      "toc_visible": true,
      "authorship_tag": "ABX9TyO5dKBwz44jGd+axEiDfNP0",
      "include_colab_link": true
    },
    "kernelspec": {
      "name": "python3",
      "display_name": "Python 3"
    },
    "language_info": {
      "name": "python"
    }
  },
  "cells": [
    {
      "cell_type": "markdown",
      "metadata": {
        "id": "view-in-github",
        "colab_type": "text"
      },
      "source": [
        "<a href=\"https://colab.research.google.com/github/mredelis/COT4500-Num-Calc-Spr23/blob/main/COT4500_NumCalc_FinalExam_Review.ipynb\" target=\"_parent\"><img src=\"https://colab.research.google.com/assets/colab-badge.svg\" alt=\"Open In Colab\"/></a>"
      ]
    },
    {
      "cell_type": "markdown",
      "source": [
        "## **COT 4500 Numerical Calculus. Final Exam Review** ##\n"
      ],
      "metadata": {
        "id": "n0mSmIR9a2N2"
      }
    },
    {
      "cell_type": "code",
      "source": [
        "import numpy as np\n",
        "from decimal import Decimal, getcontext\n",
        "from numpy.linalg import eig"
      ],
      "metadata": {
        "id": "7riXmjuLeuEB"
      },
      "execution_count": null,
      "outputs": []
    },
    {
      "cell_type": "markdown",
      "source": [
        "### **Chapter 1: Calculus Review and Error Analysis**"
      ],
      "metadata": {
        "id": "0lFzYHu9bDqh"
      }
    },
    {
      "cell_type": "markdown",
      "source": [
        "1. Use double precision, calculate the resulting values (format to 5 decimal places)\n",
        "\n",
        "> 010000000111111010111001\n",
        "\n"
      ],
      "metadata": {
        "id": "ISCY5L9Edi5S"
      }
    },
    {
      "cell_type": "code",
      "source": [
        "EXPONENT_LENGTH = 11\n",
        "MANTISSA_LENGTH = 52\n",
        "MAX_ITERATIONS = 100\n",
        "\n",
        "# Calculate decimal number using double precision (format to 5 decimal places)\n",
        "def exercise_1(b_num: str):\n",
        "    sign: int = 1 if b_num[0] == \"0\" else -1  # s = 0 the number is +\n",
        "    exponent: float = 0\n",
        "    mantissa: float = 0\n",
        "    decimal_number: float = 0\n",
        "\n",
        "    for i in range(1, EXPONENT_LENGTH + 1):\n",
        "        exponent += int(b_num[i]) * (2 ** (11 - i))\n",
        "\n",
        "    for i in range(EXPONENT_LENGTH + 1, len(b_num)):\n",
        "        mantissa += int(b_num[i]) * (1 / 2) ** (i - 11)\n",
        "\n",
        "    decimal_number = sign * (2 ** (exponent - 1023)) * (1 + mantissa)\n",
        "    return decimal_number\n",
        "\n",
        "binary_number = \"010000000111111010111001\"\n",
        "res1 = exercise_1(binary_number)\n",
        "print(res1)"
      ],
      "metadata": {
        "colab": {
          "base_uri": "https://localhost:8080/"
        },
        "id": "j7xVBPN6ebTA",
        "outputId": "2148f5af-ddab-4782-9d24-4807c72031d0"
      },
      "execution_count": null,
      "outputs": [
        {
          "output_type": "stream",
          "name": "stdout",
          "text": [
            "491.5625\n"
          ]
        }
      ]
    },
    {
      "cell_type": "markdown",
      "source": [
        "2. Repeat exercise 1 using three-digit chopping arithmetic"
      ],
      "metadata": {
        "id": "FIpWHVTzdpyU"
      }
    },
    {
      "cell_type": "code",
      "source": [
        "def normalized_form(dec_num: float):\n",
        "    n: int = 0\n",
        "    # write number in normalized decimal form\n",
        "    while dec_num >= 1:\n",
        "        dec_num = dec_num / 10\n",
        "        n += 1\n",
        "    return (dec_num, n)\n",
        "\n",
        "# Repeat Ex 1 using three-digit chopping arithmetic\n",
        "def exercise_2(fraction: float, exponent: int, digits_to_chopping: int):\n",
        "    chopped_value = int(fraction * 10**digits_to_chopping) / 10**digits_to_chopping\n",
        "    return chopped_value * 10**exponent\n",
        "\n",
        "\n",
        "(fraction, exponent) = normalized_form(res1)\n",
        "res2 = exercise_2(fraction, exponent, 3)\n",
        "print(res2)"
      ],
      "metadata": {
        "colab": {
          "base_uri": "https://localhost:8080/"
        },
        "id": "lKenW48hfMO2",
        "outputId": "8fd76764-52e4-41ee-c81d-c6d507c13418"
      },
      "execution_count": null,
      "outputs": [
        {
          "output_type": "stream",
          "name": "stdout",
          "text": [
            "491.0\n"
          ]
        }
      ]
    },
    {
      "cell_type": "markdown",
      "source": [
        "3. Repeat exercise 1 using three-digit rounding arithmetic"
      ],
      "metadata": {
        "id": "5bIQJ_RPd5cH"
      }
    },
    {
      "cell_type": "code",
      "source": [
        "# Repeat Ex 1 using three-digit rounding arithmetic\n",
        "def exercise_3(fraction: float, exponent: int, digits_to_rounding: int):\n",
        "    # add 5 to the (k+1) digit\n",
        "    new_fraction = fraction + 5 / 10 ** (digits_to_rounding + 1)\n",
        "    # then chop after the kth digit\n",
        "    return exercise_2(new_fraction, exponent, digits_to_rounding)\n",
        "\n",
        "res3 = exercise_3(fraction, exponent, 3)\n",
        "print(res3)\n"
      ],
      "metadata": {
        "colab": {
          "base_uri": "https://localhost:8080/"
        },
        "id": "3_fsuIaTfzzj",
        "outputId": "a1923a5a-d885-4738-d221-8b7b32cde963"
      },
      "execution_count": null,
      "outputs": [
        {
          "output_type": "stream",
          "name": "stdout",
          "text": [
            "492.0\n"
          ]
        }
      ]
    },
    {
      "cell_type": "markdown",
      "source": [
        "4. Compute the **absolute and relative error** with the exact value from question 1 and its 3 digit rounding"
      ],
      "metadata": {
        "id": "r8DOsDs0d79t"
      }
    },
    {
      "cell_type": "code",
      "source": [
        "# Absolute error with the exact value from question 1 and its 3 digit rounding\n",
        "def absolute_error(precise: float, approximate: float):\n",
        "    # sub_operation = precise - approximate\n",
        "    sub_operation = approximate - precise\n",
        "    print(f\"Absulute error: {abs(sub_operation)}\")\n",
        "\n",
        "\n",
        "# Relative error with the exact value from question 1 and its 3 digit rounding\n",
        "def relative_error(precise: float, approximate: float):\n",
        "    # print(getcontext())\n",
        "    if precise != 0:\n",
        "        rel_err = abs(Decimal(precise) - Decimal(approximate)) / abs(Decimal(precise))\n",
        "        print(f\"Relative error: {rel_err}\")\n",
        "\n",
        "\n",
        "absolute_error(res1, res3)\n",
        "relative_error(res1, res3)"
      ],
      "metadata": {
        "colab": {
          "base_uri": "https://localhost:8080/"
        },
        "id": "sGauqZvVd4f9",
        "outputId": "1b8d4d62-aa32-4ce1-aba3-922d058c0a3a"
      },
      "execution_count": null,
      "outputs": [
        {
          "output_type": "stream",
          "name": "stdout",
          "text": [
            "Absulute error: 0.4375\n",
            "Relative error: 0.0008900190718372536554354736173\n"
          ]
        }
      ]
    },
    {
      "cell_type": "markdown",
      "source": [
        "### **Chapter 2: Solutions of Equations in One variable**\n",
        "\n",
        "In class code & assignment 1:\n",
        "- babylonian_method (this method is it only finds sqrt(2)...how can we find a zero of any function?)\n",
        "- bisection_method (gives us the first zero of any function to a certain error\n",
        "threshold)\n",
        "- newton_raphson.py\n"
      ],
      "metadata": {
        "id": "Ov3n2R8ybEKY"
      }
    },
    {
      "cell_type": "markdown",
      "source": [
        "5. What is the minimum number of terms needed to computer f(1) with error < 10<sup>-4<sup>\n",
        "<br>\n",
        "![series.JPG]()"
      ],
      "metadata": {
        "id": "vw30YPmBhdb3"
      }
    },
    {
      "cell_type": "code",
      "source": [
        "# Minimum number of terms needed to computer f(1) with error < 10^-4?\n",
        "def check_for_alternating(series: str) -> bool:\n",
        "    # check for (-1)^k term\n",
        "    if \"-1**k\" in series:\n",
        "        return True\n",
        "    return False\n",
        "\n",
        "\n",
        "def check_for_decreasing(series: str, x: int):\n",
        "    k = 1\n",
        "    previous_term = abs(eval(series))\n",
        "\n",
        "    for k in range(2, 100):\n",
        "        next_term = abs(eval(series))\n",
        "        if previous_term <= next_term:\n",
        "            return False\n",
        "        previous_term = next_term\n",
        "    return True\n",
        "\n",
        "\n",
        "def compute_minimun_terms(error: float) -> int:\n",
        "    min_number_terms = 0\n",
        "    while (min_number_terms + 1) ** 3 < (1 / error):\n",
        "        min_number_terms += 1\n",
        "    print(\"Minimun number of terms: \", min_number_terms)\n",
        "\n",
        "\n",
        "series: str = \"(-1**k) * (x**k) / (k**3)\"\n",
        "x: int = 1\n",
        "error: float = 10 ** (-4)\n",
        "check1: bool = check_for_alternating(series)\n",
        "check2: bool = check_for_decreasing(series, x)\n",
        "if check1 and check2:\n",
        "    compute_minimun_terms(error)"
      ],
      "metadata": {
        "colab": {
          "base_uri": "https://localhost:8080/"
        },
        "id": "BeeeJh2_lSVK",
        "outputId": "8c5807fe-f8c5-43cb-fe1c-57e25b557c2a"
      },
      "execution_count": null,
      "outputs": [
        {
          "output_type": "stream",
          "name": "stdout",
          "text": [
            "Minimun number of terms:  21\n"
          ]
        }
      ]
    },
    {
      "cell_type": "markdown",
      "source": [
        "6. Determine the number of iterations necessary to solve f(x) = x^3 + 4x^2 – 10 = 0 with accuracy 10-4 using a = -4 and b = 7 using the **bisection method**"
      ],
      "metadata": {
        "id": "sN0T5iP9d9hb"
      }
    },
    {
      "cell_type": "code",
      "source": [
        "# Bisection method finds the first zero of any function to a certain error threshold\n",
        "MAX_ITERATIONS = 100\n",
        "\n",
        "def bisection_method(left: float, right: float, tolerance: float, given_function: str):\n",
        "    # Check f(a) and f(b) have different signs\n",
        "    x = left\n",
        "    intial_left = eval(given_function)\n",
        "    print(\"intial_left: \", intial_left)\n",
        "\n",
        "    print()\n",
        "\n",
        "    x = right\n",
        "    intial_right = eval(given_function)\n",
        "    print(\"intial_right: \", intial_right)\n",
        "\n",
        "    if intial_left * intial_right >= 0:\n",
        "        print(\"Invalid inputs. Not on opposite sides of the function\")\n",
        "        return\n",
        "\n",
        "    i = 0  # iteration counter\n",
        "    while abs(right - left) > tolerance and i <= MAX_ITERATIONS:\n",
        "        i += 1\n",
        "        print(\"iteration: \", i)\n",
        "\n",
        "\n",
        "        mid_point = (left + right) / 2\n",
        "        x = mid_point\n",
        "        evaluated_midpoint = eval(given_function)\n",
        "        print(\"evaluated midpoint:\", evaluated_midpoint)\n",
        "        print(\"x:\", x)\n",
        "\n",
        "        if evaluated_midpoint == 0.0:\n",
        "          print(\"Here\")\n",
        "          print(evaluated_midpoint)\n",
        "          break\n",
        "\n",
        "        # find function(left)\n",
        "        x = left\n",
        "        evaluated_left_point = eval(given_function)\n",
        "\n",
        "        # this section basically checks if we have crossed the origin point (another way\n",
        "        # to describe this is if f(midpoint) * f(left_point) changed signs)\n",
        "        first_conditional: bool = evaluated_left_point < 0 and evaluated_midpoint > 0\n",
        "        second_conditional: bool = evaluated_left_point > 0 and evaluated_midpoint < 0\n",
        "\n",
        "        if first_conditional or second_conditional:\n",
        "            right = mid_point\n",
        "        else:\n",
        "            left = mid_point\n",
        "\n",
        "    print(i)\n",
        "\n",
        "\n",
        "left = 0\n",
        "right = 3\n",
        "error_tolerance: float = 0.0001\n",
        "function_string = \"x**3 - 4*(x**2) + 5*x - 2\"\n",
        "\n",
        "bisection_method(left, right, error_tolerance, function_string)"
      ],
      "metadata": {
        "colab": {
          "base_uri": "https://localhost:8080/"
        },
        "id": "xOrdPI6lmnFQ",
        "outputId": "92884b5b-d607-4ac9-ca1a-169ecdcea0e2"
      },
      "execution_count": null,
      "outputs": [
        {
          "output_type": "stream",
          "name": "stdout",
          "text": [
            "intial_left:  -2\n",
            "\n",
            "intial_right:  4\n",
            "iteration:  1\n",
            "evaluated midpoint: -0.125\n",
            "x: 1.5\n",
            "iteration:  2\n",
            "evaluated midpoint: 0.390625\n",
            "x: 2.25\n",
            "iteration:  3\n",
            "evaluated midpoint: -0.095703125\n",
            "x: 1.875\n",
            "iteration:  4\n",
            "evaluated midpoint: 0.070556640625\n",
            "x: 2.0625\n",
            "iteration:  5\n",
            "evaluated midpoint: -0.029327392578125\n",
            "x: 1.96875\n",
            "iteration:  6\n",
            "evaluated midpoint: 0.016117095947265625\n",
            "x: 2.015625\n",
            "iteration:  7\n",
            "evaluated midpoint: -0.007690906524658203\n",
            "x: 1.9921875\n",
            "iteration:  8\n",
            "evaluated midpoint: 0.003936827182769775\n",
            "x: 2.00390625\n",
            "iteration:  9\n",
            "evaluated midpoint: -0.001945503056049347\n",
            "x: 1.998046875\n",
            "iteration:  10\n",
            "evaluated midpoint: 0.0009784707799553871\n",
            "x: 2.0009765625\n",
            "iteration:  11\n",
            "evaluated midpoint: -0.0004878045292571187\n",
            "x: 1.99951171875\n",
            "iteration:  12\n",
            "evaluated midpoint: 0.000244259848841466\n",
            "x: 2.000244140625\n",
            "iteration:  13\n",
            "evaluated midpoint: -0.00012204051199660171\n",
            "x: 1.9998779296875\n",
            "iteration:  14\n",
            "evaluated midpoint: 6.10426070579706e-05\n",
            "x: 2.00006103515625\n",
            "iteration:  15\n",
            "evaluated midpoint: -3.051571550827248e-05\n",
            "x: 1.999969482421875\n",
            "15\n"
          ]
        }
      ]
    },
    {
      "cell_type": "markdown",
      "source": [
        "#### Newton's (or Newton-Raphson) method\n",
        "\n",
        "7. Determine the number of iterations necessary to solve f(x) = x^3 - x^2 + 2 = 0 using **newton-raphson from the left side**\n",
        "\n",
        "- Tolerance: 1e-6\n",
        "- Initial guess: 0.5"
      ],
      "metadata": {
        "id": "5IR0zzAQnkbC"
      }
    },
    {
      "cell_type": "code",
      "source": [
        "# The objective is to find a solution to f(x)=0 given an initial approximation p0\n",
        "MAX_ITERATIONS = 1000\n",
        "\n",
        "def newton_raphson(function_str: str, function_str_derivative: str, error_tolerance: float, initial_approximation: float):\n",
        "\n",
        "  i = 1\n",
        "  while i <= MAX_ITERATIONS:\n",
        "    x = initial_approximation\n",
        "\n",
        "    if eval(function_str_derivative) != 0:\n",
        "      next_approximation = initial_approximation - eval(function_str) / eval(function_str_derivative)\n",
        "      # i += 1 #to match the professor's answer even though i should be updated when it's commented out\n",
        "\n",
        "      if abs(next_approximation - initial_approximation) < error_tolerance:\n",
        "        print(i)\n",
        "        return  # procedure was successfull\n",
        "\n",
        "      i += 1 # As it should be\n",
        "      initial_approximation = next_approximation\n",
        "    else:\n",
        "        print(\"Error derivative is zero\")\n",
        "        return\n",
        "\n",
        "  \n",
        "  print(f\"The method failed after {MAX_ITERATIONS} number of iterations\")\n",
        "\n",
        "# set up\n",
        "# function_str = \"x**3 - (x**2) + 2\"\n",
        "# function_str_derivative = \"3*x**2 - 2*x\"\n",
        "# error_tolerance: float = 10 ** (-4)\n",
        "# initial_approximation = 0.5\n",
        "\n",
        "# Quiz 1\n",
        "function_str = \"x**3 - (x**2) + 4\"\n",
        "function_str_derivative = \"3*x**2 - 2*x\"\n",
        "error_tolerance: float = 0.001\n",
        "initial_approximation = 1\n",
        "\n",
        "newton_raphson(function_str, function_str_derivative, error_tolerance, initial_approximation)"
      ],
      "metadata": {
        "colab": {
          "base_uri": "https://localhost:8080/"
        },
        "id": "3I04WSJj_ofT",
        "outputId": "949a2bb6-a366-4427-f63c-5d2a316de5b1"
      },
      "execution_count": null,
      "outputs": [
        {
          "output_type": "stream",
          "name": "stdout",
          "text": [
            "6\n"
          ]
        }
      ]
    },
    {
      "cell_type": "markdown",
      "source": [
        "### **Chapter 3: Interpolation and Polynomial Approximation**\n",
        "\n",
        "In class code & assignment 2:\n",
        "- **neville_method**\n",
        "- newton forward\n",
        "- hermite\n",
        "- cubic spline\n"
      ],
      "metadata": {
        "id": "AUETrxZ6bEn-"
      }
    },
    {
      "cell_type": "markdown",
      "source": [
        "1. Using **Neville’s method**, find the 2nd degree interpolating value for f(3.7) for the following set of data\n",
        "\n",
        "x       |\tf(x) |\t\n",
        "--------|------|\n",
        "3.3\t    | 1.675|\t   \n",
        "3.8\t    | 1.436|\n",
        "3.9     |\t1.318|"
      ],
      "metadata": {
        "id": "W0GdhbUgy_fc"
      }
    },
    {
      "cell_type": "code",
      "source": [
        "def nevilles_method(x_points, y_points, x):\n",
        "    # must specify the matrix size (this is based on how many columns/rows you want)\n",
        "    matrix = np.zeros((len(x_points), len(x_points)))\n",
        "\n",
        "    # fill in value (just the y values because we already have x set)\n",
        "    for counter, row in enumerate(matrix):\n",
        "        row[0] = y_points[counter]\n",
        "\n",
        "    # the end of the first loop are how many columns you have...\n",
        "    num_of_points = len(x_points) - 1\n",
        "\n",
        "    # populate final matrix (this is the iterative version of the recursion explained in class)\n",
        "    # the end of the second loop is based on the first loop...\n",
        "    for i in range(1, num_of_points + 1):\n",
        "        for j in range(1, i + 1):\n",
        "            first_multiplication = (x - x_points[i - j]) * matrix[i][j - 1]\n",
        "            second_multiplication = (x - x_points[i]) * matrix[i - 1][j - 1]\n",
        "\n",
        "            denominator = x_points[i] - x_points[i - j]\n",
        "\n",
        "            # this is the value that we will find in the matrix\n",
        "            coefficient = (first_multiplication - second_multiplication) / denominator\n",
        "            # print(\"Coefficient\", coefficient)\n",
        "            matrix[i][j] = coefficient\n",
        "\n",
        "    print(matrix[i][j])\n",
        "    return None\n",
        "\n",
        "    \n",
        "x_points = [3.6, 3.8, 3.9]\n",
        "y_points = [1.675, 1.436, 1.318]\n",
        "approximating_value = 3.7\n",
        "nevilles_method(x_points, y_points, approximating_value)"
      ],
      "metadata": {
        "colab": {
          "base_uri": "https://localhost:8080/"
        },
        "id": "P3URL77vzoU4",
        "outputId": "be553d38-66e3-4827-fd8a-440d563ccb09"
      },
      "execution_count": null,
      "outputs": [
        {
          "output_type": "stream",
          "name": "stdout",
          "text": [
            "1.5549999999999995\n"
          ]
        }
      ]
    },
    {
      "cell_type": "markdown",
      "source": [
        "#### Newton's forward difference\n",
        "\n",
        "2. Using **Newton’s forward method**, print out the polynomial approximations for degrees 1, 2, and 3 using the following set of data\n",
        "\n",
        "a. Hint, create the table first\n",
        "\n",
        "x       |\tf(x)    |\t\n",
        "--------|---------|\n",
        "7.2\t    | 23.5492 |\t   \n",
        "7.4\t    | 25.3913 |\n",
        "7.5     |\t26.8224 |\n",
        "7.5     |\t27.4589 |\n",
        "\n",
        "3. Using the results from 3, approximate f(7.3)?"
      ],
      "metadata": {
        "id": "DZIdzGlM0A7C"
      }
    },
    {
      "cell_type": "code",
      "source": [
        "def divided_difference_table(x_points, y_points):\n",
        "    # set up the matrix\n",
        "    size: int = len(x_points)\n",
        "    matrix: np.array = np.zeros((size, size))\n",
        "\n",
        "    # fill the matrix\n",
        "    for index, row in enumerate(matrix):\n",
        "        row[0] = y_points[index]\n",
        "\n",
        "    # populate the matrix (end points are based on matrix size and max operations we're using)\n",
        "    for i in range(1, size):\n",
        "        for j in range(1, i + 1):\n",
        "            numerator = matrix[i][j - 1] - matrix[i - 1][j - 1]\n",
        "            denominator = x_points[i] - x_points[i - j]\n",
        "\n",
        "            operation = numerator / denominator\n",
        "\n",
        "            # cut it off to view it more simpler\n",
        "            # matrix[i][j] = \"{0:.7g}\".format(operation)\n",
        "            matrix[i][j] = operation\n",
        "\n",
        "    # Print diagonal\n",
        "    diagonal = []\n",
        "    for i in range(1, size):\n",
        "        diagonal.append(matrix[i][i])\n",
        "\n",
        "    print(\"Diagonal of the matrix: \", diagonal)\n",
        "\n",
        "    return matrix\n",
        "\n",
        "\n",
        "def get_approximate_result(matrix, x_points, value):\n",
        "    # p0 is always y0 and we use a reoccuring x to avoid having to recalculate x\n",
        "    reoccuring_x_span = 1\n",
        "    reoccuring_px_result = matrix[0][0]\n",
        "\n",
        "    # we only need the diagonals...and that starts at the first row...\n",
        "    for index in range(1, len(x_points)):\n",
        "        polynomial_coefficient = matrix[index][index]\n",
        "\n",
        "        # we use the previous index for x_points....\n",
        "        reoccuring_x_span *= value - x_points[index - 1]\n",
        "\n",
        "        # get a_of_x * the x_span\n",
        "        mult_operation = polynomial_coefficient * reoccuring_x_span\n",
        "\n",
        "        # add the reoccuring px result\n",
        "        reoccuring_px_result += mult_operation\n",
        "\n",
        "    # final result\n",
        "    print(f\"\\n{reoccuring_px_result}\")\n",
        "    return reoccuring_px_result\n",
        "\n",
        "xi = [7.2, 7.4, 7.5, 7.6]\n",
        "fxi = [23.5492, 25.3913, 26.8224, 27.4589]\n",
        "divided_table = divided_difference_table(xi, fxi)\n",
        "\n",
        "approximating_x = 7.3\n",
        "final_approximation = get_approximate_result(divided_table, xi, approximating_x)"
      ],
      "metadata": {
        "colab": {
          "base_uri": "https://localhost:8080/"
        },
        "id": "cZns5_iX0eFT",
        "outputId": "039a272b-997e-4f5b-cee8-e63a89612319"
      },
      "execution_count": null,
      "outputs": [
        {
          "output_type": "stream",
          "name": "stdout",
          "text": [
            "Diagonal of the matrix:  [9.210500000000001, 17.00166666666675, -141.82916666666722]\n",
            "\n",
            "24.016574999999992\n"
          ]
        }
      ]
    },
    {
      "cell_type": "markdown",
      "source": [
        "#### Hermite interpolation\n",
        "\n",
        "4. Using the **divided difference method**, print out the **Hermite polynomial approximation matrix**\n",
        "\n",
        "x     |\tf(x) |\tf’(x)  |\n",
        "------|------|---------|\n",
        "0\t    | 1\t   | 1.06    |\n",
        "1\t    | 2\t   | 1.23    |\n",
        "2     |\t4\t   | 1.55    |\n",
        "\n",
        "\n",
        "![hermite.JPG](data:image/jpeg;base64,/9j/4AAQSkZJRgABAQEAYABgAAD/4RD0RXhpZgAATU0AKgAAAAgABAE7AAIAAAAOAAAISodpAAQAAAABAAAIWJydAAEAAAAcAAAQ0OocAAcAAAgMAAAAPgAAAAAc6gAAAAgAAAAAAAAAAAAAAAAAAAAAAAAAAAAAAAAAAAAAAAAAAAAAAAAAAAAAAAAAAAAAAAAAAAAAAAAAAAAAAAAAAAAAAAAAAAAAAAAAAAAAAAAAAAAAAAAAAAAAAAAAAAAAAAAAAAAAAAAAAAAAAAAAAAAAAAAAAAAAAAAAAAAAAAAAAAAAAAAAAAAAAAAAAAAAAAAAAAAAAAAAAAAAAAAAAAAAAAAAAAAAAAAAAAAAAAAAAAAAAAAAAAAAAAAAAAAAAAAAAAAAAAAAAAAAAAAAAAAAAAAAAAAAAAAAAAAAAAAAAAAAAAAAAAAAAAAAAAAAAAAAAAAAAAAAAAAAAAAAAAAAAAAAAAAAAAAAAAAAAAAAAAAAAAAAAAAAAAAAAAAAAAAAAAAAAAAAAAAAAAAAAAAAAAAAAAAAAAAAAAAAAAAAAAAAAAAAAAAAAAAAAAAAAAAAAAAAAAAAAAAAAAAAAAAAAAAAAAAAAAAAAAAAAAAAAAAAAAAAAAAAAAAAAAAAAAAAAAAAAAAAAAAAAAAAAAAAAAAAAAAAAAAAAAAAAAAAAAAAAAAAAAAAAAAAAAAAAAAAAAAAAAAAAAAAAAAAAAAAAAAAAAAAAAAAAAAAAAAAAAAAAAAAAAAAAAAAAAAAAAAAAAAAAAAAAAAAAAAAAAAAAAAAAAAAAAAAAAAAAAAAAAAAAAAAAAAAAAAAAAAAAAAAAAAAAAAAAAAAAAAAAAAAAAAAAAAAAAAAAAAAAAAAAAAAAAAAAAAAAAAAAAAAAAAAAAAAAAAAAAAAAAAAAAAAAAAAAAAAAAAAAAAAAAAAAAAAAAAAAAAAAAAAAAAAAAAAAAAAAAAAAAAAAAAAAAAAAAAAAAAAAAAAAAAAAAAAAAAAAAAAAAAAAAAAAAAAAAAAAAAAAAAAAAAAAAAAAAAAAAAAAAAAAAAAAAAAAAAAAAAAAAAAAAAAAAAAAAAAAAAAAAAAAAAAAAAAAAAAAAAAAAAAAAAAAAAAAAAAAAAAAAAAAAAAAAAAAAAAAAAAAAAAAAAAAAAAAAAAAAAAAAAAAAAAAAAAAAAAAAAAAAAAAAAAAAAAAAAAAAAAAAAAAAAAAAAAAAAAAAAAAAAAAAAAAAAAAAAAAAAAAAAAAAAAAAAAAAAAAAAAAAAAAAAAAAAAAAAAAAAAAAAAAAAAAAAAAAAAAAAAAAAAAAAAAAAAAAAAAAAAAAAAAAAAAAAAAAAAAAAAAAAAAAAAAAAAAAAAAAAAAAAAAAAAAAAAAAAAAAAAAAAAAAAAAAAAAAAAAAAAAAAAAAAAAAAAAAAAAAAAAAAAAAAAAAAAAAAAAAAAAAAAAAAAAAAAAAAAAAAAAAAAAAAAAAAAAAAAAAAAAAAAAAAAAAAAAAAAAAAAAAAAAAAAAAAAAAAAAAAAAAAAAAAAAAAAAAAAAAAAAAAAAAAAAAAAAAAAAAAAAAAAAAAAAAAAAAAAAAAAAAAAAAAAAAAAAAAAAAAAAAAAAAAAAAAAAAAAAAAAAAAAAAAAAAAAAAAAAAAAAAAAAAAAAAAAAAAAAAAAAAAAAAAAAAAAAAAAAAAAAAAAAAAAAAAAAAAAAAAAAAAAAAAAAAAAAAAAAAAAAAAAAAAAAAAAAAAAAAAAAAAAAAAAAAAAAAAAAAAAAAAAAAAAAAAAAAAAAAAAAAAAAAAAAAAAAAAAAAAAAAAAAAAAAAAAAAAAAAAAAAAAAAAAAAAAAAAAAAAAAAAAAAAAAAAAAAAAAAAAAAAAAAAAAAAAAAAAAAAAAAAAAAAAAAAAAAAAAAAAAAAAAAAAAAAAAAAAAAAAAAAAAAAAAAAAAAAAAAAAAAAAAAAAAAAAAAAAAAAAAAAAAAAAAAAAAAAAAAAAAAAAAAAAAAAAAAAAAAAAAAAAAAAAAAAAAAAAAAAAAAAAAAAAAAAAAAAAAAAAAAAAAAAAAAAAAAAAAAAAAAAAAAAAAAAAAAAAAAAAAAAAAAAAAAAAAAAAAAAAAAAAAAAAAAAAAAAAAAAAAAAAAAAAAAAAAAAAAAAAAAAAAAAAAAAAAAAAAAAAAAAAAAAAAAAAAAAAAAAAAAAAAAAAAAAAAAAAAAAAAAAAAAAAAAAAAAAAAAAAAAAAAAAAAAAAAAAAAAAAAAAAAAAAAAAAAAAAAAAAAAAAAAAAAAAAAAAAAAAAAAAAAAAAAAAAAAAAAAAAAAAAAAAAAAAAAAAAAAAAAAAAAAAAAAAAAAAAAAAAAAAAAAAAAAAAAAAAAAAAAAAAAAAAAAAAAAAAAAAAAAAAAAAAAAAAAAAAAAAAAAAAAAAAAAAAAAAAAAAAAAAAAAAAAAAAAAAAAAAAAAAAAAAAAAAAAAAAAAAAAAAAAAAAAAAAAAAAAAAAAAAAAAAAAAAAAAAAAAAAAAAAAAAAAAAAAAAAAAAAAAAAAAAAAAAAAAAAAAAAAAAAAAAAAAAAAAAAAAAAAAAAAAAAAAAAAAAAAAAAAAAAAAAAAAAAAAAAAAAAAAAAAAAAAAAAAAAAAAAAAAAAAAAAAAAAAAAAAAAAAAAAAAAAAAAAAAAAAAAAAAAAAAAAAAAAAAAAAAAAAAAAAAAAAAAAAAAAAAAAAAAAAAAAAAAAAAAAAAAAAAAAAAAAAAAAAAAAAAAAAAAAAAAAAAAAAAAAAAAAAAAAAAAAAAAAAAAAAAAAAAAAAAAAAAAAAAAAAAAAAAAAAAAAAAAAAAAAAAAAAAAAAAAAAAAAAAAAAAAAAAAAAAAAAAAAAAAAAEVkZWxpcyBNb2xpbmEAAAWQAwACAAAAFAAAEKaQBAACAAAAFAAAELqSkQACAAAAAzMxAACSkgACAAAAAzMxAADqHAAHAAAIDAAACJoAAAAAHOoAAAAIAAAAAAAAAAAAAAAAAAAAAAAAAAAAAAAAAAAAAAAAAAAAAAAAAAAAAAAAAAAAAAAAAAAAAAAAAAAAAAAAAAAAAAAAAAAAAAAAAAAAAAAAAAAAAAAAAAAAAAAAAAAAAAAAAAAAAAAAAAAAAAAAAAAAAAAAAAAAAAAAAAAAAAAAAAAAAAAAAAAAAAAAAAAAAAAAAAAAAAAAAAAAAAAAAAAAAAAAAAAAAAAAAAAAAAAAAAAAAAAAAAAAAAAAAAAAAAAAAAAAAAAAAAAAAAAAAAAAAAAAAAAAAAAAAAAAAAAAAAAAAAAAAAAAAAAAAAAAAAAAAAAAAAAAAAAAAAAAAAAAAAAAAAAAAAAAAAAAAAAAAAAAAAAAAAAAAAAAAAAAAAAAAAAAAAAAAAAAAAAAAAAAAAAAAAAAAAAAAAAAAAAAAAAAAAAAAAAAAAAAAAAAAAAAAAAAAAAAAAAAAAAAAAAAAAAAAAAAAAAAAAAAAAAAAAAAAAAAAAAAAAAAAAAAAAAAAAAAAAAAAAAAAAAAAAAAAAAAAAAAAAAAAAAAAAAAAAAAAAAAAAAAAAAAAAAAAAAAAAAAAAAAAAAAAAAAAAAAAAAAAAAAAAAAAAAAAAAAAAAAAAAAAAAAAAAAAAAAAAAAAAAAAAAAAAAAAAAAAAAAAAAAAAAAAAAAAAAAAAAAAAAAAAAAAAAAAAAAAAAAAAAAAAAAAAAAAAAAAAAAAAAAAAAAAAAAAAAAAAAAAAAAAAAAAAAAAAAAAAAAAAAAAAAAAAAAAAAAAAAAAAAAAAAAAAAAAAAAAAAAAAAAAAAAAAAAAAAAAAAAAAAAAAAAAAAAAAAAAAAAAAAAAAAAAAAAAAAAAAAAAAAAAAAAAAAAAAAAAAAAAAAAAAAAAAAAAAAAAAAAAAAAAAAAAAAAAAAAAAAAAAAAAAAAAAAAAAAAAAAAAAAAAAAAAAAAAAAAAAAAAAAAAAAAAAAAAAAAAAAAAAAAAAAAAAAAAAAAAAAAAAAAAAAAAAAAAAAAAAAAAAAAAAAAAAAAAAAAAAAAAAAAAAAAAAAAAAAAAAAAAAAAAAAAAAAAAAAAAAAAAAAAAAAAAAAAAAAAAAAAAAAAAAAAAAAAAAAAAAAAAAAAAAAAAAAAAAAAAAAAAAAAAAAAAAAAAAAAAAAAAAAAAAAAAAAAAAAAAAAAAAAAAAAAAAAAAAAAAAAAAAAAAAAAAAAAAAAAAAAAAAAAAAAAAAAAAAAAAAAAAAAAAAAAAAAAAAAAAAAAAAAAAAAAAAAAAAAAAAAAAAAAAAAAAAAAAAAAAAAAAAAAAAAAAAAAAAAAAAAAAAAAAAAAAAAAAAAAAAAAAAAAAAAAAAAAAAAAAAAAAAAAAAAAAAAAAAAAAAAAAAAAAAAAAAAAAAAAAAAAAAAAAAAAAAAAAAAAAAAAAAAAAAAAAAAAAAAAAAAAAAAAAAAAAAAAAAAAAAAAAAAAAAAAAAAAAAAAAAAAAAAAAAAAAAAAAAAAAAAAAAAAAAAAAAAAAAAAAAAAAAAAAAAAAAAAAAAAAAAAAAAAAAAAAAAAAAAAAAAAAAAAAAAAAAAAAAAAAAAAAAAAAAAAAAAAAAAAAAAAAAAAAAAAAAAAAAAAAAAAAAAAAAAAAAAAAAAAAAAAAAAAAAAAAAAAAAAAAAAAAAAAAAAAAAAAAAAAAAAAAAAAAAAAAAAAAAAAAAAAAAAAAAAAAAAAAAAAAAAAAAAAAAAAAAAAAAAAAAAAAAAAAAAAAAAAAAAAAAAAAAAAAAAAAAAAAAAAAAAAAAAAAAAAAAAAAAAAAAAAAAAAAAAAAAAAAAAAAAAAAAAAAAAAAAAAAAAAAAAAAAAAAAAAAAAAAAAAAAAAAAAAAAAAAAAAAAAAAAAAAAAAAAAAAAAAAAAAAAAAAAAAAAAAAAAAAAAAAAAAAAAAAAAAAAAAAAAAAAAAAAAAAAAAAAAAAAAAAAAAAAAAAAAAAAAAAAAAAAAAAAAAAAAAAAAAAAAAAAAAAAAAAAAAAAAAAAAAAAAAAAAAAAAAAAAAAAAAAAAAAAAAAAAAAAAAAAAAAAAAAAAAAAAAAAAAAAAAAAAAAAAAAAAAAAAAAAAAAAAAAAAAAAAAAAAAAAAAAAAAAAAAAAAAAAAAAAAAAAAAAAAAAAAAAAAAAAAAAAAAAAAAAAAAAAAAAAAAAAAAAAAAAAAAAAAAAAAAAAAAAAAAAAAAAAAAAAAAAAAAAAAAAAAAAAAAAAAAAAAAAAAAAAAAAAAAAAAAAAAAAAAAAAAAAAAAAAAAAAAAAAAAAAAAAAAAAAAAAAAAAAAAAAAAAAAAAAAAAAAAAAAAAAAAAAAAAAAAAAAAAAAAAAAAAAAAAAAAAAAAAAAAAAAAAAAAAAAAAAAAAAAAAAAAAAAAAAAAAAAAAAAAAAAAAAAAAAAAAAAAAAAAAAAAAAAAAAAAAAAAAAAAAAAAAAAAAAAAAAAAAAAAAAAAAAAAAAAAAAAAAAAAAAAAAAAAAAAAAAAAAAAAAAAAAAAAAAAAAAAAAAAAAAAAAAAAAAAAAAAAAAAAAAAAAAAAAAAAAAAAAAAAAAAAAAAAAAAAAAAAAAAAAAAAAAAAAAAAAAAAAAAAAAAAAAAAAAAAAAAAAAAAAAAAAAAAAAAAAAAAAAAAAAAAAAAAAAAAAAAAAAAAAAAAAAAAAAAAAAAAAAAAAAAAAAAAAAAAAAAAAAAAAAAAAAAAAAAAAAAAAAAAAAAAAAAAAAAAAAAyMDIzOjA0OjI0IDIzOjI4OjQxADIwMjM6MDQ6MjQgMjM6Mjg6NDEAAABFAGQAZQBsAGkAcwAgAE0AbwBsAGkAbgBhAAAA/+ELIGh0dHA6Ly9ucy5hZG9iZS5jb20veGFwLzEuMC8APD94cGFja2V0IGJlZ2luPSfvu78nIGlkPSdXNU0wTXBDZWhpSHpyZVN6TlRjemtjOWQnPz4NCjx4OnhtcG1ldGEgeG1sbnM6eD0iYWRvYmU6bnM6bWV0YS8iPjxyZGY6UkRGIHhtbG5zOnJkZj0iaHR0cDovL3d3dy53My5vcmcvMTk5OS8wMi8yMi1yZGYtc3ludGF4LW5zIyI+PHJkZjpEZXNjcmlwdGlvbiByZGY6YWJvdXQ9InV1aWQ6ZmFmNWJkZDUtYmEzZC0xMWRhLWFkMzEtZDMzZDc1MTgyZjFiIiB4bWxuczpkYz0iaHR0cDovL3B1cmwub3JnL2RjL2VsZW1lbnRzLzEuMS8iLz48cmRmOkRlc2NyaXB0aW9uIHJkZjphYm91dD0idXVpZDpmYWY1YmRkNS1iYTNkLTExZGEtYWQzMS1kMzNkNzUxODJmMWIiIHhtbG5zOnhtcD0iaHR0cDovL25zLmFkb2JlLmNvbS94YXAvMS4wLyI+PHhtcDpDcmVhdGVEYXRlPjIwMjMtMDQtMjRUMjM6Mjg6NDEuMzA5PC94bXA6Q3JlYXRlRGF0ZT48L3JkZjpEZXNjcmlwdGlvbj48cmRmOkRlc2NyaXB0aW9uIHJkZjphYm91dD0idXVpZDpmYWY1YmRkNS1iYTNkLTExZGEtYWQzMS1kMzNkNzUxODJmMWIiIHhtbG5zOmRjPSJodHRwOi8vcHVybC5vcmcvZGMvZWxlbWVudHMvMS4xLyI+PGRjOmNyZWF0b3I+PHJkZjpTZXEgeG1sbnM6cmRmPSJodHRwOi8vd3d3LnczLm9yZy8xOTk5LzAyLzIyLXJkZi1zeW50YXgtbnMjIj48cmRmOmxpPkVkZWxpcyBNb2xpbmE8L3JkZjpsaT48L3JkZjpTZXE+DQoJCQk8L2RjOmNyZWF0b3I+PC9yZGY6RGVzY3JpcHRpb24+PC9yZGY6UkRGPjwveDp4bXBtZXRhPg0KICAgICAgICAgICAgICAgICAgICAgICAgICAgICAgICAgICAgICAgICAgICAgICAgICAgICAgICAgICAgICAgICAgICAgICAgICAgICAgICAgICAgICAgICAgICAgICAgICAgIAogICAgICAgICAgICAgICAgICAgICAgICAgICAgICAgICAgICAgICAgICAgICAgICAgICAgICAgICAgICAgICAgICAgICAgICAgICAgICAgICAgICAgICAgICAgICAgICAgICAgCiAgICAgICAgICAgICAgICAgICAgICAgICAgICAgICAgICAgICAgICAgICAgICAgICAgICAgICAgICAgICAgICAgICAgICAgICAgICAgICAgICAgICAgICAgICAgICAgICAgICAKICAgICAgICAgICAgICAgICAgICAgICAgICAgICAgICAgICAgICAgICAgICAgICAgICAgICAgICAgICAgICAgICAgICAgICAgICAgICAgICAgICAgICAgICAgICAgICAgICAgIAogICAgICAgICAgICAgICAgICAgICAgICAgICAgICAgICAgICAgICAgICAgICAgICAgICAgICAgICAgICAgICAgICAgICAgICAgICAgICAgICAgICAgICAgICAgICAgICAgICAgCiAgICAgICAgICAgICAgICAgICAgICAgICAgICAgICAgICAgICAgICAgICAgICAgICAgICAgICAgICAgICAgICAgICAgICAgICAgICAgICAgICAgICAgICAgICAgICAgICAgICAKICAgICAgICAgICAgICAgICAgICAgICAgICAgICAgICAgICAgICAgICAgICAgICAgICAgICAgICAgICAgICAgICAgICAgICAgICAgICAgICAgICAgICAgICAgICAgICAgICAgIAogICAgICAgICAgICAgICAgICAgICAgICAgICAgICAgICAgICAgICAgICAgICAgICAgICAgICAgICAgICAgICAgICAgICAgICAgICAgICAgICAgICAgICAgICAgICAgICAgICAgCiAgICAgICAgICAgICAgICAgICAgICAgICAgICAgICAgICAgICAgICAgICAgICAgICAgICAgICAgICAgICAgICAgICAgICAgICAgICAgICAgICAgICAgICAgICAgICAgICAgICAKICAgICAgICAgICAgICAgICAgICAgICAgICAgICAgICAgICAgICAgICAgICAgICAgICAgICAgICAgICAgICAgICAgICAgICAgICAgICAgICAgICAgICAgICAgICAgICAgICAgIAogICAgICAgICAgICAgICAgICAgICAgICAgICAgICAgICAgICAgICAgICAgICAgICAgICAgICAgICAgICAgICAgICAgICAgICAgICAgICAgICAgICAgICAgICAgICAgICAgICAgCiAgICAgICAgICAgICAgICAgICAgICAgICAgICAgICAgICAgICAgICAgICAgICAgICAgICAgICAgICAgICAgICAgICAgICAgICAgICAgICAgICAgICAgICAgICAgICAgICAgICAKICAgICAgICAgICAgICAgICAgICAgICAgICAgICAgICAgICAgICAgICAgICAgICAgICAgICAgICAgICAgICAgICAgICAgICAgICAgICAgICAgICAgICAgICAgICAgICAgICAgIAogICAgICAgICAgICAgICAgICAgICAgICAgICAgICAgICAgICAgICAgICAgICAgICAgICAgICAgICAgICAgICAgICAgICAgICAgICAgICAgICAgICAgICAgICAgICAgICAgICAgCiAgICAgICAgICAgICAgICAgICAgICAgICAgICAgICAgICAgICAgICAgICAgICAgICAgICAgICAgICAgICAgICAgICAgICAgICAgICAgICAgICAgICAgICAgICAgICAgICAgICAKICAgICAgICAgICAgICAgICAgICAgICAgICAgICAgICAgICAgICAgICAgICAgICAgICAgICAgICAgICAgICAgICAgICAgICAgICAgICAgICAgICAgICAgICAgICAgICAgICAgIAogICAgICAgICAgICAgICAgICAgICAgICAgICAgICAgICAgICAgICAgICAgICAgICAgICAgICAgICAgICAgICAgICAgICAgICAgICAgICAgICAgICAgICAgICAgICAgICAgICAgCiAgICAgICAgICAgICAgICAgICAgICAgICAgICAgICAgICAgICAgICAgICAgICAgICAgICAgICAgICAgICAgICAgICAgICAgICAgICAgICAgICAgICAgICAgICAgICAgICAgICAKICAgICAgICAgICAgICAgICAgICAgICAgICAgICAgICAgICAgICAgICAgICAgICAgICAgICAgICAgICAgICAgICAgICAgICAgICAgICAgICAgICAgICAgICAgICAgICAgICAgIAogICAgICAgICAgICAgICAgICAgICAgICAgICAgICAgICAgICAgICAgICAgICAgICAgICAgICAgICAgICAgICAgICAgICAgICAgICAgICAgICAgICAgICAgICAgICAgICAgICAgCiAgICAgICAgICAgICAgICAgICAgICAgICAgICA8P3hwYWNrZXQgZW5kPSd3Jz8+/9sAQwAHBQUGBQQHBgUGCAcHCAoRCwoJCQoVDxAMERgVGhkYFRgXGx4nIRsdJR0XGCIuIiUoKSssKxogLzMvKjInKisq/9sAQwEHCAgKCQoUCwsUKhwYHCoqKioqKioqKioqKioqKioqKioqKioqKioqKioqKioqKioqKioqKioqKioqKioqKioq/8AAEQgB5wNoAwEiAAIRAQMRAf/EAB8AAAEFAQEBAQEBAAAAAAAAAAABAgMEBQYHCAkKC//EALUQAAIBAwMCBAMFBQQEAAABfQECAwAEEQUSITFBBhNRYQcicRQygZGhCCNCscEVUtHwJDNicoIJChYXGBkaJSYnKCkqNDU2Nzg5OkNERUZHSElKU1RVVldYWVpjZGVmZ2hpanN0dXZ3eHl6g4SFhoeIiYqSk5SVlpeYmZqio6Slpqeoqaqys7S1tre4ubrCw8TFxsfIycrS09TV1tfY2drh4uPk5ebn6Onq8fLz9PX29/j5+v/EAB8BAAMBAQEBAQEBAQEAAAAAAAABAgMEBQYHCAkKC//EALURAAIBAgQEAwQHBQQEAAECdwABAgMRBAUhMQYSQVEHYXETIjKBCBRCkaGxwQkjM1LwFWJy0QoWJDThJfEXGBkaJicoKSo1Njc4OTpDREVGR0hJSlNUVVZXWFlaY2RlZmdoaWpzdHV2d3h5eoKDhIWGh4iJipKTlJWWl5iZmqKjpKWmp6ipqrKztLW2t7i5usLDxMXGx8jJytLT1NXW19jZ2uLj5OXm5+jp6vLz9PX29/j5+v/aAAwDAQACEQMRAD8A+kaKKKACiiigAooooAKKKKACiiigAooooAKKKKACiiigAooooAKKKKACiiigAooooAKKKKACiiigAooooAKKKKACiiigAooooAKKKKACiiigAooooAKKKKACiiigAooooAKKKKACiiigAooooAKKKKACiiigAooooAKKKKACiiigAooooAKKKKACiiigAooooAKKKKACiiigAooooAKKKKACiiigAooooAKKKKACiiigAooooAKKKKACiiigAooooAKKKKACiiigAooooAKKKKACiiigAooooAKKKKAOc8VSzTX2iaRHcT28OpXbpcPbytHIY0hd9qupDLkqvIIOM4Iq7oek3GjG7ga+nurNpQ9qtzO80sS7QGUyOSzDcCRkk84qv4msbyS40nVNOtjeTaZctM1sjqrzI0TxsFLELu+YEZIHGMipdAl1m6mvrvWbd7KGaRRZ2MpjaSFAoBLtGWUlmycBmwMc9qa8v6/r/MWt9TlG8caPpf8Awl9nrHiexs72K8lFtBdagkciL5EZUIrMCBuJxjvmuy8PTPL4V0ue4kZ3eyid5HbJYlASST1NZVnpF9FZeK45IMNqF3LJbDev7xWgRQevHzKRzinXlhqyfDNdM06LGqHT47VRvUeU5QIzZJwduSffHGaWvL52j+T/AKYl8S7Xl+a/pGF4G1i/uPFF3JqN9NcWuvwNqOnRSOSsMcchj2p6AxmF8erMaseOr3S7fxToMHiLXJNI0yWC6Z3GrSWCvIvlbQXR0yeWwCfWmHwPqWjX/h2803WtS1VNJmWAWlytpGqWzp5b4KRITtG1sFjnb0JxXQ3+nXU3jbRr+KLda21rdRyybgNrOYtoxnJztbp6U3bS3n/wPwt8y4vVt9Sn4QV9W8GPFeXN1PbSz3Edtc/aJFlktxKwjYSgh8lMYcHJGDnnNUfBeiww61rc5vdXnay1J7eBbrV7qdFj8qM4KPIVblickE8121Yfh3TrqwvNdku4vLW71Np4TuB3oYo1zweOVPB54oT95vy/Vf8AB/EiWy9f0f4bfgcr4iv9BX4lXdr4s8SyaTbJpltJaxHXpdPRnMkwcgJKgY4CZ69q2/HtzHZfD6WaK/ltbZZLVWu47to2WIzRhm84MGGVJy27OD1qO9bVtJ+IF7qdt4d1DVbS6063gWSymtl2OkkxYESyoejr0zWh4psrzWfCyw2lq4uHuLWUwO6BkCzxuwJztyAD0J6cZo6L+upq7e0v6fkjG8IXmmTeLLyHwrrU2r6QtkjTSNqkl/HHOXOAsju+CVzlQf7pxzz3FYY0ydPHx1OOFVtpdN8iWUEAtIsmVBHU4BbB+tblH2V/XV/0vIz+0/l+S/r1Od8VyXUEcdzL4kj8OaRCjNdXmYRJvJURqDMjIF5bPGSdoHerfhW+vNS8K6feakP9Jmi3M2zZvGeG29sjBx2zTNavdYsL2CSx0iTV7B4nSeC2eJZlfK7WHmuilcbgRnPTrS+EtMuNH8L2lleBUlTexjVsiIM7MEB9FBC/hSWw3ujZrkvFXxG0jwhqkdhqVveyyyQiYG3RGXaWZe7DnKmutrg/HHwz/wCEz1yHUf7W+xeVbrB5f2bzM4ZmzneP73T2rqwqoOp+/donLinXVP8AcK8jqvD+uW3iTQrfVrFJY4LjdsWYAMNrFTkAkdVPetKsfwpoP/CMeGLTSPtP2r7Nv/e+Xs3bnZumTj72OvatisavJ7SXJtd29OhtS5/Zx597a+px2u313D8WPCdnFczR21xa3zTQLIQkhVY9pZehxk4z0zSWfxK0+9uLcJpOrR2txfyacl7JFGIvtCMy7P8AWbuShw23HIBIPFWNZ0a/u/iZ4Z1W3g32Vjb3iXEu9RsMioEGCcnO09Afeufs/CetReFNJs5LLFxb+J3v5U81PlgN1I4fOcH5WBwOeemaiOyv/V5f5GktE2v60f6l/QviJNcaRrupeItHutOt9Nv5LaM/umMhDhFiASRiZMkA9FJIwTV6b4i6fZ6PrF9qem6lYy6Okcl3ZTRxtMEf7jLsdkYHno3YjrxXN3nhHXL7w14n0R9NlRpdaOqWlwt0iJdJ56ShFZX3xvhSMkLg4INRXHg/U73w34nNn4eu7G61CK3ht01HV2u7qYRvuO93mkRVGTgBvXPpSjrFX3svyX63CWjdu7+6/wDkdXdePYbVdMWTQdZN1qsssVpaeTGsrmNd2SGkAUEcjJHvilX4gadLo9ld21jqE91e3UlnFpqRoLjzo93mIQzhBt2kklse5yKzfG9zd2fjnwZNY2EmoSpLd5t4pER3Hkc7S5C5+pA96zLTwz4g0xtL18aU1zeR6xe31zpkU8fmLFcBlAVmYIXX5Sfmx1wTxQtRa28/+H/4Bo6z4q/ta38N3GlyXlix8RR2d5bSHy5EIV98UgUkEdD1IPB5rTT4h6Y+u/2etlf/AGc3x04al5afZzcgf6rO/fnPGdu3PGa56Dwprsy2l/cWHk3Fz4qXVp7YzITbQCMoNxBwWwFJCk8njNUr/wANeK9Q8TWk99p+o3T23iBLn7WdVVbQWauSoS38wDcqkA7kzwSCacd0n1f5qN/u1+4J3s2ui/WVv0/p6X7rx1NeDxVa67pOr6fp+l3kNul1YzxJKN3lEAss27cTJngY2cHnIrotZ8eWOi315bnT9RvY9NiWXULm0jRo7NWGQX3OGJ2jdhAxA5xXLa74a8QXDeMbG10eSePVr61vbW6WeERsE8hWQhnDBh5bH7uCO+eKta9oviG2vfF9tpOjNqMPiaBRDcrcRIlrJ5Pkt5odg20ABgUDHqMUuit2/Gy/4JaSctdv0NrVfiHZabqV7ZwaVqmpNY2Ud9PJZRxsiwvuwwLOucbCcDn0B5xvvrNinh8608wFgLb7UZcf8s9u7d+VcbD4T1O01LxEI4PMguPD1rp9rL5ijzZY1mBGM5H315OBz9a3bbT9YtPhjBp2nlLbWodJWGEuQyxziIAZIyDhvqKc7JSt8vx/yREbuUb9d/w/zf3EeieO7LWZZYm07UdPmSzF/FHeRoDPbnpIm12/JsEZGQKh0D4iWGv3OlxppeqWMWr2xuLG4vIo1ScKoZlG12IYA55ABwcE1zfhrw1rkfiq41G70nVLaKXQntWk1PVlu5HuC4JAHmOEU9tuB6gdKvaL4V1e1svh5FdWnlnR7KSG/wD3qHyWNuEA4PzfNx8uadlZv+vtf5L7/MV3/Xov82Q6j43bWvEnhJdJg1S1sLnV5IxdsVSC+RYZsgbXLFdwBAdRnGRnFWfi1erZ2fhxLnWLjR7G41qKK8uYL1rTERjkJBkUjAyB3rL0jw94mth4N0efQ3jtfDt+7T35uYSk0QilRHRQ2/neMgqCCeMjmuo8c6Fea5deGfslqtzDZazHc3QZlAWIRyAthjzyw4GTSaWiXdfddF31f+F/f7xzHhHxbbaRN4plTWLzXPDNjLbJp95JObqSSaQYeGOUnMnzFAOTgtjNaHi7xi958P8AxQlrDqOiavp1osjwzsqTRB/uOrROwwdrchuxBxW5430G51TwqltosEZuLS7t7yG3yEWQxTLIUz0GQpHpmuV1zw54h8S2fi/UTo0tjcalpkFhZWE88Jlcxs7FmZHZBkvgfN25xTVnv/W2v33Ft/Xn/lqdZL440yzh8QG8S5iPh6FZboOi5kRo96tH83zA4I5xyCKzrr4o6fanUGfRdZaHSxC1/MsMWy2WSNXDNmTJwG5CgkYPGOawfHmiTXvxI8O2VqyiLXIhBqkXdobZ1mB+mSUP+/V3XPCms3mkfEeC2st8mtKgsF81B52LZE7n5fmBHzYoVnq/6s/1CK2X9a/5HQ6z45s9Jv57WLTtR1JrS3W6vHso0ZbWJs4ZtzqTkKx2oGbA6VDqfxCsLC8FtaaZqWqsdOXUw1jHGV8gkjdl3XnjOOpHTJ4rI1PTPEWlazrs2laI+qR63p0EEbx3EUYtpkRkPmb3U7MMDlQx4PHSl0/wdqemagIkiE1vD4Uj0tJg6gPOpb5cE5HGDkjHPWoldJ2/rSX6petwWtr+X5x/Rv7jRs/iDpusf6ObHVbOO7017+0uJURBcwKBuaMq5ZWG5eGCnkGoovHem6Zomiw2FlrWrPd6YL6OJSklwluqrmSVpJACfmAOGJJ6ZrLtPCetRQ+F1eywbDwxcWFz+9T93OyQhU685KNyMjjrVS48N+KU0Dw/psljqNxZ2+hpbS2mn6oLQxXgUDdK6yKXTHGFLd+DVztG/L/Xxf5L7+lxR1tf+vh/4P3dbHQDXf7U+IfhabTLyV9M1DR7q6VFchJfmgKMV6ZAY4zyMml+Jl1evo+n6Do99PYahrl9HaR3Ns5SSFBl5HUjkEIhGfes/wAK+F9Y0688ESXtn5S6VoEtneHzUPlTHycLwTn7jcjI461Y8SeEdW8UfEaxu2vr7SNM0mxc213Yyw+ZJcSthhh1fACKOSo+9wetOpGN1FbXf4Nv8f1HFu1+tl+S/Ij8O+PE074SW2t+Ihc3Nxp7jT74QqJJWnWUQk4JGSWw3rzWpJ8QrC20vXLvUdN1Kxl0OAXN1ZzpH5zREEq6bXKkHaw+8OQQcV57r/hjWfB3h3xVahrjUtOvNT0+/s7u7mj3yztcRiVGCAY5VTnaBz65rU8Z2GqXHhvx74i1PTZNMS40NbOC2mljeRvL8xmcmNmUAmTA5zxyBS+L3v62X6jUUrLz/X/L8TrV+IdglvqUl9pmp2LafYHUfKuI4w1xbgH549rkdsYYqQSMgU9fH9o+i2+o/wBkaspvZ1gsLV4USa8LJvBRS4AGATlyuNp9s81qmheIPFEWq3r6NJYuPDc+mWsMtxEzXM0uDlSrEBPlUAsVPPIFbev6Lqn2Hwpf6fZG8utDuElmsklRXkUwNEwVmIXcN+eSAcdaLLr/AFq/0t6XJWqv6/kv1bLB+Ielx2Md1dWl9aqNQXTrtJUTdYzNjb5uHICncvzKWHzCoT4u0rWbjRpohqsUU2ryWdpLC4jjuXSOQlmAb54flYDI5IBx0Nc/d+FfEGtaTrdpc6YbOPxVqqteK8sTNY2axIhJwxBkby8DbuALA9qm0vw14jgtfCmm3mnr5XhzV2UXSSxhZrRYJUjl2g5B+dVK4znJxjmhW6+X6X+5/wBaDfW3n+tvv/y7mpF8U7GdrTyNA1ySO+uZbS1lEMO2aeMsDGMy5GdjEMQFwOo5q7/wsLTB4YbWHtL9GW9/s82BiX7Qbnfs8rAbbnPfdtxzmsDSvCetW2m+Eop7La+na7d3d0PNQ+XE/wBo2twec+YnAyeenBp0mgeJ7Pw3qsNhBcJJc+IpruSG0ukinuLN3yRHJuARiMdWU4B5Bqetv63X+b+4H3/r7X+S+/zRZ134lTW3hh7/AEbRLyS8g1SHTru0uBEHtnZ0BDfvQpJVxtKswywzgZIvnxXpenanrl7qI1W1msrK1lurWeQSJH5m8IkaI7L5hIIO3qdvJrkoPBviCPwn4iji0e5Se41+21G0tbrUVuJpoozASDK8jfP+7YfM2M8Zxg1o654V1zXbnxNeQ2BtXvrbTZbSK4mjy0sEjSNG2xmAPQZzjngmqsrfd+S/W4df67/5HRr49s0stXl1HTNS0640mz+3T2VykfmtDhiGTY7Ic7WGNwII5xUuieNrXWtYj046bqOnzXFn9ttTexoq3EOQCy7XYggsuQwU8jiuZ1TQ/EHiZvFGpy6LLpsl34fbS7OzuLiFpJZDvYklHZFGWUDLeucVs22hajH458Pag9vi1s9DmtJ5N6/JKzQkLjOTwjcjjjrRFJvX+tJf5L77BLbT+vh/zf3HY0UUVIBRRRQAUUUUAFFFFABRRRQAUUUUAFFFFABRRRQAUUUUAFFFFABRRRQAUUUUAFFFFABRRRQAUUUUAFFFFABRRRQAUUUUAFFFFABRRRQAUUUUAFFFFABRRRQAUUUUAFFFFABRRRQAUUUUAFFFFABRRRQAUUUUAFFFFABRRRQAUUUUAFFFFABRRRQAUUUUAFFFFABRRRQBDLZ209zDcTW8Uk9uWMMroC0eRg7T1GRwcVNRRQAUUUUAFFFFABRRRQAUUUUAFFFFABRRRQBA1lavfJevbQtdxxmNLgxgyKhIJUN1AJAyPYVPRRQAUUUUAFFFFABRRRQBDdWdtf2/kX1vFcw7lby5kDrlSCpwe4IBHoRS3dpb39pLa31vFc28ylJIZkDo6nqCp4I9qlooAQAKoCgAAYAHaloooAKKKKACiiigAooooAKKKKACiiigAooooAKKKKACiiigAooooAKKKKACiiigAooooAKKKKACiiigAooooAKKKKACiiigAooooAKKKKACiiigAooooAKKKKACiiigAooooAKKKKACiiigAooooAKKKKACiiigAooooAKKKKACiiigAooooAKKKKACiiigAooooAKKKKACiiigAooooAKKKKACiiigAooooAKKKKACiiigAooooAKKKKACiiigAooooAKKKKACiiigAooooAKKKKACiiigAooooAKKKKACiiigAooooAKKKKACiiigAooooAKKKKACiiigAooooAKKKKACiiigAooooAKKKKACiiigAooooAKKKKACiiigAooooAKKKKACiiigAooooAKKKKACiiigAooooAKKKKACiiigAooooAKKKKACiiigAooooAKKKKACiiigAooooAKKKKACiiigApksscELyzyLHHGpZ3dsKoHUknoKfTJ4Irm3kguEWSKRSrowyGB6g0AZX/CXeG/+hh0r/wADY/8A4qtgHIyOleV6f4a0V/jJq2nvpVq9nFp6yR25iGxW+TkDpnk/nWinj/VLTWtPttUg0uNby8+ymxgnD3FuCcK7kMRj2wK9CeEUrKjrpfW3U4I4mUeZ1bJJ20ud5Df2lzcz29vdQyz25AmijkDNET03Acj8aHvrSO+Sye6hW6kUukBkAkZR1IXqRxXla6tquh+KvHWo6TDaSrbSQyTC5LcqAeFA74J5J7dDWp/aC6n8VvDGoIpRbnR2mCn+HcrHH60PB21vpa/z5eYf1vdW1vb5c3Kej1HPPDbQtNcypDEgyzyMFVfqTXmifFW4aZLxhpf2B777L9kEx+1qmceaRnGPbH413XiLQ7LxBpLWeprM9urCUpE2C5XkD3+lYVMPKjKPtdE/6ZvCvGrdU9Wv6X5Fyy1Gy1KEy6deW93GDgvBKrqD9QaW6v7Ox8v7ddwW3muEj86QJvY9hnqfavP/AIdG2uPGniK60+zOlWzLCi6dJGIpEwPvGMfd7/nUHxQ0iKPXNC1Zppnml1GGBY2f5I1HJwPUnqfat/qsfrCpN2uv0vYw+sy+ruqldq/4Ho17qVjpqK+o3lvaKxwrTyqgJ9Bk1YR1kjV42DowyrKcgivLvFNyJPilcxXOinW4bfRiRa7lAQFss+W6cccc9MV23gyfS7jwhYS6DC8FgyHy4ZHLNH8xyuSSeDnvWVTD+zpRqd/u1v8APp2/I0hX56rp9v0t8uv9XNyiiiuQ6jKm8R2UE8kTwakWjYqSml3LqSDjhhGQR7g4NM/4Sew/599V/wDBRdf/AButiitL0+z+/wD4Bnap3X3f8Ex/+EnsP+ffVf8AwUXX/wAbo/4Sew/599V/8FF1/wDG62KKd6fZ/f8A8ALVO6+7/gmP/wAJPYf8++q/+Ci6/wDjdH/CT2H/AD76r/4KLr/43WxRRen2f3/8ALVO6+7/AIJj/wDCT2H/AD76r/4KLr/43R/wk9h/z76r/wCCi6/+N1sUUXp9n9//AAAtU7r7v+CY/wDwk9h/z76r/wCCi6/+N0f8JPYf8++q/wDgouv/AI3WxRRen2f3/wDAC1Tuvu/4Jj/8JPYf8++q/wDgouv/AI3R/wAJPYf8++q/+Ci6/wDjdbFFF6fZ/f8A8ALVO6+7/gmP/wAJPYf8++q/+Ci6/wDjdH/CT2H/AD76r/4KLr/43WxRRen2f3/8ALVO6+7/AIJj/wDCT2H/AD76r/4KLr/43R/wk9h/z76r/wCCi6/+N1sUUXp9n9//AAAtU7r7v+CY/wDwk9h/z76r/wCCi6/+N0f8JPYf8++q/wDgouv/AI3WxRRen2f3/wDAC1Tuvu/4Jj/8JPYf8++q/wDgouv/AI3R/wAJPYf8++q/+Ci6/wDjdbFFF6fZ/f8A8ALVO6+7/gmP/wAJPYf8++q/+Ci6/wDjdH/CT2H/AD76r/4KLr/43WxRRen2f3/8ALVO6+7/AIJj/wDCT2H/AD76r/4KLr/43R/wk9h/z76r/wCCi6/+N1sUUXp9n9//AAAtU7r7v+CY/wDwk9h/z76r/wCCi6/+N0f8JPYf8++q/wDgouv/AI3WxRRen2f3/wDAC1Tuvu/4Jj/8JPYf8++q/wDgouv/AI3R/wAJPYf8++q/+Ci6/wDjdbFFF6fZ/f8A8ALVO6+7/gmP/wAJPYf8++q/+Ci6/wDjdH/CT2H/AD76r/4KLr/43WxRRen2f3/8ALVO6+7/AIJj/wDCT2H/AD76r/4KLr/43R/wk9h/z76r/wCCi6/+N1sUUXp9n9//AAAtU7r7v+CY/wDwk9h/z76r/wCCi6/+N0f8JPYf8++q/wDgouv/AI3WxRRen2f3/wDAC1Tuvu/4Jj/8JPYf8++q/wDgouv/AI3R/wAJPYf8++q/+Ci6/wDjdS3fibQdPvzY3+t6da3YXebea7jSTb67Sc496W18RaJfbfsOsafc75jbr5N0j7pQu4oMH723nHXHNF6b6P7/APgBap3X3f8ABIf+EnsP+ffVf/BRdf8Axuj/AISew/599V/8FF1/8brYoovT7P7/APgBap3X3f8ABMf/AISew/599V/8FF1/8bo/4Sew/wCffVf/AAUXX/xutiq739nFcNBJdwJMkZlaNpAGVB1Yjrjnr0pXp9n9/wDwAtU7r7v+CZ//AAk9h/z76r/4KLr/AON0f8JPYf8APvqv/gouv/jdakFxDdW8dxaypNDKoeOSNgyup5BBHBHvTZbu2gnhgnuIo5bglYY3cBpCBkhQeuAM8U70+z+//gCtU7r7v+CZv/CT2H/Pvqv/AIKLr/43R/wk9h/z76r/AOCi6/8AjdaVzeW1mqNd3EUCu4RTK4UMxOAoz1JPapqL0+z+/wD4A7VO6+7/AIJj/wDCT2H/AD76r/4KLr/43R/wk9h/z76r/wCCi6/+N1pXN5bWao13cRQK7hFMrhQzE4CjPUk9qmovT7P7/wDgBap3X3f8Ex/+EnsP+ffVf/BRdf8Axuj/AISew/599V/8FF1/8brYoovT7P7/APgBap3X3f8ABMf/AISew/599V/8FF1/8bo/4Sew/wCffVf/AAUXX/xutiii9Ps/v/4AWqd193/BMf8A4Sew/wCffVf/AAUXX/xuj/hJ7D/n31X/AMFF1/8AG62KKL0+z+//AIAWqd193/BMf/hJ7D/n31X/AMFF1/8AG6P+EnsP+ffVf/BRdf8Axutiii9Ps/v/AOAFqndfd/wTH/4Sew/599V/8FF1/wDG6P8AhJ7D/n31X/wUXX/xutiii9Ps/v8A+AFqndfd/wAEx/8AhJ7D/n31X/wUXX/xuj/hJ7D/AJ99V/8ABRdf/G62KKL0+z+//gBap3X3f8Ex/wDhJ7D/AJ99V/8ABRdf/G6P+EnsP+ffVf8AwUXX/wAbrYoovT7P7/8AgBap3X3f8Ex/+EnsP+ffVf8AwUXX/wAbo/4Sew/599V/8FF1/wDG62KKL0+z+/8A4AWqd193/BMf/hJ7D/n31X/wUXX/AMbo/wCEnsP+ffVf/BRdf/G62KKL0+z+/wD4AWqd193/AATH/wCEnsP+ffVf/BRdf/G6P+EnsP8An31X/wAFF1/8bqze67pGm3K2+o6rZWk7jcsU9wiMw9QCc1dR0ljWSNldGAZWU5BB7g0Xp9n9/wDwAtU7r7v+CZP/AAk9h/z76r/4KLr/AON0f8JPYf8APvqv/gouv/jdbFFF6fZ/f/wAtU7r7v8AgmP/AMJPYf8APvqv/gouv/jdH/CT2H/Pvqv/AIKLr/43WxQTgZPAovT7P7/+AFqndfd/wTH/AOEnsP8An31X/wAFF1/8bo/4Sew/599V/wDBRdf/AButO2u7e9h86zuIriLcV3xOGXIOCMjuCMUlxd21p5f2q4ih81xHH5jhd7HgKM9SfSi9Ps/v/wCAFqndfd/wTN/4Sew/599V/wDBRdf/ABuj/hJ7D/n31X/wUXX/AMbrSgu7a6aZba4imaB/LlEbhjG+AdrY6HBHB9aW6u7extZLm9nit4Ixl5ZXCKo9STwKL0+z+/8A4AWqd193/BMz/hJ7D/n31X/wUXX/AMbo/wCEnsP+ffVf/BRdf/G61nlSOIySOqxqMl2OAB65ptvcQ3VvHPayxzQyKGSSNgyuD0II4IovT7P7/wDgBap3X3f8Ey/+EnsP+ffVf/BRdf8Axuj/AISew/599V/8FF1/8brXZlRCzsFVRkknAAplvcwXduk9pNHPC4ykkThlYexHBovT7P7/APgBap3X3f8ABMv/AISew/599V/8FF1/8bo/4Sew/wCffVf/AAUXX/xutiii9Ps/v/4AWqd193/BMf8A4Sew/wCffVf/AAUXX/xuj/hJ7D/n31X/AMFF1/8AG62KKL0+z+//AIAWqd193/BMf/hJ7D/n31X/AMFF1/8AG6P+EnsP+ffVf/BRdf8Axutiii9Ps/v/AOAFqndfd/wTH/4Sew/599V/8FF1/wDG6fD4jsp544kg1INIwUF9LuUUEnHLGMAD3JwK1aKV6fZ/f/wAtU7r7v8AghRRRWZoFFFFABRRRQAUUUUAFFFFABRRRQBytt4XvIviNqevPNCLS7shboqsfMVvl5IxjHynvXN2nw11e1t9It/P00rpupi7MoDiSdN2fmO373bHT3r06iuuOMqw28l9235nNPC053v5/jb/ACPPNQ8D69NeeJ2srnT1g11o1AlL7kQdTwvXk8c/UVpweDbm18W6FfwzQtZaZp32NgxIkc7SAQMYxz612FFJ4uq1byt+FvyD6tTu353/AB5vzPPtO8C65pbCws77T49MF4bj7R5O65KE8x4I249811XiXT9U1HSfL0LUPsF4kiukhztYDqrY7GteipniJzkpStdeX5lxowinFbPz/I4rTPDHiK2vtY127u9OOuX0CwwpCri3j2465+Y9B2qx4r8M6n4isdDVZrVbixu4ri5LMwVto+bbgHv0ziutop/WZ86npdf8MT9XhyOGtnucb4j8Kavc+JDrXhy6sop57I2Vwl4rFdhOdy7f4vr6VueF9CXw14as9JSXzvs6ndJjG5iSxOPTJNa1FTKvOVNU3sv6X5spUYKp7Rb/APDf5IKKKKwNgooooAKKKKACiiigAooooAKKKKACiiigAooooAKKKKACiiigAooooAKKKKACiiigAooooAKKKKACiiigAooooAKKKKAPOdYuZbX4/aZJBYz3rHw9OPLgaMMB56c/OyjH41YvtevLKbQbufQra1uNX102k6XS7pIgBIqyKVJG4pGOQSOa6GbwpBN43g8UG/vFu4bRrRYFMfleWzBiCNm7OQOd1P1/wzb+IbjS5rm8urc6ZdreQi3KYaRQQN25WyMMeBimtFFdv/km/wAhy15vT/2235nM23i3xXer4iubOw0+aDRL2e1FrEkjT3GyNWUqdwGcscjHI4GD1z9c8bXmqeE7XUPDutWjxy65ZWjPDbOkiK0iB45EZtyNnII4yPTrXXaf4Nt9Nt9Yig1LUCdXumu5XZow0chCjKYQY+6ODmodS8AaZqkF4Li5u0uru5t7p7yIxrKskBBjIGzZwR3U5zz2wRsnG/8Adv8AK1/1E+tvP/gF7xPr48MeGZdSnRZ5VaOJFHyK8sjhF9cDcwz1wPWuMdb+0+MmoS3Rsbif/hFy48uBo0bE3RgWYnp69OK7rWPD9lr/AIdm0bVvMuLaZArsXw+QQQwI6MCAcjvWPbeA4odVfUp9e1e8vXsDp7TXDQZ8rcW6LEBnJ64+ual339fxTX5j0tb0/Bp/kjG0nxtqY0vwTqN1Bp9po2t24juBFCw+zTGPdGqnfgIcFeR1x61cu/EepW994RN5aWEv9sX0kYkMLK8EZikdCoLHDFVAPPc8VpJ4C0g+BLXwleGe9021SJIzOV8zEbBlyVUDsO1XNZ8MW+tanpF9Nd3UD6RcG4gjg2BWYoyfNuUkjaxHBFaSa5nbv+BCvy/L8Tz7xbrNx4p8KaFrcX2VNPk8R2iwRmImbYt0EDb92BkrnG3ocZ4rpbfxV4h1W9+06FpMd1pcWpPZTq2xXCI5jeUOZR0YE7NmSB15p0nwx01ovssOq6rb6et+uoRWEckXlQzCTzMqTGWwW52liOeAKvW3gWxtNZu722v9Rjtryb7Rcaasy/ZpJTjLldu4EkZIDBT3FTGyVvO/4R/yf9bVLXb+t/8ANf1vxXi3WbjxT4U0LW4vsqafJ4jtFgjMRM2xboIG37sDJXONvQ4zxXrdcXJ8MdNaL7LDquq2+nrfrqEVhHJF5UMwk8zKkxlsFudpYjngCu0HAHOfc0K3Lbzv+C/yB/F/XdhRRRSAKKKKACiiigAooooAKKKKACiiigAooooAKKKKACiiigDzDxGur+ENf1zxDHYR+I/C+qqv9qW0ZBuLPy02MVB4dMDleoOfetT/AISm7mWDSvAkMd75GkQ3sUs6hxIj7liXmSMjOw5bnHHFbF14NiuRqUcesapbW2qOz3NvC8ew7lCsFLIWQEDnaQeSevNR3ngLTZb3T7vS7u+0WewthZo+nSKvmW46ROGVgVHY4BHODQtrPy/J/k9vn6De9/63X5q9/kQQ+I9b1W8uNM0+0tdP1Wz06G6uYLz98qzShtsQKOBgFDlsnqMClt/EOtapqmoaXYx2NpfaXaQSXSzI8ytPKpbYpDL8ox97nOegxzNd+BNPl1e21OwvtR0q7hgFvJJZTgfaYgSdsm9W3ckndw2Seeasv4Rs11Nr/T7m6064ktltZmtmQ+dGudu7ercjJwwweTyaHre39b/1/WqX9fh/wf625PTviHrfiW70+DRLfT7IXuiSaiXu0eYxSJIIymFZdwznnI7H2N/w/wCObnxXb6Ja2cNtbXmo6R/aVz5yGWONdwTaFDKTlieSeAO+a1YPAmm2erW9/YXN3a/ZtNOmQwRmMxpESGJ+ZCS2QDkmqln8NdP0210dNM1TVLS60e3NrBexvEZXhJBMbhoyjDIB+7kdjT0/r/t7/wC1+4Nen9bf8EqfB8mH4bqZtgMd/fb9gwoxcyZwPSsLxDq914n0/wAD6/i1Sxu/ENu9vEIj5qIS4Ul92MkDJAUdQMnGT6D4Z8NWvhbRjpljPcTwedJNm5ZWbMjl25AHGWNYcfww06FLS3g1bVorCwvlv7OxWSIxW0gLHCkxlyuWPyliB2xTv76fmn9z1B6xku9/xvYzLnxbrtvpvjK50iw01Z9B1FQ6CB2+0ReXG8jHDAmTaxwf9kDFXvEniq5Twb4h1uwj0/UNOsbNZYEnhYrM2ze2Tuwy4ZMDA5zzxW9o/ha10a+1i6S6ubk6xP59wlxsKhtgT5Qqjjao4OaqyeA9JPgCTwdaNcWelyQtATAV8zaxJbllIycnnFT9m3kvvtqNfFfzf3X0MvU9futet9d0mwFpGNP0xJbo3ELSB3ljZgigMMAAZyc9RxxWJ4P8R6uPBOg6J4ZtIp7218O2t25mRWVt6lUTBljxkoctzjjiuqufANnNfPeW2qalZTz2i2d41u8Q+1xqCF3hoyAQCfmXaeagh+G2n2iaUdN1XVrC40u0WxS5t5ow81uOkcmUKsB2IAI5warTXzt+HN/mv63lbK/9bf5P+tmt4h1LW7m60RbO30+9ttKjur+K7X7QEeUMBENjgHGxstkjpgU74Sf8ki8Nf9eKVbufAthJqkeo6dfX+l3IthazPaSIftMQJIWTzFfJySdww3J5rS8N6Bb+F/DtnotjNPNbWcYjia4Kl9o9SoAP5UXVn52/X/NB2/rov1TNSiiipGFFFFABRRRQAUUUUAFFFFABRRRQAUUUUAFFFFABRRRQAUUUUAFFFFABRRRQAUUUUAFFFFABRRRQAUUUUAFFFFABRTJpY4IHlndY4o1LO7HAUDqSa47wVpfhKadfEXh200pHvI3S2mtI4xJJGGG9nYfMzk4LZJI4B5zkWrDodpRRRQAUUUUAFFFFABRRRQAUUUUAFFFB6c9KAMk68sutTabYWst49q0a3ckbKFgL8gckZIGGIHQEdc4q2upRSas+nwhpJYkDzsv3Ygfug+5wePTk44zyXww021Gj32uR2cEMurajc3CPHGoPk+ZsjAI7FEU/jUOhXdrptj47uPE0ywwR6rO1zI7FcQmGPZz/ALmAMUeva/5afiHX52/PX8Dtr67FjZvcvG7xxjdJsGSq92x3x1wOfTPSpYZo7iBJoHWSKRQyOpyGB5BBrmPCGieHNNtZr/RLLSbRtQhSZ10+ONEEPOwfIPmHX5u5z2wAz4WicfDTSftHTY/k9f8AU+Y3lf8Ajm2nbcV76nW0UUUhhRRRQAUUUUAFFFFABRRRQAUUUUAFFFFABWH4l8S/8I7LpKtZtcDUtQjsQwkCiIvn5j3PAPH8q2pCwibywC+DtB9a8J/tTSr3RvBz6lJbr4ot/EUJ1ZZcC5ifdJuL5+YJwMZ4wBjpQtZJea/Fg9It+T/I9d1TxE2g+G9U1nW7L7PDYGRkSOYSGZB91ugwW9O1Z0/i3VYNTTSTodu2q3EU1xawjUP3c0UYTLb/AC8qSzhcFexOcV5nrM2myfDD4lKZraVU1yQw75A+OIgMZP1H511d3BoY+NHhpLeLT9raNdMqoqYLb4Sp479cfjTir281/wC23CWl/Jv80j0qFneFGlj8t2UFkznaccjPen15D4U/sfUtQtZ9W1G9h8WafdzfbrSNY0kILMreY2wMYNpDAlsYC4OQBWVodvaQfB+PXrBHmuhfNFqVzbN5s32P7azSDB3ZXbzjB4z6mjfX+tf0DbQ9zorxPxHD4ct/CMlz4b1ee5sL/WtPcskiR2qt5yq4i8tUAJUZYDI78HNLd3S6Lqvji08PKq6bbX+mz3NpYDO2Bgv2llRfUD5scnnvQl/X3fhr+Aen9b/5HtdFeVa9daBHoMmseE3kfRrq+tW1aawXdAIFyrFUwV4+XeAv3RzTm0/SV8Nynwjr4FvdanHc2s17HG2nNNsOYgqBR5Z25OOjkEc5FL+vy/z+dg/r8z1Oiuc8CXTXfhSJn02PTXSaZHghffEWEjbmjbAzGTkrx0NdHTaswCiiikAUUUUAFFFFABRRRQAUUUUAFFFFABRRRQAUUUUAFFFFABRRQenFAGH4q8S/8IxaWVw1m10t3fQWfyyBfLMrhAxz1xnoKk1LXn0XStZ1TWLT7PY6ajSxyJKHaeNUDE7cDac5XBz0z3rx/UNT0688L6YNae3XxZb+JoGvo5sC4jH2vg8/MI9m3B+7gCpvEtxp0ml/F6Np7eULHC0KvIGw32Yfdyeu4np3Jo+w36/lH/NlK3Ol/W7/AMj0WTxfqcV9a6e+i24v9QV5LCP7f8k0aRh2LN5eUILBcbT1zmuotZJZbSGS5h+zzOgaSLeG8tiOVyODjpmvL7yDQv8AhZfgJY4tO2SafdnCqmGOyPb9TnOPfNQeHxpWp6+P7a1G+g8W6fq0zvawpGs0kZkYLljHua3MZX+LAAHOQKq2tv60dv8AhzNP3b/1qrnrlFeGWNtbN4L8Ua3piPdalZ69cxtPbyGWeOzNwnmqg54ManAx2qx4nTw1F8L/ABVqPhXV5rm0vYIiWiMcVrHIGC4QRqgDkH5gM9BnB6papP0/G3+f3l21t5tfc7HtdFeL6tIdI8TeL7bwcFWSXQLW6aCyb55X81xI6gcmQx/xdTxV7W77w7N4dn1zwR5z27G1j1RtOQ7EtlmBkDR4IMgUtuGCdoIPbJ2/ry+4n+vwT+/U9aoryv7BoT+G9Ql8JeImW1vry3niuJo4m09ZweECoqDa20bwO5B4Oa67wFdSXPhx/tGmwafNFdSxyJaPvt5HDZZ4jgZQkn6HI7UW3/rt/mF/6+//ACOmooopDCiiigAooooAKKKKACiiigAooooAKKKKACiiigAooooAKKKKACiiigAooooAKKKKACiiigAooooAKKKKACiiigAorKmt/EDTyG31PTUiLEor6dIzKueASJxk474H0FM+zeJf+gtpX/grk/8AkitOSP8AMvx/yM+eX8r/AA/zNgjPWqcOj6dbag99b2UEV1JnfKiAMScZP1O1cnqdo9BVP7N4l/6C2lf+CuT/AOSKPs3iX/oLaV/4K5P/AJIp8kf5l+P+Qc8v5X+H+ZsUVj/ZvEv/AEFtK/8ABXJ/8kUfZvEv/QW0r/wVyf8AyRRyR/mX4/5Bzy/lf4f5mxRWP9m8S/8AQW0r/wAFcn/yRR9m8S/9BbSv/BXJ/wDJFHJH+Zfj/kHPL+V/h/mbFFY/2bxL/wBBbSv/AAVyf/JFH2bxL/0FtK/8Fcn/AMkUckf5l+P+Qc8v5X+H+ZsUVj/ZvEv/AEFtK/8ABXJ/8kUfZvEv/QW0r/wVyf8AyRRyR/mX4/5Bzy/lf4f5mxRWP9m8S/8AQW0r/wAFcn/yRR9m8S/9BbSv/BXJ/wDJFHJH+Zfj/kHPL+V/h/mbFU9T07+0rdIheXVptbcWtnClhtIwcggjnP1ANU/s3iX/AKC2lf8Agrk/+SKPs3iX/oLaV/4K5P8A5Ipezi/tL8f8g9pL+V/h/maNlZ2+nWMFnZRLDb28axxRr0VQMAflTP7OgGpNfICk0iBJduMSgZ27h7ZOD15qj9m8S/8AQW0r/wAFcn/yRR9m8S/9BbSv/BXJ/wDJFPkTd3Jfj/kLnf8AK/w/zJD4b0tYJ4ba1S0S5G2f7OoTzFySVyOgJZicY5YnqTWlHGkUaxxKqIgCqqjAAHQAVk/ZvEv/AEFtK/8ABXJ/8kUfZvEv/QW0r/wVyf8AyRRyR/mX4/5D55fyv8P8zYorH+zeJf8AoLaV/wCCuT/5Io+zeJf+gtpX/grk/wDkijkj/Mvx/wAg55fyv8P8zYorH+zeJf8AoLaV/wCCuT/5Io+zeJf+gtpX/grk/wDkijkj/Mvx/wAg55fyv8P8zYorH+zeJf8AoLaV/wCCuT/5Io+zeJf+gtpX/grk/wDkijkj/Mvx/wAg55fyv8P8zYorH+zeJf8AoLaV/wCCuT/5Io+zeJf+gtpX/grk/wDkijkj/Mvx/wAg55fyv8P8zYorH+zeJf8AoLaV/wCCuT/5Io+zeJf+gtpX/grk/wDkijkj/Mvx/wAg55fyv8P8zYorH+zeJf8AoLaV/wCCuT/5Io+zeJf+gtpX/grk/wDkijkj/Mvx/wAg55fyv8P8zYorH+zeJf8AoLaV/wCCuT/5Io+zeJf+gtpX/grk/wDkijkj/Mvx/wAg55fyv8P8zYorH+zeJf8AoLaV/wCCuT/5Io+zeJf+gtpX/grk/wDkijkj/Mvx/wAg55fyv8P8zYorH+zeJf8AoLaV/wCCuT/5Io+zeJf+gtpX/grk/wDkijkj/Mvx/wAg55fyv8P8zYorH+zeJf8AoLaV/wCCuT/5Io+zeJf+gtpX/grk/wDkijkj/Mvx/wAg55fyv8P8zYorH+zeJf8AoLaV/wCCuT/5Io+zeJf+gtpX/grk/wDkijkj/Mvx/wAg55fyv8P8zYorH+zeJf8AoLaV/wCCuT/5Io+zeJf+gtpX/grk/wDkijkj/Mvx/wAg55fyv8P8zYorH+zeJf8AoLaV/wCCuT/5Io+zeJf+gtpX/grk/wDkijkj/Mvx/wAg55fyv8P8zYorH+zeJf8AoLaV/wCCuT/5Io+zeJf+gtpX/grk/wDkijkj/Mvx/wAg55fyv8P8zYorH+zeJf8AoLaV/wCCuT/5Io+zeJf+gtpX/grk/wDkijkj/Mvx/wAg55fyv8P8zYorH+zeJf8AoLaV/wCCuT/5Io+zeJf+gtpX/grk/wDkijkj/Mvx/wAg55fyv8P8zYorH+zeJf8AoLaV/wCCuT/5Io+zeJf+gtpX/grk/wDkijkj/Mvx/wAg55fyv8P8zYorH+zeJf8AoLaV/wCCuT/5Io+zeJf+gtpX/grk/wDkijkj/Mvx/wAg55fyv8P8zYorH+zeJf8AoLaV/wCCuT/5Io+zeJf+gtpX/grk/wDkijkj/Mvx/wAg55fyv8P8zYorH+zeJf8AoLaV/wCCuT/5Io+zeJf+gtpX/grk/wDkijkj/Mvx/wAg55fyv8P8zYorH+zeJf8AoLaV/wCCuT/5Io+zeJf+gtpX/grk/wDkijkj/Mvx/wAg55fyv8P8zYorH+zeJf8AoLaV/wCCuT/5Io+zeJf+gtpX/grk/wDkijkj/Mvx/wAg55fyv8P8zYorH+zeJf8AoLaV/wCCuT/5Io+zeJf+gtpX/grk/wDkijkj/Mvx/wAg55fyv8P8zYorH+zeJf8AoLaV/wCCuT/5Io+zeJf+gtpX/grk/wDkijkj/Mvx/wAg55fyv8P8zYorH+zeJf8AoLaV/wCCuT/5Io+zeJf+gtpX/grk/wDkijkj/Mvx/wAg55fyv8P8zYorH+zeJf8AoLaV/wCCuT/5Io+zeJf+gtpX/grk/wDkijkj/Mvx/wAg55fyv8P8zYorH+zeJf8AoLaV/wCCuT/5Io+zeJf+gtpX/grk/wDkijkj/Mvx/wAg55fyv8P8zYorH+zeJf8AoLaV/wCCuT/5Io+zeJf+gtpX/grk/wDkijkj/Mvx/wAg55fyv8P8zYorH+zeJf8AoLaV/wCCuT/5Io+zeJf+gtpX/grk/wDkijkj/Mvx/wAg55fyv8P8zYorH+zeJf8AoLaV/wCCuT/5Io+zeJf+gtpX/grk/wDkijkj/Mvx/wAg55fyv8P8zYorH+zeJf8AoLaV/wCCuT/5Io+zeJf+gtpX/grk/wDkijkj/Mvx/wAg55fyv8P8zYorH+zeJf8AoLaV/wCCuT/5Io+zeJf+gtpX/grk/wDkijkj/Mvx/wAg55fyv8P8zYorH+zeJf8AoLaV/wCCuT/5Ip8Nv4gWeM3Gp6a8QYF1TTpFZlzyATOcHHfB+hpckf5l+P8AkHPL+V/h/matFFFZmgUUUUAFFFFABRRRQAUUUUAFFFFABRRRQAUUUUAFFFFABRRRQAUUUUAFFFFABRXK3+kW2p+J3uU1DU1NkySXPkanPFEmACsXlI4Q5+8xYE4OO4wzw94vn1a70ZbmOJYtb0+S/thGpDRKrJ8rEk5JWReRjkH1ppX/AK/rswOtorn/ABbql9pdrbvp119nZ3IY/wBhXWp5GP7tuylPqeDXMJ4t8QGRQdVyCRn/AIt/qw/Uy8Ulq7A9D0eiq17Lbx2MhvJvJiKHc4cxkDGTgg5B47c15t4R1y6t9BsDfahdXWttqMmjrHezORGglOHkj3fM/lpnceSWxkChauwbK/8AXc9SorJ8O6vJq9ndG4VFns7yW0l8sEKxRsBgD0yMHGTjOK1qACiiigAoorI8WX8eleD9W1CUuFtbSSX925RsqpIwQQRyO1KTsrjirtIB4lsJPtRgE88dskrPNHCTGTEcOof7u4E4xnkg46HE2gayniDRLXVILW4toLuJJoRcbNzIyhgcKzY4NYGg6F/wj3wmSxdpWnXSyZzJKz5kMZLn5icZYk8VU0WGC5+Efha3uJ7qNpbG1WKK0vHtnnfyhhPMjIYD+I4PRe44q2rcy7W/G/8AkSndJ97/AKf5nd1kXPiKG08UWOhz2d0s1+srQT/IYmEYBbPzbh94fw1zU+sz+EbTUdOtJXvBoemDUrqS+mlnkm3u52K7uWHEb4yWxlfQ5sa3Ks3xO8Fyp917e+YZ9DHGaVtUPVb/ANbf5naUVheK9TvdL0+GXTrn7O7S7Wb+xLnU8jB42QMrL/vHjt3rlB4u8QZ/5Cv/AJj7Vv8A47SWrA9IqlqOrWumeStwXaW4YpDDEhZ5SAWOAPQAmrcZLRIWOSVBJ2lf0PI+lcStimrfGi5ndrjy9H0uNVxcSBRLM5JwAcD5YlyOh3c0dbB0uddJqVvDYxXUpdEm2+WjRkOxbouwjO72xmrVchqk0z/F3QLSX/j0TTbu4jB6GYNEmfqEdv8Avo1l6tdCT4ow2J1e9h0jUNNkE4iu3RPPjZWURuG+RikmTsxkKvvT7ed/wv8A5fkG3ysegu2yNnwzbRnCjJP0pltcw3luk9tIJInGVYf54PtXL6H4tuNRutHM0cItdZiuHttitvj8thtDEk5ynJ4GCO9N8HTTDxZ4ysxn7Hb6lG0PPCs8EbSAf8COfqxoWv8AXnYDr6KKKQBRRRQAUUUUAFFFFABRRRQAUUUUAFFFFABRRRQAUUUUAFFFFABRRRQAUUUUAFFFFABRRRQAUUUUAFFFFABRRRQAUUUUAFFFFABRRRQAUUUUAFFFFABRRRQAUUUUAFFFFABRRRQAUUUUAFFFFABRRRQAUUUUAFFFFABRRRQAUUUUAFFFFABRRRQAUUUUAFFFFABRRRQAUUUUAFFFFABRRRQAUUUUAFFFFAGHL4O0OTU5dQjslt7m4ZWuXtmMX2kqwZTIFxvIIHJ57ZwSC/S/DFjpNzBNbtK/2WBra1SQrtt4mYMVXABx8qjnPCj3zs0ULTYAooooAr3VhZ3zQm9tILg28glhM0Yfy3HRlz0PJ5HNU7vw7ptz5jJbR2s8lyl01xbxqkjSpja5OPmOBjnPHFalFAFPS9Mg0m0aC3LtvleaSSQgs7uxZmOMDqewxVyiigAooooAKx9c0OXXdttcXgXTHC/aLXyQTLtcN9/PAOMEYORnp1rYoo63AgvbUXmn3FqzFFmiaMsB0BGM/rWBa+B9Nbw1p2ja1FBqUemRpHZzmExyw7FADKwYlX4HzLtrpqKNv67Ac7N4J0uZJ133Ki6iaG7xID9pRnLlXJBOMs/3cYDEDtie58PNd+K9N1ma6UJpqTJBbxxYyJFUHc245xt4wBW3RQG4UUUUARXUc0tnNHbTfZ5mQiOXYG8tscNg9celUdG0VdLkvbiWX7ReX8wmuZgmwMQoRQFycAKoGM+p71p0UAUNT0mLUZLafd5V1aOXglxnbkbWUjupBwR/IgGiLQtIhhtIYtKso47Fy9qiW6BbdjnLIMfKeTyPU1fooAxbPwxaafcRz2ksu63SZLVJcNHb+Y25sAAE8gdTwOBirulaXDpNs8cJZ5JpWmnmf70sjdWP6ADsAB2q7RQAUUUUAFFFFABRQTgEnt6DNcroXiW58T63f/2czW2n6ddm2PnWcgNyVX958zYC4YhQOvysSDkYN3YOlzqqK4zwl4guJPDupazr+oXE8cGpXdusaW4baiXDRoqpGm9mwAMck/Wui0bXbLXoZpdPF0BDJ5ci3VlNbMrYBxtlVT0I7Uwejt8jRoorF1fxZpWh3Ytr/wC3GQqrE22nXFwqBjhdzRoyrkjuRSA2qKQ/PGdpK5HBA5H51y/hHUtQu9e8UWWoXsl3Hp2oJDbtIiKyoYI3I+RVz8zHrQtX/X9dQ6XOpooooAKKK5TS/E1x4j8R6jbaWzW1npc6QO01lJ/pD4DSLk4C4DKB3zk4Io62Dpc6uiuZF9P4Y8Mve6tJNdX15dZjgkkziWaTbHAp5CqMqvHHBNaF3r1lor2Ntrl4sVzdlljfyXWN3ClyA2CF4UkAnPHegDWoqCyvItQs47q3EojkGVE0LxN1xyrgMPxFULbV8eI59EvNouBCLqBwMCWIttPHqpwD/vKe+AdbB0ua1FFFABRRRQAUUUUAFFFFABRRRQAUUUUAFFFFABRRRQAUUUUAFFFFABRRRQAUUUUAFFFFABRRRQAUUUUAFFFFABRRRQAUUUUAFFFFABRRRQAUUUUAFFFFABRRRQAUUUUAFFFFABRRRQAUUUUAFFFFABRRRQAUUUUAFFFFABRRRQAUUUUAFFFFABRRRQAUUUUAFFFFABRRRQAUUUUAFFFFABRRRQAUUUUAFFFFABRRRQAUUUUAFFFFABRRRQBWv9QttOtXmu5o4lVGcb2A3bVLHHrwCfwrB+HenT6d4FsftsbR3d3vvbhW6rJM5kIPuN2PwroLqxtL4Ri9tYbgRtvTzow+xsYyM9DyeanoXUDzjwrf3+n/AA/1SbSNNn1K5Gt36iK3KblBuny4DsASByBnJOBUl5eWN1rGmJNDJFoMNpdLIb6IoHuSkbKTu6ttaXOed24dRXdwWFnbTvNbWkEMsn35I4wrNznkjrVih6r+u1v68x396/r+ZyHh7V9ZstK8JWGqaZNcTX1kBd3ZmUNbyLGG+dD8xzyCR0OM9am1PWZbfxM0ep6PqA0+2iEtrPFGskdzN3GFJYMBwoYAE5xkgV1G0bt2BnGM4papu8rk9LHK6U8f/C0fECI43f2dZMV3ZIO+fPH5fpVfwWc+MPHGP+gtF/6Sw12LKrqVcBlYYIIyCKhtbK1sUKWVtDbqxyVhjCAn14pX1+VvxX+Q3/X3WOU8S+BP7f1lr77J4Tl3Iq7tV8OfbJuPWTz0yPQY4pnh3wD/AGHrkN/9j8IReWGG7TPDX2ScZBHyy+e23rz8pyOK7WiktNgeu5Dc3cFpGHuZo4gc43sBkgE4HrwCfwrm/hzZzW/g9Lu7RkuNUuJtRkDjDDzpC6g+4QqPwro7uxtL+NY761huUVtyrNGHAPTOD35NT0LqDOV+IFhLdaTp17CrONK1S2vpUXqY0f5zjvhWLY9qo+MrDWfEMFtNpulbxo+pW97brJJCft4VlyUJbCjYz/e2kkDt17imxRRwxiOFFjReioMAfhQtPvv89P8AIHr91vlr/mzzbUm1FtY1JpkSPWTrGnmwQNuZbbEXmBT1K/8AHxu/4FW+9k+ofFqDUISfs+laXLbzMOhlmdGCfULHk/7y+tdZTI4o4VKwxrGpJYhVwMk5J/E007W8v8rf15g9f687j6KKKQBRRRQAUUUUAFFFFABRRRQAUUUUAFFFFABRRRQAUUUUAFFFFABRRRQAUUUUAFFFc1F4tj1PxNc6PoL2V09j5RunkucfePKIFBJZU+Y9slR3JBu7AdLRXM6Jr99qPiPxHBdyWcNho92sC4iYOymBJCzOXwMFz/D0Faek+JdC19pV0LWtO1NoQDILO7SYoD0ztJxR/wAOGxp0UVmav4k0PQGiGva1p+mGbPlC9ukh34643EZxkdPWgDTopsUsc8KSwOskbqGR0OQwPQgjqK53Rdb1G58aa5ot+bV4tPgtpYpIIWjY+b5mQ2XbONgxjFOwdLnSUUUUgCimSyxwQtLPIscaDLO7YCj1JNc/4d8U/wDCUNLd6T9kl0uOSWISCfMrbDtD7QMbWIbGT0APfAAOjork/Cvi1rzwJbeJfFV9pthBOu5nP7iKL5yoBZ3I549Oa6HTNX03WrMXejaha6hbFiomtJllQkdRuUkZoAt0UVlXHinw/aawuk3Wu6bBqTlVWzkvI1mJboAhO7ntxzR5AatFMmErQsLd0STHys6FgD7gEZ/MVg+CtcvPEGhz3WpLAJ4b+6tc26FFZYpmQHBZjkhcnmgOlzoaKKKACiiigAooooAKKKKACiiigAooooAKKKKACiiigAooooAKKKKACiiigAooooAKK53UZvEv/CRwwaZeaWlozKzQTWMksoiGN7mQTKFyeFGw8/jjYtdStL25ure1mEktnII51AI2MVDAc9eCDxR0AtUVn6tqV1p0UbWei32rF2IZLN4FKe582RB+RNZi+J9WLAHwLr6gnqZ9P4/8mqNwOjopkvmtA3kMqSkfKXXcAfcAjP51x/hLxdfax4fg1rWnsbW33vZyxQRO7SXCy+XlCGOFLAgJhj0Oe1AdLnZ0VXsr621G1FxZy+ZEWZc4IIZSQwIPIIIIIPpVigAooooAKKKpazenTtDvb4SRxfZoHmLyIWUBQScgEZ6etJtJXY0m3ZFozxCRkMqB1Xcy7hkD1I9Kg0/VNP1a38/S762vYcA+ZbTLIvPTlSa5XwRpdxH4HttT1pYJtWvLR7mWcQ4kUzAO6liSSPujAwMIoxxVXwZNqEHwV8NyaXc2dpIthCXmvLd51VdvaNXQsxOABuHXv0NuNrp9Lfr/AJCTTSa6nfVUOracNSXTjf2v25gStr5y+aQBkkLnPAI/OqGn6nc2Wn6fF4pubUaleymONba3eNWbBYLtLPg7Rz8xGQeayPEH/JVPB3/XG/8A/QI6nrYDsaKoatqFzp1uklno97qzM20xWbwqyDH3j5siDHbgk+1ZX/CUav8A9CJ4g/7/AOn/APyVQB0lNkkSGMySuqIvVmOAPxpVJZQSpUkZKnqPbiuI1L7brXxXttLM9u+m6ZYfbZYJLcsGkkYxoG+fBO1ZCOOM9DR1sHS52+5du7I24znPGKWuS1O6RvHOh+Foolisfsc17JEgAVhEUSOPH90F84/2RSajr+txePh4bsjp4F3pzXdrPLExMJR9rh1DguDuTGNv8XPFO17W63/C/wDkw2WvT9f+HOtJCqSxAA5JPalrOtda03ULg2cNwssrK/ymNgsgRtr7SRhgCcHBOM1keEdTkk1jxFocjF10e9RIGPURSRLIq/8AASzAewFJagdRRRRQAUUUUAFFFFABRRRQAUUUUAFFFFABRRRQAUUUUAFFFFABRRRQAUUUUAFFFFABRRRQAUUUUAFFFFABRRRQAySWOFN00ixrnGWbAzVd9W06PUhp8l/arelQ4tmmUSFSSAduc4JB/I1yCw3PiL4papbX7WtzpOk2UcP2aS3LKzz5Lg5bBYIqjOOjkY5NWNOGPjRrgUYA0WywP+2s9Na2B7Pyt+n+Z2VFctY6lrtrfXdz4g1HSm0q2Q+Z9lsZY2SUkYQOZW8zAOCQgySABnIHQWWoW2oRyPaSF/KkMcispVkYdQVIBB5B57EGkBZorH8Rz6rb2KSaNdWVq4b52u7V7jfnhURFkj+Ykjkt+HpJZajJbJp1jr1zbnV7pCSttEyxuyjLbQS2AB6t2oDY1KKK5r7X4hj8SSCa/wBJGkw7pLiMWUnmQx4O3M3nbSxxkjy+Bn2JAOguLmC0hM13NHBEvV5XCqPxNJZ3trqNnHd6fcw3VtKMxzQSB0ceoYcGqmma5Ya1HcfYJJS1u/lzRz28kEiHGRlJFVsEcg4we1YHwo/5Jbon/XJv/RjUAdhRXPT+JNViuJI4/BWuzqjFVljmsQrgH7w3XIOD15APtV7SNVvNSaUXmgajpIQDab2S3YSZ9PKlfp7460bgadcj8O4mm03VdZlXD6xqlxcqT3jVvKjP0KRqfxrS8T6j4Zs7e3h8V6tZackrl4PtV8LUuy4yVO5ScbhnHqPWqdv4/wDAVrbR29t4t8OxQxKEjjTU4AFUDAAG7pQtLv8Ar+tAfb+v61MfRryKw1T4iXNzazXkUeoIWtoITK8o+yQ/KEAJOemMVcbxBbN4K1fVNF1COXVF0971n8s5jwH2rtYcBSjLtPIIORkmlt/Fvw5tNTuNQtvFmgRXN0wedk1iMCVgoUFl34JwAM47VJe+NPh5qFhdWd34r8PNBeIY51XVYUMikYILK4PTjrQ9Y28kvuRUWua72ua1x4gj02DRxeW93M2pOkPnQQF0idl4MhH3ATxn1IrP13WtMj8Rw6TqIktY5YDJLcyW7iOdVyfIEuNpOAWK5zgYxycNTx14ASO3QeLfDxFsP3W/VYWKcYzkv1xxn3qST4heBJUKS+L/AA66nqranAQf/Hqb3uiI3Ssx/maofFGny2WptcWFyjvPZ+Sgihh2nY6tt3hy20YLEEbsAYqlof8AyVzxX/15af8A+1qqLr/w2XXn1ceM9N+1OwZlPiUmEkDA/c+d5fA6fLweetWbHxb8OdOvLm7tfFmgC5ugommfWI3eQLnaCWcnAycfWhMLG5qui3+oXQltPE2qaWgQKYbSK1ZCf72ZYXbP4446Uml6Jf2F55134n1XU49pHkXcVoqZ9cxQI2fxxVP/AIWP4I/6HLw//wCDSD/4qj/hY/gj/ocvD/8A4NIP/iqQy/4p1M6N4S1XUVBLW1pJIgHUsFOAPqcVF4R0g6B4J0nS3+/a2ccch9X2/MfzzWNe+LfhxqN3Bc3virw/LJAMJnV4guNwblQ+G+ZVPIOCKvf8LG8Dn/mcvD//AINIP/iqX2Wu/wDwf8w6r+uxy/hXW7fQ/g34fnuYpTvJRZ1tXmS1zI+ZX2g7VUZ5OB05HWtK919oZr+x8OXojh0zSpb1pgiuJ5gx4YsOR8pLY5O/rVjSvFvw50S1+zaX4s0GC3H3YRrEbInJPyqXIXknpimXvif4aagFF14n8OkLG0WE1aJAUYgshCuMqcDIPFN3b/rsPT+vU29P8TQ3uqWumyWV7DcXFgt8srwHySDgFA/Teu4ZHoRWdb6/pF34mu4LovZvZ3CLFBPbPEbiR8IJhuA3jJCBhkDrnkYkXx/4CWbzl8XeHRJsCbv7TgztHb73Slb4heBHdWfxf4dZkOVJ1OAlfp81PS9ydeWxZ8OajeXupeIYLyYSrZaj5EGEC7U8iJ8cdeXbk1mfDH/kWb//ALDWof8ApVJTbfxb8OrVr5rfxfokbahL51wy62mWfaFyD5ny8Ko+XHStbwrf+Fri0mtfB+padeQwyGSZbG7WfY8hLbmIYkFiGOT1waL/AJL9Bv8AW/5/5m7RRRSAKKKKACiiigAooooAKKKKACiiigAooooAKKKKACiiigAooooAKKKKACiiigDnRoGr2uuXd9Y667w30kbSwXUCP5IUjiIqAQpUEYbPLbs9QZNDsbu18SeIrm5t2igvLqKS3csp8xVgRCcAkjlT1xW9RQtBmfq2gaPr8Uceu6TY6nHExaNby2SYIT3AYHBrMX4deCVYMvg7QAQcgjS4eP8Ax2ujoo2EUtS03+0YYovtlzaxo+6RbcqvnLggoxKk7Tn+HB4GCK5q68EJpzRXGiPcyKmrpqJsjIqxqDkOsYwAOpbBJ5HUV2VFGzv/AF/Wgbq39f1qYvhfTbnTrK9a8UxyXl/PdeUWDeWrt8q5HGcAE47k1tUUUeQdbhRRRQAVzvi+wv8AXdKuNBtrUi11CIRT3nmqBEhYBxt+8SUzjGeSM4610VFAEMkAFg9vCoA8oog7DjAritD8J6wvgTw/pUt7caPf6LHHygimguHVcfMOSye2UOcHsK7uinf9Pw/4cOljmNV03V7iXQGlC3sltqxuZ3i2osUXlyqBhiC2N6jjk9cUanpd/f8AxC0LUY7UpZ6bHdLLK7r85kRQu0Ak9VOcgV09FL+v0B6/15t/qUNW0LSdet0g1zS7LUoY23pHeW6TKrYxkBgQDg9ayv8AhXPgj/oTfD//AIK4P/ia6SigCG4aS3sZGs7cTSRxkxQBgm8gcLk8D0rG8P6TcQ6xrGt6hF5NzqUkapCSGMUMabVUkEgksXbg/wAVb9FAdDE1jRnm1zTtbshm7sVkhZMgGWGQDcoJ4DAqrDPHGOM5qsfBVo95p99PqGoS31kz5u2kQSXCsoUpIVUDbwvCheRnuc9JRR0A4jQ/DupafcaGlxA/l6JBdIZBKhN0XYBMc9wMndjBxW94e0VtMfUb26Km91S6NzcbTlUwoREB77VVRnucnvWzRRsAUUUUAFFFFABRRRQAUUUUAFFFFABRRRQAUUUUAFFFFABRRRQAUUUUAFFFFABRRRQAUUUUAFFFFABRRRQAVBezT29nJLaWpu5lGVhDhC/PTJ4H41PRQBheGNHl07+0729XZearetdSpkHy1wERMjjIRFzjjOcVS/sfUYviNqWqJFILO+0yC0S4hdN0Lo8pLFWPTDjHB+ldVRR/X4WDv5/53OFvvB2uJ4di0yLWTqNvZzxXEQmiVJ7jZPHKFdxhSfkcbsDO8Z6ZM7eGNUu4tbmivbvSbjUtTiuoTBMqtEkccafNjcCG8skqOoIGRzjs6KabX9en+SDpYxdb0S91DULC+0/VpbOWxcstuY0eCfIwd4I3ZxkAqwxk8HpVW507VH17w5POv2v7I05urhNqKu6MhflJyeTjgGukopA9TJ07S7u08Qarey6jdTWt55ZhtZpA6QMq4YoMDaDxxk8gnvVCx0LV9GmuDHrEup2cs73Tw3MEfnsSrZiDjau0krgkAqFxkg8dLRQBzOgzagyajf33hzULK9uXVnjmmtmL4G0KmyVhtUDqxBJJOOcVL4C0e70DwLpml6kqpdW8bLIqNuAJYnr+NdDRQBz0/wAP/BtzcST3PhLQpppWLySSabCzOxOSSSuSSe9XtI8NaFoDStoOi6dpjTACQ2VokJcDpnaBnGTWnRRsAUUUUAFFFFABRRRQAUVwmk6f4S1zX7rX9Ei0Z763uZYIr1Y43me5wdzM/wB44GQq56AnptxveHP7SW51OG+v5dRtYpwttczxxo7fKN6/u1VSFbgHGeCDnGaOgPc3aKyNVtvEc10G0TVdLs7fYAY7vTJLhy3c7luIxjpxj8aTS7bxLFebta1bSru22n93aaXJbvu7Hc1w4x7bfxoA2KK4zxTZ+E/EfiS30LWodLu9QW2adkvFSR4IM/MUVs7SxH3h0AzngVDaeIrtLi2ltmC2B1ttKjs0jXasKoQrAgZzld3XG09O9C10/re35g9Nf62v+R3NFFFABRRRQAUUUUAFFFFABRRRQAUUUUAFFFFABRRRQAUUUUAFFFFABRRRQAUUUUAFFFFABRRRQAUUUUAFFFFABRRRQAUUUUAFFFFABRRRQAUUUUAFFFFABRRRQAUUUUAFFFFABRRRQAUUUUAFFFFABRRRQAUUVUm1awt7+Oymu4kuZSAkRb5iTnH57Wx64OOlAFuis7Sde0/XPOOmSyTLBLJDI5t5EUOjFGUMygHDAjjNaNABRRRQAUUjMFUsc4AycDJ/IVQ0vXdP1ma8i0+WR5LGUQ3CSQPE0blQwGHA/hYHj1oA0KKKKACuZ1/xQbLxHpnh+xWUXl/vkkl+zSSLDCgG5hgYJ3Mi+gzk9MHpXdY42eRgiKMszHAA9TXJabGdU+KOp6qpWS10/T4bGCQHILuTLJg/7vlULV/1/W9gewkl9rA+Iul6LNqZWE6PJc3At4EVZplljXPzBiowzcA9+tatt4t0q71oaVB9uNyWdFZtNuFhYp97ExjEZx6hqx7s7fjXp56/8SC44Hf9/FRZa3FMb1vE2m32lXDmSOQXAXy4LZQWDeYjFdhA5IOdxwccU/sp+v8A6U/69A+0/l+SOo1FJX0+byLmS2kVSwkiCkjA/wBoEfpWT4C1O81r4faHqWpzefd3VlHLNLtC72K5JwoAH4CsrwW+gPo2tTeFrywlsJpmlS20+RGhtQYwNuE+VWbaXK8Y3c1a+F3/ACSjw1/2Dof/AEGmlo/l+oPp8/0OrornH8C6S7sxu9fBY5OPEV+B+Qm4rX0vS7fSLP7NaSXcke4tm7vJbl8n/blZmx7ZxUgZnjDxOvhfRlnSCSe6uJktrWNYndWldgq7ioOBzn1IBxzWX4j1HWdOttASLVCrajrMNu8sdosb+SyMSpVw2DleuAeg9cv8Qhdc8aeGLG2dZoLO5m1C5KHcqmJDGqnHQ75On+wfSk+IJxc+E8/9DDb/APoElC+z5tfddf8ABCWz8k/vs/8AgGrf+K9L0W8jsL6TUJZ/kVpItNnnTLHC7nijKKSexI6jjmtp1LxsquyFhgMoGV9xnI/OuYutali8VSx6po+oR2tuqmxmSNZI7mQ8M3ysSGGcAMF43EZ7O0N4/wDhPvEyRupYLakruyQdr5o3Qno7CeC9Sv7668R2+o3j3YsNWe2geREVljEUbAHYoB5Y84zXUVx3gI51Txjjn/ifyf8AoiGuxp9I+i/JB1fq/wA2FFFFIYUUUUAFFFFABRRRQAUUUUAFFFFABRRRQAUUUUAFFFFABRRRQAUUUUAUJ9C0y5uzdy2UX2krtM6DZJ0Kg7hg5AZgD1GTjGai0Tw7p/h+J49NN4UYAYur+e52gdApldto9hgVqUUBuFFFFAFS+0ux1ONU1C0iuAjbk8xASpxjIPUcccduKhj8P6XDfLdxWipKj+YoVmCK+zZuCZ2htvGcZxWjRRsAUUUUAFFFFABRRRQAUUUUAFFFFABRRRQAUUUUAFFFFABRRRQAUUUUAFFFFABRRRQAUUUUAFFFFABRRRQAUUUUAFFFFABRRRQAUUUUAFFFFABRRRQAUUUUAFFFFABRRRQAUUUUAFFFFABRRRQAUUUUAFFFFACH7p5xx1HauJ+GcE91p+pa9dXtxctqmozunmhOYkfyoz8qj+FB0456c10+sJqktqItHNqrybkke4LDYCpAZcA5IbBwcZGeRTtE0m30HQbLSrPJgs4FhQt1IUYyfc9aF1f9f1sD2SOO8EiQ+A9X8q/bTmGsagTdIiu0Q+1PkqGBUnGcZBGex6VqR3up+F/DTX2r3d5rDy3USot2IY5IUkdY1BMUaqSC2Tx3xnjNQab4GP8AYF7omsyF7WbUJ76Keyu5YZFZ5mlUHbj7pI7kEgcVfv8Awvc32hS6fLrM80klxBN59zGH2iJkbaFUqPm8vJPqxOO1P/gfoPTmfq/zOjrm9es9VvdZgi0rxFfaeWVSYLaC3ZFQE7ncyRu3P3QAV5+hIvXXh+3uvFFhrbllubKGSJSjuN6vjKlc7SOM8gnIHIxzWvPCcU2sXGqWWpahY3d1EIbgxXDMjqOmEbKow7FQOpznNLqhdx9vrl9/wlCaVe6YsMFxBJNbXKXG9mEbKG8xNgCZ3gjDNnvg8VleDP8AkcPHH/YWi/8ASWGtSz0vXINfub671SwubaQERQJYPHKq/wAKGUysMA8nCAk/lTPDehXelapr1/fPCX1a8W5WOFiwiAiSPGSBn7meg604/p+q/QH+v6Gb4l8d/wBgay1j9r8JxbUVtuq+I/sc3PrH5D4Hoc80zw74+/tzXIbD7Z4Ql8wMdumeJftc5wCfli8hd3Tn5hgc12tFJabg/IoaxeTWVjut9Hu9YMjeW1vatCGCkHLHzZEUjjGMk8jjrjEtddvrG3WCy+Hmt28K/djhk05FH4C6xXVUUAcnPrN3dTJLdfDnWZpI/uPI+nMV+hNzxVj/AISjV/8AoRPEH/f/AE//AOSq6SoL69g06xmvLtmWGFdzlI2dsegVQSx9AASaAOdudev7yHyrv4e63PHnOyWTTmGfobqnReI9TgiWKDwBr0caDCok2ngKPQAXVamjeILHXlnOni8U27hJVu7Ge2ZWIzjbKik8EHj1rToA5v8A4SjV/wDoRPEH/f8A0/8A+SqP+Eo1f/oRPEH/AH/0/wD+Sq6SigDk7fWry0llktfh1rUMkzbpWjfTlMhyTkkXXJ5PX1p1zrt9exCO8+Hmt3EYOQksmnMM+uDdVoW3i3SrvWhpUH243JZ0Vm024WFin3sTGMRnHqGrao6B1OZj8SapFGscXgHXkRAAqrNp4Cj0A+1UP4l1SWNo5fAWvOjAhlabTyCPQj7VXTUUAYWgXsrzPajwlfaFBtMnmTm0EbNkDGIZnO4jnJGMDr0B3aKKACiiigAooooAKKKKACiiigAooooAKKKKACiiigAooooAKKKKACiiigAooooAKKKKACiiigAooooAKKKKACiiigAooooAKKKKACiiigAooooAKKKKACiiigAooooAKKKKACiiigAooooAKKKKACiiigAooooAKKKKACiiigAooooAKKKKACiiigAooooAKKKKACiiigAooooAKKKKACiiigAooooAKKKKACiiigAooooAKKKKACiiigAooooAKKKKACiiigArM8Q3t/p+h3FxpGnS6ldqAI7eJkDE56/Oyg464zzjFadFA0cDrWqeEn8K+VryQxQEhI11wLAktw67st5mBvU5JPVecdq63QBCvhvT0tr3+0Ikto0S73bvPAUDfu75xnPfNaNFPv5k9jnH8C6S7sxu9fBY5OPEV+B+Qm4rW03TINHsjb2j3cqbi+bq8luXJ9N8rM2PbOKu0Uh77nK6FrEl1qUo1fSNQsNSmlaIRTRhkihALKwdCV2nHJBzuIBxxS/Dt0fwo/lOHVdRvgCGzgfapcfpiupop30sAUUUUgCiiigAooooAKKKKACiiigAooooAKKKKACiiigAooooAKKKKACiiuI0Sa/8UeMNbl1KMJp+lXUdparBeSDEiBZHfAVdxJYKcnopHIJyLV2DZXO3orhPC0KJ4w8d3sVnHcXkWop5XADt/okXyhj0zWvp3iS9jhvrnxXb6Vo9laEKbuPVDLEW/iBZ4owMcDPIycdQafReif3h1OkopkM0VxAk1vIksUihkkRgysD0II6isXxHq2taYI20bSbO/UjDfar9rcs5OFRAsUm4nnrtA9euF5BubtFUoNVs5bwafLd2i6kIxJLZpcK7oOMnHBI5HOB1Fct4btbe0+K/iyO0gjgQ2dg22JAoz++5wKdhX0udtRWRqvi3w5oV0LXW/EGl6dcMgcRXd7HE5U8A4Yg44PPtSaX4v8Na3efZNF8Q6VqFztLeTaXscr7R1O1WJxS3HsbFFRXUrQWksqBCY0LAO21eB3ODj8jXF+CWvdc8KjxNrS7bq/iluIfLuXZVhf7ibMAYChcdeSTwSaTdk32GldpdzuaK4H4f+dpnwc0C40TTbOa7ksYWcTTfZkPy8u8gRjwM/wAJP866fR9XubnSYLnXre00ya4k2RRJdmVZMnCkMyISW6gbc1co2k49ib6XNeiiufu9Y16HxHDZW2jWMtlLJjz5NRZJtgALyeUISNoJxy4ycdM1PWw+lzoKKoW2o6RrsdzBZ3llqKQuYriOKVJQjd1cAnB9jXN/C2NIvCt7HEioiazqCqqjAUfaZOAKa1B6L52/P/I7OiiikAUUUUAFFFFABRRRQAUUUUAFFFFABRRRQAUUUUAFFFFABRRRQAUUUUAFFFFABRXDz2Hg7xH41uppbfSLq+0maL7TNKsbzpNx5aBjyijg4GMscf3gdrS7/WW8R3Vhqos5IRbpcI9tGyGAsxHlOSzbzwTuAXp90ULX+v6/r1B6G9RXP+Lf7U+y2/8AY/8Abm/ed/8AY32HdjH8X2v5cf7vNcwn/CW+Yu7/AIT7GRnd/YGPxxzQtXYHoej0Vn6vqOm2Fmi6vJGEum8mOGQAmdyCdir/ABMcHiuB+HqwaV4W1JTbRnXdCa6tT543m3hVt0cW4Dhdmw4HXGfeldJNvp/X+Q7beZ6dRVPR7yTUNDsb2ZVWS5to5XCDgFlBOPbmrlU007MmLUldBRRRSGFFFYfjW+TTfA2s3ksSzCGzkZY3UMHbadox35xSk2ldDiruw7T/ABGuqrLcWNnNJYKJQl4WUJI0bbSAM7sE7sHGDtPtlPCOu3HibwvY6zPZR2aX0CTxxJOZSoYZwSUXmoPDXh+38M+ArTTLeCOJ4LBElZEALuEwScdTnNcjoc+gn4N+DdP8Qrp85vreCK0ttQ2mKSXZwWVuGA649cY5xVtJNpa2svzJTuk/X9D1CsK98Q3Fj4y0vRJbGNodSSd47lbg7k8pVJBTZjnd/e7VmSwTeEtDtofCEOmJp9rMsb2wg+a4keTa6oUZVjYE5+6w7YUCk8Qf8lU8Hf8AXG//APQI6nr/AF2GdjRWF4r/ALT/ALPh/sf+2vN835v7H+xeZjB+99r+Xb/u85x2zXKD/hLs/wDNQP8Ay36FqwPSKztV1mHTJrO22NPeX0hjtoEIBchSzEk9FAGSfp1JAq/Hnyk3bt20Z3Yz+OOM/SuJfTbTWfjRJPPZwyrpGkqC7xg5lmkyOT3Cw8em6i2tg6XOnl1dbazs3ureSK6vCqRWZZTJvIyVyCV4AJJzjANaNcfqnnp8XtBkmJFn/Zd4Ez90Tb4j+ewH8Aa53UZdD1L4mabflIrrQ9asJLN3QB4b+dCHjUqB8+FaT8R/s8Na287/AC3/ADt+IPS/9f1/wD1ByyxsUXewGQucZPpUFhfwala+fbMSAzI6nhkdThlI7EHiqGm6pcXPiPV9NljiWGxWAxFAckOrE5/IdBWP4OE3/CX+NSP+PM6nF5XXG/7NH5mPxx+OaS1fy/y/zF0udhRRRQMKKKKACiiigAooooAKKKKACiiigAooooAKKKKACiiigAooooAKKKKACiiigAooooAKKKKACiiigAooooAytU12PT7630+3t3vNQuY5JYraNlUlEA3MSSABkqo92HuRVh8R3Nx41uNBi09FW2soLuWeS4wwEjOu0IFIJGz+93rG0fTbTU/i34i1Z7SB/wCz4LaxjkMSkiXBlds+uHjGfapLWWOD4xa/LO6xxR6HZs7scBQJZ8kmmtk3/W9hvrby/Nf8E7SiuI8HaZ4UlY+I/DNppCS3kTrazWyIHkQH5mdh8zMWwWySRwOuc6Wn+MrOPwPpniDxHcQ2CXqxBmAbYryHCjuQMnqaLC8zpaK5TxkPDuo3WmaJrkem3N5fSN9jg1BUkUED5pAj5DMAcDg8n0zQ7XXh6LSLXw1Fp39iieKzS0jjJkdSfmdHDBV2jcxBU52nkUlqD0OrorPste0zUNWv9Ms7tJb3TSgu4QCGi3Dcuc9cjuK5XSLDwlrPiG58Q6NbaNNe21zLDFdBUM0lzg7i8mC3AyAvoCcY24OoHa3Lzpbs1rHHLKOiySFFP4gH+VZnhLXz4o8K2OstbfZDdoWMIk8zZhiMbsDPT0FV/Des3epzava6hJbSS6fc+SGhgeAspRWyY3ZiOSwBzg4yKz/hR/yS3RP+uTf+jGoX+QHYUV57e/8ACVf2hceR/wAJ15Xmts8j+wvLxnjbv+bb6bucdea3PCX9seZdf2x/wkWML5f9s/2djvnZ9k5+u72x3oWoPQ3NRv1063WZ7e5uAXCFbaEyMM9yBzisnwVo8+jeG1S/Xbe3c817crnO2SWQuVz3wCF/Cr2rwa5N5P8AYOo6fZY3eb9tsHud/TG3bNHtxznOc5HTHOb9h8b/APQw+H//AAQz/wDyZQgMrTNP1WLW/GkFs0mm3Op3iSWN7JatLGF+zxoX4IBwVIwWHIq4LzUtB0NH1zTIp/saJHB/ZlvNcs8p3KX2IrMqbSCeCRlhzwTZ+w+N/wDoYfD/AP4IZ/8A5Mo+w+N/+hh8P/8Aghn/APkyjpb0/DQfUradZ38WieHo/DVzNbWkM3+lx3dgY2ni53ZV9rxc5IGM9BjHNXNVsvEA8RQ6jp0tjdWcULRrZTRsjpIf+Wok3EHsNpUcZwecFn2Hxv8A9DD4f/8ABDP/APJlH2Hxv/0MPh//AMEM/wD8mUCRDPb3Vx4t0e6tkYmzaWO9ia0ZIU3x5aWOQqNx3BV4JBDN3BwzQLa4f4jeJNTNtPFZ3NtZxwyzRNH5jJ5u4AMAeNw7d6s/YfG//Qw+H/8AwQz/APyZR9h8b/8AQw+H/wDwQz//ACZTuI6Siub+w+N/+hh8P/8Aghn/APkyj7D43/6GHw//AOCGf/5MpDH+MZryfQ7vSNLtrlr3ULWSKCdIiYombCZZui4DbueoU454rTt9Pj0/w/Hp1ov7u3tRBGo9FXaP5Vk/YfG//Qw+H/8AwQz/APyZR9h8b/8AQw+H/wDwQz//ACZSavFruO+qfb+v0MHw9pGvSfCzQdJsWjsL7T4IVvLXUbSTZPtHMW4EYBI5Ybh2wc1ra+mo3VrpD3lj++TWIHCWyNL5cQbqxA49z06VY+w+N/8AoYfD/wD4IZ//AJMo+w+N/wDoYfD/AP4IZ/8A5Mq3K8ubzv8Ajf8AQm3u8vlYvCLWB4wMovFbRjZ7TbNAAVm3cMJM5OVzkEYGBzzWfDZeI7PWr6aZ9Pv7W8lQrJseKS3iBwYyMtv+XJBGPmJyOch32Hxv/wBDD4f/APBDP/8AJlH2Hxv/ANDD4f8A/BDP/wDJlSMq+H77T7rXdR1OGw1O2dbeO2CTaVcQBYo2bbjeg3kl2OFzgAdKk+HljdWHhy6S+t5Ld5dUvZ0SVdrFHndlOO2QQam+w+N/+hh8P/8Aghn/APkytLSINch87+3tR0+9zt8r7FYPbbOud26aTdnjGMYweueHcHr/AF5WNKiiikAUUUUAFFFFABRRRQAUUUUAFFFFABRRRQAUUUUAFFFFABRRRQAUUUUAFFFFAFK60fTr66jubuyglnixskaMFhhgwGfTcAcdMgHqKp6RoE+lX1xcS67qWoLOzN5N0sAVGJ6gxxKxwBgbicCtmigAooooAKgvbVb6wntJHeNJ42jZkxuAIwcZBGfwqeik0mrMadndFbTrJNN0y2sYneSO2iWJGkxuIUYGcADPHpVmiiqbbd2SkkrIKKKKQwrM1PQoNWuYnvLi4MCbS1oHHlSlWDqWGM5BA6EZxg5FadFHmA2RBLG0bfdYFT+NZGl+F9P0vw9HoeGvNNiiEMdvdqkiqg6L90ZH1zWzRQBgXnhRZp7V9N1e/wBIit9xEFkkBR2Y5Zm8yJzuOT8wIPJ9TVqbw/b3HiGz1i4nuJJ7FZEt0LKEjDgBugyc4HUmtWigAooooAZNH50EkW903qV3ocMuR1B7GqWlaPBpKzmOWa4nuGDz3E7BpJSFCjJAA4AA4H6kmtCigCrfafBqCxecCskEglhlThonwRkH6Ej0IJB4q1RRQBnQaNHbarqOoRXNwJtQVFcHZtj2AhSvy9ee+as2Nhb6baC3tE2oCWJJyWYnLMT3JJJJqxRQAUUUUAFFFFABRRRQAUUUUAFFFFABRRRQAUUUUAFFFFABRRRQAUUUUAFFFFABRRRQAUUUUAFFFFABRRRQAVBe232yxmthPNbmVCvmwNtdM91PY1PRQBT0zS4NKgkjty7tNK000shBeV26scAD0HHAAA7VWPh+2HiWTXIpp4rqaCO3mVSpSSNGZlBBBxy7cjB5rVooAox6Np0N7LeW9nDDdSht00cYDEtjJ+p2rk99oz0FQad4etNO8N22iB5p7S3RYx5zDc6js20AEeoxz3rVooAr3lja6hbmC+t47iIkHbIoIBByCPQg8g9qyZvC2dTtrmx1nUNPt7dBGtjbJb+SVzk8tEzjd3KsD7it6igCGO0iju5rlVzNMFVmJz8o6Aeg5Jx6k1Wn0TT5rw3otoo73GFukjXzFOCA3IIJAZsZBxk+pq/RQBmxaKsJuJVvLg3dyqJJdkR+YVTOBjZt7t/D3NP0PRrTw9oltpWnBxbWylY/Mbc2CSeT9TV+igAooooAKKKKACiiigAooooA59dZ13/hJRYyaPYpYEszXP8AaLGZIxkB2i8naNxHA8zOOexxr2GpWOqQNNpl7b3kSsUaS3lWRQw6jIJ59q5+ws/EOnXF2urHT9StLidppbmOF1k8na37vystuI+UDB5GeAes3hm1uINX1u4bzJLW9mjuIpp7cwyltgVkKkDhQqYOB1PXFC/QHuXNV8W+HNCuha634g0vTrhkDiK7vY4nKngHDEHHB59qTS/F/hrW7z7JoviHStQudpbybS9jlfaOp2qxOK2KKAMLxHq2taYI20bSbO/UjDfar9rcs5OFRAsUm4nnrtA9euNaG7RpEt5nhS8MQke3WUMVHQkdCRnjOBWLqtl4gHiKHUdOlsbqzihaNbKaNkdJD/y1Em4g9htKjjODzgxxQ3A+IkM81u4zpBSWaOJvK8zzFO0PjGcA8ZzihdF6/k/8hS0V15fmkdLRRRQMKKKKACiiigAooooAKKKKACiiigAooooAKKKKACiiigAooooAKKKKACiiigAooooAKKKKACiiigAooooAKKKKACiiigAooooAKKKKACiiigAooooAKKKKACiiigAooooAKKKKACiiigAooooAKKKKAAnAJAz7DvXHeGdY1DxVq+o3ri8sLCxvntraMNFsl8sbZN+CxJLk9OAEGDknPQ6zrVnotoJb2UI0gYQrgkyOFLbRjuQDgd6z/Aujz6H4J06zvl23hQz3Q/6bSMZH/wDHmNC6v+v60B7WMXwTqFxH4Y1TVLgalqtyuq3sKQrO0jsq3LqiIruEXAwOoAA6gV02ha0+t200smlXummGUxFLtoWLEdSpikdSAeOvUEdq4rwxJqyeCtWstAjtn1Uaxeube5uDAwia5clgQrEEqflJGMkHNWvE97oD+GRb+K7Oy0dWH2bTotWuIkQSFFPmDJwChyNwOflO0/MMvp9w7e8/V/md/WHrfiWXR7tIY9A1TUUbYDNaGAIrM2Av7yVCx7/KDgVGl5qcd5oEOlG2v9JmgYXVzI7+dgICkikDaQT1ycncMd6gv59dt/E0lw+ipf6fHDixNvc/OsuPm8xGAC7ugYFsDOcZNFtSU9LnTEb4yGyNwwcHBH4iuR8Fyz/8JH4vtZLq5nhtdTjSBbid5fKU20TEKWJIGSTj3qO0hs4PiN9v0z7DLBNZzQ3cts/7yKRHUkzMCQ/OVGcFfmHc4XwQwl8TeM7mI74J9UjaKVeVkAtogSp6EZBHHpRHq/L9UN9vP9DZ1Pxj4Z0W9NnrHiPSdPuQAxgur6KJwD0O1mBpuneNPC2r3yWWk+JdHvrqTOyC2v4pHbAycKrEnjmnanoeoX96Z7XxTq2mxkAfZ7WK0ZB75kgdsn603TtB1GyvknufFesajGuc29zFZqj8dzHAjcdeGFJeYPyNuuO0LWNR8UeI9Wbbe6fYaXdi1hCtFtldADJvwWJyW24HACnkHp0mp6tZaPbrNqM6wo7FELA/M20tj8lNZHgHS7jSvB9ut/G0V7dyS3tyjdVkmkaQqfcbsfhQt2/6v/Vwe1v6t/VivPL/AMIX4YUqFl1PU74LySVe6uJMZPcquf8AvlKvat4ktfCzaXbaqLuYX0v2dLsIpUy7WYKwBBy20gAKRkgVD430ibVNJs57SMy3Gl6hBfpEBkyCNvmUe5Utj3xVHxHo+s+KrSO4sZ7KH7Dew3mmYnfbOUZSfOOzKcb1wN3XJ5GA1rv3/DT/AIP3A/0/HX/gHV2Vw93Zxzy2s1m7jmCfbvTnvtZh+RNZUGrvb+MZNBu23ma1N7aSHqVDhZEP+6WQg+je2TQvmMfxG8OLcSxm4awvN4U4DEGHoCfrTk086p8Sk1tM/ZdMsJLJH7SSyOrPj1CiMDPqxHUGhbq/n+v62B6R+78/8jqaKKKQBRRRQAUUUUAFFFFABRRRQAUUUUAFFFFABRRRQAUUUUAFFFFABRRRQAUUUUAFFFFABRRRQAUUUUAFFFFABRRRQAUUUUAFFFFABRRRQAUUUUAFFFFABRRRQAUUUUAFFFFABRRRQAUUUUAFFFFABRRRQAUUUUAFFFFABRRRQAUUUUAFFFFABRRRQAUUUUAFFFFABRRRQAUUUUAFFMM8QkZDKgdV3Mu4ZA9SPSoNP1TT9Wt/P0u+tr2HAPmW0yyLz05UmgC1RRVQ6tpw1JdON/a/bmBK2vnL5pAGSQuc8Aj86ALdFFFABRRTZJEhjMkrqiL1ZjgD8aAHUUm5du7I24znPGKWgAopCQqksQAOST2paACiiigAooooAKKKKACiiigAooooAKKKKACiiigAooooAKKKKACiiigAooooAKKKKACiiigAooooAKKKKACiiigAopskscMZeZ1jQdWY4Aqs+radHqI0+S/tVvSocWzTKJCpJAO3OcEg4+hoAt0UUUAFFFFABRRRQAUVFcXMFpCZruaOCJeryuFUfiaSzvbXUbOO70+5huraUZjmgkDo49Qw4NAE1FFFABXNReLY9T8TXOj6C9ldPY+Ubp5LnH3jyiBQSWVPmPbJUdyR0tcj8O4mm03VdZlXD6xqlxcqT3jVvKjP0KRqfxoW+oPYsaJr99qPiPxHBdyWcNho92sC4iYOymBJCzOXwMFz/D0Faek+JdC19pV0LWtO1NoQDILO7SYoD0ztJxXJaNeRWGqfES5ubWa8ij1BC1tBCZXlH2SH5QgBJz0xitPT9Qt9W0aafRtTlfUJoVuZmtIk84L8yrGolG1cMpXDDIw2QCSaNlfyX5Da1+bOtrM1fxJoegNENe1rT9MM2fKF7dJDvx1xuIzjI6etZGk+LNnh3w9NqkV3dXGostrNPBanZDOPlbzQPuDeCuemaXXda0yPxHDpOoiS1jlgMktzJbuI51XJ8gS42k4BYrnOBjHJw2rOwlqdPFLHPCksDrJG6hkdDkMD0II6iud0XW9RufGmuaLfm1eLT4LaWKSCFo2Pm+ZkNl2zjYMYxVOPxna3vjiw03T9TsjZyRzI8QkXzJJVCEcZyAMkY6k59OU0P/krniv/AK8tP/8Aa1CF0OxorI1XRb/ULoS2nibVNLQIFMNpFashP97MsLtn8ccdKTS9Ev7C88678T6rqce0jyLuK0VM+uYoEbP44pDNWWWOCFpZ5FjjQZZ3bAUepJrnND8Wf8JJFc3+kfZJdMhaaNZPOzIxQ4D7QMbWIbHPQA98DR8U6mdG8JarqKglra0kkQDqWCnAH1OKqeG9IOgfD3T9Lf79rp6xyH1fZ8x/PNTL4ZPt/wAH/L8Slul3/r9Sr4Y8VG5+H+n+JfFV/pthFd20czyH/R4oi46Fnc9yAORW/pmr6brVmLvRtQtdQtixUTWkyyoSOo3KSM1wPhvW7fQ/gt4UnuYpTvtIEWdbV5ktcrzK+0HaqjPJwOnI61tao9wNC8zwjq7RvbSeXFFHGkgu7gnlZCyklTnJKFT1OcCtZpc7S7kL4Uzr6yrjxT4ftNYXSbrXdNg1JyqrZyXkazEt0AQndz245pw1yEeJhob212s5tftK3BgPkOA20qH6bhkEj0IrFg1/SbvxLdwXDNZSWc6pFBcWzxG4lfCCcZA3rkhARkd88jELdDeiOqmErQsLd0STHys6FgD7gEZ/MVg+CtcvPEGhz3WpLAJ4b+6tc26FFZYpmQHBZjkhcnmo9Cvb9fFer6XqV3czrFHFNbfaYI0yp3ByjRgApkAAN8wOc8EVT+GP/Is3/wD2GtQ/9KpKa/QHt8/0Z2NFFFIAooooAKKKKACiiigAooooAKKKKACiiigAooooAKKKKACiiigAooooAKKKKAOd1ibxINct4dHvdKigkK/uLixkmkKA/vHLrMgUAEADa3OPXjRs9d0+/wBRlsLaVzcxIJCrwOgZM43IzAB1yOqkj86zpdA1aHXrvUtO119l6qLJb3MCOsAU8GIgAjjdlW3ZLZyKW00+7k8ZNrCxXVpA9q9vPDcyo4kZXBjZArNtGN5PTO4ZGRwLovUGaOraldadFG1not9qxdiGSzeBSnufNkQfkTWYvifViwB8C6+oJ6mfT+P/ACarT1bQNH1+KOPXdJsdTjiYtGt5bJMEJ7gMDg1mL8OvBKsGXwdoAIOQRpcPH/jtC31BnQS+a0DeQypKR8pddwB9wCM/nXJeDvFOo654cXXNYaxtbSFZoblIY2YtLE5RnVtxwmVbC4J6HPauj1LTf7Rhii+2XNrGj7pFtyq+cuCCjEqTtOf4cHgYIrITwrBo+k65HpBuJP7QE0kdoXURxO68rGMAAE88k8k8gcUm2k2uw0r2Rv21zFeWkNzbPvhmRZI2wRuUjIOD7Gpaz9At5rTw3pttdRmKeG1ijkQkHayqARkEjqO1aFXJJSaREW3FNhRRRUlBVLWb06dod7fCSOL7NA8xeRCygKCTkAjPT1q7XO+L7C/13SrjQba1ItdQiEU955qgRIWAcbfvElM4xnkjOOtJptWQ1ZO7M3wRpdxH4HttT1pYJtWvLR7mWcQ4kUzAO6liSSPujAwMIoxxVXwZNqEHwV8NyaXc2dpIthCXmvLd51VdvaNXQsxOABuHXv0PcSQAWD28KgDyiiDsOMCuK0PwnrC+BPD+lS3txo9/oscfKCKaC4dVx8w5LJ7ZQ5wewq20+a2i0/X8iVdJX31/Q27XXpNK0+0Txdcwrfzsqs1pZyrEm9tsYfmQRk8D5nwTnBrO8Qf8lU8Hf9cb/wD9AjqfW9L1bU9JWxkMz3qzC5gvIGRIInEm5EdS2XCgDOVOcZ4NP1LS7+/+IOhajHbFLPTI7lZZndfnMiKF2gEnqpzkCp3d/X8hmxq2oXOnW6SWej3urMzbTFZvCrIMfePmyIMduCT7Vlf8JRq//QieIP8Av/p//wAlVq6toWk69bpBrml2WpQxtvSO8t0mVWxjIDAgHB61lf8ACufBH/Qm+H//AAVwf/E0LcDo1JZQSpUkZKnqPbiuI1L7brXxXttLM9u+m6ZYfbZYJLcsGkkYxoG+fBO1ZCOOM9DXZXDSW9jI1nbiaSOMmKAME3kDhcngelY3h/SbiHWNY1vUIvJudSkjVISQxihjTaqkgkEli7cH+KjS/wDX9efyD7JR1O6RvHOh+Foolisfsc17JEgAVhEUSOPH90F84/2RSajr+txePh4bsjp4F3pzXdrPLExMJR9rh1DguDuTGNv8XPFaesaM82uadrdkM3diskLJkAywyAblBPAYFVYZ44xxnNVv+EKtHvdOvp9Q1CW+sWcm7aRBJcKyhSkhVQNvC8KF5Ge5y10v53/G36fcD8v6/rX7zZg1Czvbq6sY5VlntQouI9hwu4HHXg5wfWsLwjqckmseItDkYuuj3qJAx6iKSJZFX/gJZgPYCrOn2l5beLNfvZLSTyLiO38hg6fvSisGAG7I5I64qbw9oraY+o3t0VN7ql0bm42nKphQiID32qqjPc5Pekt/l+q/4IunzNmiiigYUUUUAFFFFABRRRQAUUUUAFFFFABRRRQAUUUUAFFFFABRRRQAUUUUAFFFFABRRRQAUUUUAFFFFABRRUF7LPBYzS2lsbqdELRwBwnmHsu48DPqaAONuEu9e+LE1hcS202laTp6yPbSWxZWknLLg/NgsERgDjgOeOam0xFj+MutJGoVV0SyCqBgAebPxWr4c0eezvtY1S+XZdardCUxkgmKNECIhI4zhSxxxljVP+x9Ri+I2paokUgs77TILRLiF03QujyksVY9MOMcH6U1okv62f8AwwPVP5fmv8rjtP1HXre/up9cvtMl0y3TDrZ6fKsiykjEat5r+YRnBwgJJAAzkDb0rV7LWrEXenSM8W4owkiaN0YHBVkcBlI9CAaw7HS9c8NaUYo7qTxBBaRuYLdo4o7m4YkFQ8hKpkHd83Gd3IyMmCLSNR1TwrJBCmp+Hr+W9Fy8hnhWVn3BmY+W0ilD02ZyQACR1o8gfc2PEc+q29ikmjXVlauG+dru1e4354VERZI/mJI5Lfh6MttcFithYeIbiP8AtS42xu1tayrB5pGQoY7gpOOAzZP4il1vRL3UNQsL7T9Wls5bFyy25jR4J8jB3gjdnGQCrDGTwelUdT0vVL86ZGxuDe2FzFcfblZEt3G4+Ypj3ZJ2blGV6kEHrhL9Qf6HUVzsU3iV/FRhN5pbaajM0sCWMnmxpzsHnedtLnrjy+B+BNzTtLu7TxBqt7LqN1Na3nlmG1mkDpAyrhigwNoPHGTyCe9Ztt4c17T/ALVFY+JGkiuZnn828tUkljZlYbcrtDKGKkZwQFxkg8HmHkbtrqVnqD3kdlOsz2cpgnC5+STaG259cMOlc18KP+SW6J/1yb/0Y1SeGdJ1bQH103kUd1HPdo9slrGI2kHkxoW+eU91PBOcgnnIq34C0e70DwLpml6kqpdW8bLIqNuAJYnr+NFvyQBP4k1WK4kjj8Fa7OqMVWWOaxCuAfvDdcg4PXkA+1XtI1W81JpReaBqOkhANpvZLdhJn08qV+nvjrVGf4f+Dbm4knufCWhTTSsXkkk02Fmdickklckk96vaR4a0LQGlbQdF07TGmAEhsrRIS4HTO0DOMmheYPyK3ie80qC3t4dattSnSRy8f9n2V1OVZcck26kr97jOM89cGqdv400O1to7e20/XooYlCRxp4a1ABVAwAB5HSuoooA4y38ReGbTU7jULbTfEMVzdMHnZNA1ICVgoUFl8nBOABnHaprjxZoFyMPZeJIyXEhaDQdSiZiOmSkIJHseK62igDkovFnh2CKCOLTNdC25LRD/AIRvUDtJzk/6jryeevJ9amk8caLKhSWw151PVW8NX5B/8gV09FAHJy+LtAmvoLuTT/EBnt1dYn/4R3URtDY3ceTjnaKgsfEXhnTry5u7XTfEIuboKJpn0DUneQLnaCWhJwMnH1reHinw+2tHR113TTqYbYbEXkfnbsZx5ed2cc9K1aPMPI5v/hPNI/58/EH/AITmof8Axij/AITzSP8Anz8Qf+E5qH/xiukooA4y98ReGdRu4Lm90zxBLJAMJnw/qQXG4Nyohw3KqeQcEVdbx1o7oVay8QFWGCP+Ec1Dkf8AfitPV/Emh6A0Q17WtP0wzZ8oXt0kO/HXG4jOMjp61oxSxzwpLC6yRuoZHQ5DA9CD3FG6DqcfpXiTw1otktnpmneIYLZFCpD/AGBqTKgHQKDCdo9hVXVNT8K6vJbvc2fiyE2wYRfYtL1e0ADdciJFB6d813lFHW4HLR+M9CikEiafrwcIIw3/AAjeoZCjoM+R0pz+N9EkZWew15mX7rHw3qGV+h8jiunooA4yDxH4cto3SOz8TlnjEbSvouqPKVHQeY0Rbue/etbwrdaO9pNa6DZX1nDFIZHW8065tdzyEsWBnRS5JySRnrz1FbtFABRRRQAUUUUAFFFFABRRRQAUUUUAFFFFABRRRQAUUUUAFFFFABRRRQAUUUUAFFFFABRRRQAUUUUAFFFFABRRRQAUUUUAFFFFABRRRQAUUUUAFFFFABRRRQAUUUUAFFFFABRRRQAUUUUAFFFFABRRRQAUUUUAFFFFABRRRQAUUVyWta5fz+ObHwzYwXUUTWz3d3dQtGG8sEIoXLZHzMSTjPycA5o62Dpc62iuMuPtB+K2ladLf3klumiSysguGjEsizRAOyoQpOCe2OTxWtbeJZrjxANMbw/qsKMZNt7KYBEyocbsCUyAE8DKDOadtE+9/wAG1+gu/wAvxVzdoqrqcC3GmzqzyphCwaKVo2BA9VINYfw4uri++Gfh66vZ5bm4msInkmmcu7sV5JY8k+5pLVPyt+N/8hnTUUUUAFFc1458Q3mgaNANLtZJ72/uo7K2ZdmI3kYDcQzDOBuOOnHOBWX4rW8srfw3Cuo6kovNdgSYNcbJNjRvmMtGRlcjOMn64xQtfvS/L/MHovk391/8juaKwNS8RSaPew2UOgatfxFo4hdQPAUDN0H72VXYgckgHjvwa3XQSRsjbgGGDtYqfwI5H4UeYDqK5HwJNO954pgmubi4jtdaeKEXE7ymNPJiO0FiSBkk49666n0T7pP71cOr+f4BRRRSAKKKKACiiigAooooAKKKKACiiigAooooAKKKKACiiigAooooAKKKKAOMsfFegNeXl5fStp/2KaSOO1urd4GThnabawBO8K5DdMA85LVa8GeJG8QXOtiS9tbj7NeqsMdvIreVE0MbAEqTk7i2T6ggdK6cxoZFkKKXUEKxHIB681DbWFtZz3U1vHskvJRNOdxO9wqpnnp8qKOPSmrLft/kDKGq6Lf6hdCW08TappaBAphtIrVkJ/vZlhds/jjjpSaXol/YXnnXfifVdTj2keRdxWipn1zFAjZ/HFbFFIDltd1rTI/EcOk6iJLWOWAyS3Mlu4jnVcnyBLjaTgFiuc4GMcnEvmaofFGny2WptcWFyjvPZ+Sgihh2nY6tt3hy20YLEEbsAYropI0lQpKiup6qwyDWUvhjTV159YBvvtTsGZTqNwYSQMD9zv8AL4HT5eDz1oWgPU16KKKACiiigAooooAKKKKACiiigAooooAKKKKACiiigAooooAKKKKACiiigAooooAKKKKACiiigAooooAKKKKACiiigAooooAKKKKACiiigAooooAKKKKACiiigAooooAKKKKACiiigAooooAKKKKACiiigArPbW7MaqdPj86adWVZfJiZ1hLAlQ5AwuQM+2RnGRm+2Np3cDHJziuJ+Ftin/CP3Otlp2k1i+uLoGSeR8xmQrH94nP7tE564oW4PY6DQPEcPiKK4ms7O6ihguZrYyz7AHeKQo2AGJxlTjIHFa9eeeD/ALOfh9qy3tzcW0La1fqz20xikbN2+FVlIILH5eCDzwRWlI0/gPwrcXqpLe8tcTJqOsSv5QwMRRvL5jFuwHAJzyMgU/8AgDtq0u7Oxoqut/bG4htnnijupo/NS3aQeYVGMkLnJAyMkcVz+uaNBrniCOFL/U4pokR5haanPbpDHuJHyRuoZnORlgcAH2BXUXS507EqpIUsQMgDqfzrK0XxFBrd5qdrHa3NtNplwLedLgJyxRXBUqzAjDiiHXY5fFLaJFA7eXbGZrgt8u4MqlB3JG4En8OucYngz/kcPHH/AGFov/SWGnHXXy/VIP8AP9LnY0VxviXxBq2nay1vY3/kQhFIT/hEtQ1Dk/8ATaGQIfpjI70zw74i1i/1yG3vdQ86Fg25P+EP1GxzgE/66aQov4jnoOTSWoPQ7C6uYbKzmurl9kMKGSRsE7VAyTgVzHhuD+0PGeveIh81tMkFjZyZ4kjjBZmHsXkYf8Are1W/udOtVls9JvNVdnCmGzeFXUYJ3HzZEXHGODnkcdcZP/CUav8A9CJ4g/7/AOn/APyVQtw6WM/UZFtvjHp085WOJtEniV5DtUuZoiFyeMnB49qlsb3xLZLeG/8ADqz6nLI7CW1u1eF4wpMYDPsIwcKVIHJLDOTVv/hKNX/6ETxB/wB/9P8A/kqj/hKNX/6ETxB/3/0//wCSqPspev4u4db/ANbWMvwteG10nxH/AGos9rt1CTMt7LHl2aNMj5XYde3TkAdOL/w0geL4W+HYbiJkddPiV45FwQdvIINS/wDCUav/ANCJ4g/7/wCn/wDyVR/wlGr/APQieIP+/wDp/wD8lU76W9PwVhf5v8WB+HPgg9fBvh//AMFcH/xNbOm6Vp+jWS2ej2FtYWqklYLWFYkBPUhVAFY3/CUav/0IniD/AL/6f/8AJVH/AAlGr/8AQieIP+/+n/8AyVSGUtRaLxN440KOyfzrXRpp7q7YcBJlUxIhz3y7n/gGaPiF8j+F5m4ih16CSV+yKEkyxPYc9TV3/hKNX/6ETxB/3/0//wCSqP8AhKNX/wChE8Qf9/8AT/8A5Ko7eTT/ABuD1v5pr7/+HInu9aTxJLdvpEV/p7RKumz2l2G25xuMikDaTnIYFhhccZ5q6XHZ2nxAubzTDYSWNxYMJ7i1fmKSKTnzmyQ7Hc2CcEbGHrV//hKNX/6ETxB/3/0//wCSqP8AhKNX/wChE8Qf9/8AT/8A5KoWjDcpeADvvvFk6fNFNrkjxSD7si+TEMqe4yDyPSuxrI0rWb7Ubporzw1qmlIqFhNeSWrIxyBtHlTO2ec8jHB56Z16fRLskvuVg6v5/iFFFFIAooooAKKKKACiiigAooooAKKKKACiiigAooooAKKKKACiiigAooooAKKKKACiiigAooooAKKKKACiiigAooooAKKKKACiiigAooooAKKKKACiiigAooooAKKKKACiiigAooooAKKKKACiiigAooooAKKKKACiiigAooooAKKKKACiiigAooooAKKKKACiiigAooooAKKKKACiiigAooooAKKKKACiiigDP1ixvdQtRDY6h9iDbllPkiQupUjAyRtIJBB56dDU+nafbaVpdtp9jGI7a1iWGJB/CqjAH6VZooA5ex8C2EWk3ek6sltq2m3F3NdiC6tgSkkkjOeckcFjggAj1q5/wjawWMtnYTJ9nuQVuReo9yzjYEUAlxjAUdQc9+ck7lFG6sO7vcyIPDGnQXWlXPkq82lW5t7aV0BkVSoU5fG7oOmcc5I6YjvvB+iX+oS38lksN7OhinuLcmKSdCMbXZcbh6Z6dsVt0U7tu5KSSsc/a+ELSw8RLq1jPcoVt5IhDJczSJudwxbDPjGc/LjvntU2g+Hzo19q97LdfaJ9VuVuZdsexUIjWMBRknGEHU1tUUlpp/W9/wAx/wBfoFFFFABRRRQAVBfXsGnWM15dsywwrucpGztj0CqCWPoACTU9ZniG9v8AT9DuLjSNOl1K7UAR28TIGJz1+dlBx1xnnGKT2Gtw0bxBY68s508Xim3cJKt3Yz2zKxGcbZUUngg8etadcBr2pSXHge9ttG03VGg+yytdzsqwyKTGWIO9lO4sfmxyMEeldlpDtPoVm0kUkJa3TMbkbl+Ud1JH5Gn38hdvO5dormz4D0g/8vniD/wo9Q/+P1s6dp0Ok2AtrVrqWNSWBubqW4kOf9uRmY/iaAKFt4t0q71oaVB9uNyWdFZtNuFhYp97ExjEZx6hq2q4/T9binkvD4l0y80y5kaSORboKIoLdQWDeYrFNhA+Y7vvHBxxU3ge1Fh/bNtBFai0+3GW3kshtgdXRThF5C474JBJJ6kgNfoDOqooopAFFFFABRRRQAUUUUAFFFFABRRRQAUUUUAFFFFABRRRQAUUUUAFFFFABRRRQAUUUUAFFFFABRRRQAUUUUAFFFFABRRRQAUUUUAFFFFABRRRQAUUUUAFFFFABRRRQAUUUUAFFFFABRRRQAUUUUAFFFFABRRRQAUUUUAFFFFABRRRQAUUUUAFFFFABRRRQAUUUUAFFYun+I11VZbixs5pLBRKEvCyhJGjbaQBndgndg4wdp9sp4R1248TeF7HWZ7KOzS+gSeOJJzKVDDOCSi80AbdFFYV74huLHxlpeiS2MbQ6kk7x3K3B3J5SqSCmzHO7+92oA3aKKKACiiszVNbi067tLKOJrm+vN/kW6EAkIMsxJ4CjgZ9WA70AadFULnVUtLa1aeGRLm7ISK1ypkLkZK8HHABJOcAA1foAKKa5ZY2KLvYDIXOMn0qCwv4NStfPtmJAZkdTwyOpwykdiDxQBZooooAKKKKACiiigAooooAKKKKACiiigAooooAKKKKACiiigAooooAKKKKACiiigAooooAKKKKACiiigAooooAKKytU12PT7630+3t3vNQuY5JYraNlUlEA3MSSABkqo92HuRVh8R3Nx41uNBi09FW2soLuWeS4wwEjOu0IFIJGz+93oWobK5v0UUUAFFFFABRRRQAUVFcvOluzWsccso6LJIUU/iAf5VmeEtfPijwrY6y1t9kN2hYwiTzNmGIxuwM9PQUAbFFFFABXEaJNf8AijxhrcupRhNP0q6jtLVYLyQYkQLI74CruJLBTk9FI5BOet1G/XTrdZnt7m4BcIVtoTIwz3IHOKyfBWjz6N4bVL9dt7dzzXtyuc7ZJZC5XPfAIX8Kcd7/ANX/AOGuD2t/Vv8Ah7GJ4WhRPGHju9is47i8i1FPK4Adv9Ei+UMema3dE1nVro3za9p2n2Fvacefa6g9wrEZ3gloY8be55GcjsaxNM0/VYtb8aQWzSabc6neJJY3slq0sYX7PGhfggHBUjBYcirqaV4kudIh0+4fS7NLdUDGOJ5kuSN2fl3qVU/I3JJzuByOSm/dVuy/IfX5s6WxvbfUtPt76xkEttcxrLFIARuVhkHB56GsnxHq2taYI20bSbO/UjDfar9rcs5OFRAsUm4nnrtA9euMzR9L8Taf4Y8KWaXcNvNZrFHqMAtlZXiCYKbt52kf3lzkjoATi/qtl4gHiKHUdOlsbqzihaNbKaNkdJD/AMtRJuIPYbSo4zg84NSSUtNriRei1y3fVE0uSO4+3eWGlEVtLJBEcZKmfYEB9iQSCOOa5zw3a29p8V/FkdpBHAhs7BtsSBRn99zgVbi0EyeLrXWoNL/sy9VmXUblCgW/TyyAMKxLYbaVLgEBT0zy3QLa4f4jeJNTNtPFZ3NtZxwyzRNH5jJ5u4AMAeNw7d6EJ7fca2q+LfDmhXQtdb8QaXp1wyBxFd3scTlTwDhiDjg8+1Jpfi/w1rd59k0XxDpWoXO0t5NpexyvtHU7VYnFbFFSMiupWgtJZUCExoWAdtq8DucHH5GuL8Ete654VHibWl23V/FLcQ+XcuyrC/3E2YAwFC468kngk1seMZryfQ7vSNLtrlr3ULWSKCdIiYombCZZui4DbueoU454rTt9Pj0/w/Hp1ov7u3tRBGo9FXaP5VMvgk/663/QpfEv69P1OP8Ah/52mfBzQLjRNNs5ruSxhZxNN9mQ/Ly7yBGPAz/CT/Otu08V+RpMN14mtk02WZ8Kls0t1GqFtqOz+UuwN6sAP1xgeHtI16T4WaDpNi0dhfafBCt5a6jaSbJ9o5i3AjAJHLDcO2DmtjXrPV9c0Gaxls5be7kJltp7W4URwupBj8zLAtzyQFYED14raetR+v4f1/WxC+Ff1/X9eZ1Vc/d6xr0PiOGxttGsZbKWTHnyaiyzbAAXk8oQkbQTjlxk46ZqykOtL4sEjXqPpH2IK9ubcArPu4dXzk5GcqRgYHPNUIrHxPaazfTCbTbyK8lQxTGN43tYwcGMruO8AZIIK5YnIAORn1X9f1/kPobK3mn6lc3mm74rmS2CC5gZdwTcMqGzxyBnFcz8LY0i8K3scSKiJrOoKqqMBR9pk4Aqbw9o+qaDrWq3WqTw3NrLBBtlt7Rg8zjeWbaHc5y3PHOeOlP+HljdWHhy6S+t5Ld5dUvZ0SVdrFHndlOO2QQaa6+n+Qr3j8/0Z1VFFFIYUUUUAFFFFABRRRQAUUUUAFFFFABRRRQAUUUUAFFFFABRRRQAUUUUAFFFFAHDz2Pg3xD40u554NHub3SJYjdTzLG86S4HlpuPKKODgYyxx/eBteGvF8ev+MNTtbfUbSezWzgmtIYZFZwC8oZjg5ydqHHYEdya6G60fTr26iubuxgmnixskeMFhhgwGfTcAceoB6ipUsLaPUpr9I8XM8SRSSbj8yIWKjHTgu3501orA+pj+Lf7U+y2/wDY/wDbm/ed/wDY32HdjH8X2v5cf7vNcwn/AAlvmLu/4T7GRnd/YGPxxzXo9FJaO4PUz9X1HTbCzRdXkjCXTeTHDIATO5BOxV/iY4PFcD8PdPiXw9dWJnbT9Y0me4sprrakktnbh90caM6lANnlnBBBwTg9a9Oqlq2k2ut6c9lf+f5DkFvIuZIGyDkfPGysOR60d/6/rqHSxX8MyajL4etn1l/MujuzIUCM6bjsZlAADFNpIAGCTwK1aq6bptvpVktraGdo1JO64uJJ5CT6vIzMfxJ9KtU3uJbBRRRSGFYfjW+TTfA2s3ksSzCGzkZY3UMHbadox35xW5WZqehQatcxPeXFwYE2lrQOPKlKsHUsMZyCB0IzjByKTSkrMadncoeGvD9v4Z8BWmmW8EcTwWCJKyIAXcJgk46nOa5HQ59BPwb8G6f4hXT5zfW8EVpbahtMUkuzgsrcMB1x64xzivTpEEsbRt91gVP41kaX4X0/S/D0eh4a802KIQx292qSKqDov3RkfXNW5czk31t+F/8AMlKySXS5y+qa1pHgfTdP0Pw5eaZYLFd2/wBoXMaARvcBJMKMAE/PnAwoU9OK0NfIPxT8HEHIMN/gj/rnHXRNomnNYJZfZVFuk63ARSV/eK4kDEg5J3gE56981FPoFvc+IrTWbiaeS4slkW3QlQkYcANwBk5wOpNL17v8h+hW8V/2n/Z8P9j/ANteb5vzf2P9i8zGD977X8u3/d5zjtmuUH/CXZ/5qB/5b9ekUUlowGx58pN27dtGd2M/jjjP0ribXTbTVvjJql/LZwSDStOgt1kaNSfOkYyMc+oVY+e2a7O6g+1Wc0HmyQ+ahTzIW2umRjKnsRVbS9Jg0qOfyWklluZTNPPKQXlfAGSQAOAoHToBTW9/6/qwfZt/Xc53VPPT4vaDJMSLP+y7wJn7om3xH89gP4A1zuoy6HqXxM06/KRXWh61YSWbugDw386EPGpUD58K0n4j/Z49IvtPg1BYvOBWSCQSwypw0T4IyD9CR6EEg8VaoWlvK/43/wA/yB638/6/Q57Tl1eDxZNDLqLXtgbbfLG8SKtrLuGxIyqgkFdxIYsR8pyM1Q8HCb/hL/GpH/HmdTi8rrjf9mj8zH44/HNa9l4W07Tr64vLKTUEnnLljLqM8yKzclljkdkU+4X26cVo2Nhb6baC3tE2oCWJJyWYnLMT3JJJJoWn3W/G4P8AX9CxRRRSAKKKKACiiigAooooAKKKKACiiigAooooAKKKKACiiigAooooAKKKKACiiigAooooAKKKKACiiigAooqC9tvtljNbCea3MqFfNgba6Z7qexoA47R9NtNT+LfiLVntIH/s+C2sY5DEpIlwZXbPrh4xn2qS1ljg+MWvyzuscUeh2bO7HAUCWfJJrqNM0uDSoJI7cu7TStNNLIQXldurHAA9BxwAAO1Vj4fth4lk1yKaeK6mgjt5lUqUkjRmZQQQccu3Iweae1l/W3+Yb387fg1+iOZ8K6P4Xu421/wrFplrPfROlrdWMMRmaMMN7FiPmkJ6ls44yOubmjeLYNO8MSXfizUHgeDUHspJLqEI6sZMRK4QbclWQ7lG3nNbr+H9LaeadLNYZ5s+ZNbsYpDnGTuQggnauSDk7QD0qU6TZmze18o+TI++VS5JlOedxJy2cAHPUcdOKPy/4P8AXzBmD4yHh3UbrTNE1yPTbm8vpG+xwagqSKCB80gR8hmAOBweT6ZqhceIdJ8PX+h+HvD99ptnZQ3EcE0QkTOxkcqijPHIBJ9wO/HZXlja6hbmC+t47iIkHbIoIBByCPQg8g9qjOk2Pk2kQtlWOzkEsCoSoRgCM8dfvHr60lp94Pb5Edlr2mahq1/plndpLe6aUF3CAQ0W4blznrkdxXK6RYeEdZ8Q3PiHRrbRp722uZYYrpQhmlucHcXkwW4GQB6AnGNuO0jtIo7ua5VczTBVZic/KOgHoOScepNVbnQdLu7prmazjFyy7TPHmOQfKVBDrgggMwBByMnBGaBmN4Nu9VkTUrTxHLctqltIvmpI8TxKrLlTE0ccZKHn743AjBJ61B8KP+SW6J/1yb/0Y1dGmlxQW0kVnLPbvKQXnD+ZIcDHLSbs8DHNN0PRrTw9oltpWnBxbWylY/Mbc2CSeT9TR1+4k4y9/wCEq/tC48j/AITryvNbZ5H9heXjPG3f82303c4681ueEv7Y8y6/tj/hIsYXy/7Z/s7HfOz7Jz9d3tjvXTUULQb1M3V4Ncm8n+wdR0+yxu837bYPc7+mNu2aPbjnOc5yOmOc37D43/6GHw//AOCGf/5MrpKKAOb+w+N/+hh8P/8Aghn/APkyj7D43/6GHw//AOCGf/5MrpKKAOb+w+N/+hh8P/8Aghn/APkyj7D43/6GHw//AOCGf/5MrpKKAOb+w+N/+hh8P/8Aghn/APkyj7D43/6GHw//AOCGf/5MqRNY15vEy2DaNYrYsWJuP7RYzJGMgO0Xk7RuIwB5me/Y409O1rS9Y8/+yNRtL4W7+XMbadZBG/8AdbaTg+x5oAyPsPjf/oYfD/8A4IZ//kyj7D43/wChh8P/APghn/8Akyruq+LfDmhXQtdb8QaXp1wyBxFd3scTlTwDhiDjg8+1Jpfi/wANa3efZNF8Q6VqFztLeTaXscr7R1O1WJxRuGxT+w+N/wDoYfD/AP4IZ/8A5Mo+w+N/+hh8P/8Aghn/APkyp/Eera1pgjbRtJs79SMN9qv2tyzk4VECxSbieeu0D1640INVtJLwafJd2i6kIxJJZpcKzoOMnHBI5HOB1FG4bGR9h8b/APQw+H//AAQz/wDyZR9h8b/9DD4f/wDBDP8A/JldJRQBzf2Hxv8A9DD4f/8ABDP/APJlH2Hxv/0MPh//AMEM/wD8mV0lFAHN/YfG/wD0MPh//wAEM/8A8mVpaRBrkPnf29qOn3udvlfYrB7bZ1zu3TSbs8YxjGD1zxpUUAFFFFABRRRQAUUUUAFFFFABRRRQAUUUUAFFFFABRRRQAUUUUAFFFFABRRRQAUUUUAFFFFABRRRQAUUUUAFFFFABRRRQAUUUUAFFFFABRRRQAUUUUAFFFFABRRRQAUUUUAFFFFABRRRQAUUE4BIGfYd647wzrGoeKtX1G9cXlhYWN89tbRhotkvljbJvwWJJcnpwAgwck5Fq7B0udjRXC+CdQuI/DGqapcDUtVuV1W9hSFZ2kdlW5dURFdwi4GB1AAHUCum0LWn1u2mlk0q900wymIpdtCxYjqVMUjqQDx16gjtTB6P52NSiisPW/Esuj3aQx6Bqmoo2wGa0MARWZsBf3kqFj3+UHApAblFNbDJtbK7hjGcH8x/SuS8Fyz/8JH4vtZLq5nhtdTjSBbid5fKU20TEKWJIGSTj3prVv+u3+YdLnX0Vjan4x8M6Lemz1jxHpOn3IAYwXV9FE4B6HazA03TvGnhbV75LLSfEuj311JnZBbX8UjtgZOFViTxzSWuwbG3RRXHaFrGo+KPEerNtvdPsNLuxawhWi2yugBk34LE5LbcDgBTyD0N3YHornY0Vyc8v/CF+GFKhZdT1O+C8klXuriTGT3Krn/vlKvat4ktfCzaXbaqLuYX0v2dLsIpUy7WYKwBBy20gAKRkgUf18w/r5G9RUFlcPd2cc8trNZu45gn270577WYfkTWVBq72/jGTQbtt5mtTe2kh6lQ4WRD/ALpZCD6N7ZJ1sHS5uUUUUAFFFFABRRRQAUUUUAFFFFABRRRQAUUUUAFFFFABRRRQAUUUUAFFFFABRRRQAUUUUAFFFFABRRRQBytpa+INMkvRq72eoWlxM80t3bRSxzCHa37sRqWYsvyhSp5GeAes/hHT5tMW9tYp76bSlZPsAvy5ljG35kzJ85UHGN2TyR0Aro6KAeoUUUUAc9qtl4gHiKHUdOlsbqzihaNbKaNkdJD/AMtRJuIPYbSo4zg84Nae3urjxbo91bIxNo0sd7E1oyQpvjy0scjKNx3BV4JBDN3Bx1VFC0B6hRRRQAUUUUAFFFFABRRRQAUUUUAFFFFABRRRQAUUUUAFFFFABRRRQAUUUUAFFFFABRRRQAUUUUAFFFFABRRRQAUUUUAFFFFABRRRQAUUUUAFFFFABRVIazpzX0lmt5C1zGrO8StlgFxu49ty5HbcPUUzRdcsPEGmxahpMkktrMgeOV4JIg6kZBG9RkUAaFFFZ0uvafDrtvo80siX1yrtCjW8gWQIAWw+3acAjvQBo0UUUAFFFV72/tdOgEt9OkKE7QXP3j1wB3OAeB6UAWKKg+22v2Fbz7RH9mZQ6zbhtZT0IPfORU9ABRTXdY42dzhVGSfQUI6SxrJGyujAFWU5BHqDQA6iiigAooooAz9Z1qz0W0Et7KEaQMIVwSZHCltox3IBwO9Z/gXR59D8E6dZ3y7bwoZ7of8ATaRjI/8A48xroKKO4Hm3hiTVk8FatZaBHbPqo1i9c29zcGBhE1y5LAhWIJU/KSMZIOal8Z32qSfD/UraDw/fWNnHYyh2SaEMgWIEKRvBxuJBK5yEOMhhXolFO5Sdpcxhy32sjVtFjtLOD7BcRv8AblmY+fBhcqRtyhGeDz3GM81Uv59dt/E0lw+ipf6fHDixNvc/OsuPm8xGAC7ugYFsDOcZNdPRR1uQlpY4fSLK0tfiJdanY3dlqkd9DMbm68mEzWTIyjy/ORQSn3htckgp14NTeCGEvibxncxHfBPqkbRSrysgFtECVPQjII49K7KihOyt5W/G43qY2p6HqF/eme18U6tpsZAH2e1itGQe+ZIHbJ+tN07QdRsr5J7nxXrGoxrnNvcxWao/HcxwI3HXhhW3RSWgFLU9WstHt1m1GdYUdiiFgfmbaWx+SmsjwDpdxpXg+3W/jaK9u5Jb25RuqyTSNIVPuN2PwrpKKEBzfjfSJtU0mzntIzLcaXqEF+kQGTII2+ZR7lS2PfFUfEej6z4qtI7ixnsofsN7DeaZid9s5RlJ847MpxvXA3dcnkYHZUULT77/AD0/yQPX8vl/TZwurS+HD430mC91LTIPEcMqSyOZlW4KFSohjUneVc87RkYBJ5IrRTTzqnxKTW0z9l0ywkskftJLI6s+PUKIwM+rEdQa6mimtPx/HT8gev4fhqFFFFIAooooAKKKKACiiigAooooAKKKKACiiigAooooAKKKKACiiigAooooAKKKKACiiigAooooAKKKKACiiigAooooAKKKKACiiigAooooAKKKKACiiigAooooAKKKKACiiigAooooAKKKKACiiigAooooAKKKKACiiigAooooAKKKKAOa1Cz1a78Txix8R31tCjJJNawwW5hSMdmLxM5ZyD0YYHPbm1oXii18RXl9HpsLvb2cpha7E8DxyODgqAkjOpGD99V9s1EfCcUOr3OoadqWoWj3siSXUQuWdJWUgggNnZwoU7cAqSMdCJdO0eZfEEutXlta2lzNarbyx2spkEmGLBmYopOM4HHc0L+v6/ruDIvFvib/AIRq1t5fP0OHznK51nVvsCnAz8reW+4+2BXMJ8U98ir/AGh4B5IHy+Mcn8B9mr0eihb6gyKf5rV8TGD5SfNXHye/II/MVw/gnxBq+o+Fo9Y1O5udTuYnmsvsNpDEhuXjkK+YdwXaxCk43KgDdM812OoaXaaqsK3ySOsMgkVVmdATgjDBSAy4J+Vsg+lZtzob6Tb6jdeErK1Gp38vmyG6uZI4yxwGYHa+04GcBcE8mja/9f1/XyOlv6/rY0NG1aDXNKiv7VJY0csrRzKA8bqxVlYAkZDKRwSOOCavVnaDbXVpo0MF7a21pKmR5NrO06KM9fMZELE9SSo5PfqdGm9xLYKKKKQwrN8RX40vwzqWoNM0AtbaSYyIFJXapPG4Edu4rSrC8TaPe+ILR9J3WyaXdIq3TMW83buBZVGMEMoK8kYznnpSaurDTSd2UPBOk3Gk/Dezjv7iSe7mtPtFwZAvEsgLydAOrMTzmsvwgtw3wU8NfZdTudNf7DB+8tI43mf5cBEEisuScclTxnp1HeTRb7V4Uwu5Co9uMVyGk+BGTwfo2jarcyxXGiIgtLzTrt0O9V27ymAp442sGGCattNy87fqSrpK/n+hYXXpPDX9laJqtzca3rV9uZR5trFJtzycExBguQPkUscE7ah8Qf8AJVPB3/XG/wD/AECOrmpeHbvUtPOmXZiu4WkE4vp5T50Mnmb/AJECYAUAbTuz+XMl/od7f+N9I1dmgjtdLjuFChyzy+aqjpgBcbfU5qeq+YEnivxH/wAI3p8Nx5+iw+ZLszrGqfYYzwT8r+W+5uOmBxk5rlB8Vef+Qh8P/wDwsv8A7mr0iihbjGxv5kSP8p3KD8rZH4HuK4maGfVvjMsYv7hbbRtME/lAR7FlncqOqk/cjbvn5uCM12d19o+xzfYvL+07D5XnZ2bscbsc4z6Vl6Fo0the6nqV80bX2pTK8oiJKRqiBERSQCRgE9OrGmviv/XYPs2MvVbySf4paDo7j/REsbm/x2eVGjRfyEjH6kHtVXU9T1b/AIWanh+21lrezvtMe4BWGNntZI3AOwlCDuDg4fdgKcDnNdFq2jC9v7HUbcql7YlxGzcB0cYeMkcgHAOR0Kg89KhXwfogWw3Wbu2nyNLA8lxI7hmG07mLEuCMDDEjgegoXS/S/wCv5afcD6/1/X/BHWPiOK71ttKksry1l8kzwS3CoEuYwQrMu1iRgsvDBTz0rL8H3sv/AAkXivSDuNtp2oIbfI4VZYUkZB7Bix9t1XNPg8Q/2/d3epafpaRlGS3miv5JH2A5VChhUJnqxDNzgYOBi9omjJpMd1IzCW7vrhrm6lAxvcgAADsAqqo9h60Lv5fr/kD7ef6GnRRRSAKKKKACiiigAooooAKKKKACiiigAooooAKKKKACiiigAooooAKKKKACiiigAooooAKKKKACiiigAooooAKKKKACiiigAooooAKKKKACiiigAooooAKKKKACiiigAooooAKKKKACiiigAooooAKKKKACiiigAooooAKKKKACiiigAooooAKKKKACiiigAooooAKKKKACiiigAooooAKKKKACiiigAooooAyptXvYp5I08O6lMqsQJEktgrgHqMzA4PuAfamf21f/APQsar/39tf/AI/WxRWnPH+Vfj/mZ8kv5n+H+Rj/ANtX/wD0LGq/9/bX/wCP0f21f/8AQsar/wB/bX/4/WxRT54/yr8f8w5JfzP8P8jH/tq//wChY1X/AL+2v/x+j+2r/wD6FjVf+/tr/wDH62KKOeP8q/H/ADDkl/M/w/yMf+2r/wD6FjVf+/tr/wDH6P7av/8AoWNV/wC/tr/8frYoo54/yr8f8w5JfzP8P8jH/tq//wChY1X/AL+2v/x+j+2r/wD6FjVf+/tr/wDH62KKOeP8q/H/ADDkl/M/w/yMf+2r/wD6FjVf+/tr/wDH6P7av/8AoWNV/wC/tr/8frYoo54/yr8f8w5JfzP8P8jH/tq//wChY1X/AL+2v/x+j+2r/wD6FjVf+/tr/wDH62KKOeP8q/H/ADDkl/M/w/yMf+2r/wD6FjVf+/tr/wDH6P7av/8AoWNV/wC/tr/8frYoo54/yr8f8w5JfzP8P8jH/tq//wChY1X/AL+2v/x+j+2r/wD6FjVf+/tr/wDH62KKOeP8q/H/ADDkl/M/w/yMf+2r/wD6FjVf+/tr/wDH6P7av/8AoWNV/wC/tr/8frYoo54/yr8f8w5JfzP8P8jH/tq//wChY1X/AL+2v/x+j+2r/wD6FjVf+/tr/wDH62KKOeP8q/H/ADDkl/M/w/yMf+2r/wD6FjVf+/tr/wDH6P7av/8AoWNV/wC/tr/8frYoo54/yr8f8w5JfzP8P8jH/tq//wChY1X/AL+2v/x+j+2r/wD6FjVf+/tr/wDH62KKOeP8q/H/ADDkl/M/w/yMf+2r/wD6FjVf+/tr/wDH6P7av/8AoWNV/wC/tr/8frYoo54/yr8f8w5JfzP8P8jH/tq//wChY1X/AL+2v/x+j+2r/wD6FjVf+/tr/wDH62KKOeP8q/H/ADDkl/M/w/yMf+2r/wD6FjVf+/tr/wDH6P7av/8AoWNV/wC/tr/8frYoo54/yr8f8w5JfzP8P8jH/tq//wChY1X/AL+2v/x+j+2r/wD6FjVf+/tr/wDH62KKOeP8q/H/ADDkl/M/w/yMf+2r/wD6FjVf+/tr/wDH6P7av/8AoWNV/wC/tr/8frYoo54/yr8f8w5JfzP8P8jH/tq//wChY1X/AL+2v/x+j+2r/wD6FjVf+/tr/wDH62KKOeP8q/H/ADDkl/M/w/yMf+2r/wD6FjVf+/tr/wDH6P7av/8AoWNV/wC/tr/8frYoo54/yr8f8w5JfzP8P8jH/tq//wChY1X/AL+2v/x+j+2r/wD6FjVf+/tr/wDH62KKOeP8q/H/ADDkl/M/w/yMf+2r/wD6FjVf+/tr/wDH6P7av/8AoWNV/wC/tr/8frYoo54/yr8f8w5JfzP8P8jH/tq//wChY1X/AL+2v/x+j+2r/wD6FjVf+/tr/wDH62KKOeP8q/H/ADDkl/M/w/yMf+2r/wD6FjVf+/tr/wDH6P7av/8AoWNV/wC/tr/8frYoo54/yr8f8w5JfzP8P8jH/tq//wChY1X/AL+2v/x+j+2r/wD6FjVf+/tr/wDH62KKOeP8q/H/ADDkl/M/w/yMf+2r/wD6FjVf+/tr/wDH6P7av/8AoWNV/wC/tr/8frYoo54/yr8f8w5JfzP8P8jH/tq//wChY1X/AL+2v/x+j+2r/wD6FjVf+/tr/wDH62KKOeP8q/H/ADDkl/M/w/yMf+2r/wD6FjVf+/tr/wDH6P7av/8AoWNV/wC/tr/8frYoo54/yr8f8w5JfzP8P8jH/tq//wChY1X/AL+2v/x+j+2r/wD6FjVf+/tr/wDH62KKOeP8q/H/ADDkl/M/w/yMf+2r/wD6FjVf+/tr/wDH6P7av/8AoWNV/wC/tr/8frYoo54/yr8f8w5JfzP8P8jH/tq//wChY1X/AL+2v/x+j+2r/wD6FjVf+/tr/wDH62KKOeP8q/H/ADDkl/M/w/yMf+2r/wD6FjVf+/tr/wDH6P7av/8AoWNV/wC/tr/8frYoo54/yr8f8w5JfzP8P8jH/tq//wChY1X/AL+2v/x+j+2r/wD6FjVf+/tr/wDH62KKOeP8q/H/ADDkl/M/w/yMf+2r/wD6FjVf+/tr/wDH6P7av/8AoWNV/wC/tr/8frYoo54/yr8f8w5JfzP8P8jH/tq//wChY1X/AL+2v/x+j+2r/wD6FjVf+/tr/wDH62KKOeP8q/H/ADDkl/M/w/yMf+2r/wD6FjVf+/tr/wDH6P7av/8AoWNV/wC/tr/8frYoo54/yr8f8w5JfzP8P8jH/tq//wChY1X/AL+2v/x+j+2r/wD6FjVf+/tr/wDH62KKOeP8q/H/ADDkl/M/w/yMf+2r/wD6FjVf+/tr/wDH6P7av/8AoWNV/wC/tr/8frYoo54/yr8f8w5JfzP8P8jH/tq//wChY1X/AL+2v/x+j+2r/wD6FjVf+/tr/wDH62KKOeP8q/H/ADDkl/M/w/yMf+2r/wD6FjVf+/tr/wDH6P7av/8AoWNV/wC/tr/8frYoo54/yr8f8w5JfzP8P8jH/tq//wChY1X/AL+2v/x+j+2r/wD6FjVf+/tr/wDH62KKOeP8q/H/ADDkl/M/w/yMf+2r/wD6FjVf+/tr/wDH6P7av/8AoWNV/wC/tr/8frYoo54/yr8f8w5JfzP8P8jH/tq//wChY1X/AL+2v/x+nw6veyzxxv4d1KFWYAyPJbFUBPU4mJwPYE+1atFLnj/Kvx/zDkl/M/w/yCiiiszQKKKKACiiigAooooAKKKKACiiigAooooAKKKKACiiigAooooAKKKKACiiigAooooAKKKKACiiigAooooAKKKKACiiigAooooAKKKKACiiigAooooAKKKKACiiigAooooAKKKKACiiigAooooAKKKKACiiigAooooAKKKKACiiigAooooAKKKKACiiigAooooAKKKKACiiigAooooAKKKKACiiigAooooAKKKKACiiigAooooAKKKKACiiigAooooAKKKKACiiigAooooAKKKKACiiigAooooAKKKKACiiigD/2Q==)"
      ],
      "metadata": {
        "id": "lWbDNHUm_oyu"
      }
    },
    {
      "cell_type": "code",
      "source": [
        "def hermite_interpolation(x_points, y_points, slopes):\n",
        "    # matrix size changes because of \"doubling\" up info for hermite\n",
        "    num_of_points = len(x_points)\n",
        "    matrix = np.zeros((num_of_points * 2, num_of_points * 2))\n",
        "\n",
        "    # populate x values (make sure to fill every TWO rows)\n",
        "    for x in range(0, num_of_points * 2, 2):\n",
        "        matrix[x][0] = x_points[int(x / 2)]\n",
        "        matrix[x + 1][0] = x_points[int(x / 2)]\n",
        "        # break\n",
        "\n",
        "    # prepopulate y values (make sure to fill every TWO rows)\n",
        "    for x in range(0, num_of_points * 2, 2):\n",
        "        matrix[x][1] = y_points[int(x / 2)]\n",
        "        matrix[x + 1][1] = y_points[int(x / 2)]\n",
        "\n",
        "    # prepopulate with derivates (make sure to fill every TWO rows. starting row CHANGES.)\n",
        "    for x in range(1, num_of_points * 2, 2):\n",
        "        matrix[x][2] = slopes[int(x / 2)]\n",
        "\n",
        "    filled_matrix = apply_div_dif(matrix)\n",
        "    print(f\"\\n{filled_matrix}\")\n",
        "\n",
        "\n",
        "def apply_div_dif(matrix: np.array):\n",
        "    size = len(matrix)\n",
        "\n",
        "    for i in range(2, size):\n",
        "        for j in range(2, i + 2):\n",
        "            # skip if value is prefilled (we dont want to accidentally recalculate...)\n",
        "            if j >= len(matrix[i]) or matrix[i][j] != 0:\n",
        "                continue\n",
        "\n",
        "            # get left cell entry\n",
        "            left: float = matrix[i][j - 1]\n",
        "\n",
        "            # get diagonal left entry\n",
        "            diagonal_left: float = matrix[i - 1][j - 1]\n",
        "\n",
        "            # order of numerator is SPECIFIC.\n",
        "            numerator: float = left - diagonal_left\n",
        "\n",
        "            # denominator is current i's x_val minus the starting i's x_val....\n",
        "            denominator = matrix[i][0] - matrix[i - j + 1][0]\n",
        "\n",
        "            # something save into matrix\n",
        "            operation = numerator / denominator\n",
        "            matrix[i][j] = operation\n",
        "\n",
        "    return matrix\n",
        "\n",
        "# xi_points = [0, 1, 2]\n",
        "# yi_points = [1, 2, 4]\n",
        "# slopes = [1.06, 1.23, 1.55]\n",
        "\n",
        "# Quiz 2\n",
        "xi_points = [2.1, 2.5, 2.6]\n",
        "yi_points = [5.456, 6.298, 6.427]\n",
        "slopes = [.862, 1.489, 1.743]\n",
        "\n",
        "hermite_interpolation(xi_points, yi_points, slopes)"
      ],
      "metadata": {
        "id": "zEGK8ViHATdu",
        "colab": {
          "base_uri": "https://localhost:8080/"
        },
        "outputId": "0c4bfee0-f767-46fc-fa20-58bfa10ceb6e"
      },
      "execution_count": null,
      "outputs": [
        {
          "output_type": "stream",
          "name": "stdout",
          "text": [
            "\n",
            "[[  2.1       5.456     0.        0.        0.        0.     ]\n",
            " [  2.1       5.456     0.862     0.        0.        0.     ]\n",
            " [  2.5       6.298     2.105     3.1075    0.        0.     ]\n",
            " [  2.5       6.298     1.489    -1.54    -11.61875   0.     ]\n",
            " [  2.6       6.427     1.29     -1.99     -0.9      21.4375 ]\n",
            " [  2.6       6.427     1.743     4.53     65.2     132.2    ]]\n"
          ]
        }
      ]
    },
    {
      "cell_type": "markdown",
      "source": [
        "5. Using **cubic spline interpolation**, solve for the following using this set of data:\n",
        "\n",
        "x     |\tf(x) |\t\n",
        "------|------|\n",
        "2\t    | 3    |\t   \n",
        "5\t    | 5    |\n",
        "8     |\t7    |\n",
        "10    |\t9    |\n",
        "\n",
        "- Find matrix A\n",
        "- Vector b\n",
        "- Vector x"
      ],
      "metadata": {
        "id": "i7S2_a371oBF"
      }
    },
    {
      "cell_type": "code",
      "source": [
        "def create_matrix_A(x_points):\n",
        "    n: int = len(x_points)\n",
        "\n",
        "    matrix_main_diagonal = np.identity(n)\n",
        "\n",
        "    h = []\n",
        "    for i in range(n - 1):\n",
        "        h.append(x_points[i + 1] - x_points[i])\n",
        "\n",
        "    # Fill in diagonal\n",
        "    for i in range(1, n - 1):\n",
        "        for j in range(1, n):\n",
        "            if i == j:\n",
        "                matrix_main_diagonal[i][j] = 2 * (h[i] + h[i - 1])\n",
        "\n",
        "    below_diagonal = h.copy()\n",
        "    above_diagonal = h.copy()\n",
        "\n",
        "    # Replace last element of below_diagonal with 0\n",
        "    below_diagonal[-1] = 0\n",
        "\n",
        "    # Replace first element of above_diagonal with 0\n",
        "    above_diagonal[0] = 0\n",
        "\n",
        "    matrix_below = np.diagflat(below_diagonal, -1)\n",
        "    matrix_above = np.diagflat(above_diagonal, 1)\n",
        "\n",
        "    matrix = matrix_main_diagonal + matrix_below + matrix_above\n",
        "    print(f\"\\n{matrix}\")\n",
        "\n",
        "    return h, matrix\n",
        "\n",
        "\n",
        "def create_vector_b(y_points, h_list):\n",
        "    # This not necessary but to keep consistency with textbook variables\n",
        "    a_list = y_points.copy()\n",
        "\n",
        "    n = len(y_points)\n",
        "\n",
        "    alpha = np.zeros(n)\n",
        "    for i in range(1, n - 1):\n",
        "        alpha[i] = 3 / h_list[i] * (a_list[i + 1] - a_list[i]) - 3 / h_list[i - 1] * (a_list[i] - a_list[i - 1])\n",
        "\n",
        "    print(f\"\\n{alpha}\")\n",
        "\n",
        "    return alpha\n",
        "\n",
        "\n",
        "def create_x_vector(x_points, h_list, b_vector):\n",
        "    # Step 3 page 150\n",
        "    n = len(x_points)\n",
        "    l = np.zeros(n)\n",
        "    u = np.zeros(n)\n",
        "    z = np.zeros(n)\n",
        "    c = np.zeros(n)\n",
        "\n",
        "    l[0] = 1\n",
        "    # Not necessary u and z arrays are 0 on their first element\n",
        "    # u[0] = 0\n",
        "    # z[0] = 0\n",
        "\n",
        "    # Step 4\n",
        "    for i in range(1, n - 1):\n",
        "        l[i] = 2 * (x_points[i + 1] - x_points[i - 1]) - (h_list[i - 1] * u[i - 1])\n",
        "        u[i] = h_list[i] / l[i]\n",
        "        z[i] = (b_vector[i] - h_list[i - 1] * z[i - 1]) / l[i]\n",
        "\n",
        "    # Step 5\n",
        "    l[n - 1] = 1\n",
        "    z[n - 1] = 0\n",
        "    c[n - 1] = 0\n",
        "\n",
        "    for j in range(n - 2, 0, -1):\n",
        "        c[j] = z[j] - u[j] * c[j + 1]\n",
        "\n",
        "    print(f\"\\nc vector:\\n{c}\")\n",
        "\n",
        "    return c\n",
        "\n",
        "\n",
        "# xi_p = [2, 5, 8, 10]\n",
        "# fxi_p = [3, 5, 7, 9]\n",
        "\n",
        "# Quiz 2\n",
        "xi_p = [0, 1, 2, 3]\n",
        "fxi_p = [1, 2.718, 7.387, 20.079]\n",
        "\n",
        "h_list, matrix_A = create_matrix_A(xi_p)\n",
        "b_vector = create_vector_b(fxi_p, h_list)\n",
        "x_vector = create_x_vector(xi_p, h_list, b_vector)"
      ],
      "metadata": {
        "colab": {
          "base_uri": "https://localhost:8080/"
        },
        "id": "EU8f5gY330_U",
        "outputId": "2a789cdc-bbf3-4628-976c-dbbabaa0a1d1"
      },
      "execution_count": null,
      "outputs": [
        {
          "output_type": "stream",
          "name": "stdout",
          "text": [
            "\n",
            "[[1. 0. 0. 0.]\n",
            " [1. 4. 1. 0.]\n",
            " [0. 1. 4. 1.]\n",
            " [0. 0. 0. 1.]]\n",
            "\n",
            "[ 0.     8.853 24.069  0.   ]\n",
            "\n",
            "c vector:\n",
            "[0.     0.7562 5.8282 0.    ]\n"
          ]
        }
      ]
    },
    {
      "cell_type": "markdown",
      "source": [
        "### **Chapter 4: Numerical Differentiation and Integration**\n",
        "\n",
        "In class code:\n",
        "- None\n"
      ],
      "metadata": {
        "id": "jIA_BmGJbFA0"
      }
    },
    {
      "cell_type": "markdown",
      "source": [
        "### **Chapter 5: IVP Problems for Differential Equations**\n",
        "\n",
        "In class code & assingment 3:\n",
        "\n",
        "- eulers and modified_eulers methods\n",
        "- higher_order_taylor_methods (not here)\n",
        "- runge-kutta is order 4\n",
        "- midpoint_method (not here)\n"
      ],
      "metadata": {
        "id": "8SHZCe3GbFcs"
      }
    },
    {
      "cell_type": "markdown",
      "source": [
        "#### Euler's and modified euler's\n",
        "\n",
        "1. The final value of the **euler's** and **modified euler's** method\n",
        "\n",
        "- Function: y – t^3\n",
        "- Initial point: .5  ( y(0) = 0.5 )\n",
        "- Iterations: 100\n",
        "- Range: 0 < t < 3\n"
      ],
      "metadata": {
        "id": "wdL-7DLZATvA"
      }
    },
    {
      "cell_type": "code",
      "source": [
        "def function(t: float, w: float): # y is replace with w\n",
        "  # return w - np.power(t, 3)\n",
        "  return t - w**2\n",
        "\n",
        "def eulers():\n",
        "  # Initial setup\n",
        "  w = 2.5  # w0 = y(0) for this exercise the initial condition is y(0) = 0.5 = w0\n",
        "  a, b = (-1, 4)  # t is in the interval [a, b]\n",
        "  t = a\n",
        "  N = 30  # number of iterations\n",
        "  h = (b - a) / N  # step size\n",
        "\n",
        "  for i in range(1, N + 1):\n",
        "    w_next = w + h*function(t,w)\n",
        "    t = i*h\n",
        "    w=w_next\n",
        "    # print(w_next)\n",
        "\n",
        "  return w\n",
        "\n",
        "\n",
        "def modified_eulers():\n",
        "  # Initial setup\n",
        "  w = 0.5  \n",
        "  a, b = (0, 3)  # t is in the interval [a, b]\n",
        "  N = 100  # number of iterations\n",
        "  h = (b - a) / N  # step size\n",
        "\n",
        "  for i in range(0, N):\n",
        "    t = h*i\n",
        "    w_next = w + h/2*(function(t,w) + function(h*(i+1), (w + h*function(t,w))))\n",
        "    w=w_next\n",
        "\n",
        "  return w\n",
        "\n",
        "\n",
        "print(\"Euler's method: %.5f\" % eulers())\n",
        "print(\"Modified Euler's method: %.5f\" % modified_eulers())"
      ],
      "metadata": {
        "colab": {
          "base_uri": "https://localhost:8080/"
        },
        "id": "486fsCce0PqS",
        "outputId": "4e4909aa-dab0-4763-f196-b262a0722bb5"
      },
      "execution_count": null,
      "outputs": [
        {
          "output_type": "stream",
          "name": "stdout",
          "text": [
            "Euler's method: 2.18337\n",
            "Modified Euler's method: 1.63240\n"
          ]
        }
      ]
    },
    {
      "cell_type": "markdown",
      "source": [
        "2. **Runge-Kutta** with the following details:\n",
        "- Function: t – y2\n",
        "- Range: 0 < t < 2\n",
        "- Iterations: 10\n",
        "- Initial Point: f(0) = 1"
      ],
      "metadata": {
        "id": "XYfKv4qW7ZPg"
      }
    },
    {
      "cell_type": "code",
      "source": [
        "###### Runge-Kutta (method of order four) ######\n",
        "def runge_kutta() -> float:\n",
        "\n",
        "    # Initial setup\n",
        "    w = 1  # w = α for this exercise the initial condition is y(a) = α\n",
        "    a, b = (0, 2)  # t is in the interval [a, b]\n",
        "    t = a\n",
        "    N = 10  # number of iterations\n",
        "    h = (b - a) / N  # step size\n",
        "\n",
        "    for i in range(1, N + 1):\n",
        "        prev_w = w\n",
        "        prev_t = t\n",
        "\n",
        "        # compute wi. Breakdown the solution below\n",
        "        K1 = h * function(prev_t, prev_w)\n",
        "        K2 = h * function((prev_t + h / 2), (prev_w + K1 / 2))\n",
        "        K3 = h * function((prev_t + h / 2), (prev_w + K2 / 2))\n",
        "        K4 = h * function((prev_t + h), (prev_w + K3))\n",
        "        w = prev_w + (K1 + 2 * K2 + 2 * K3 + K4) / 6\n",
        "\n",
        "        # compute ti\n",
        "        t = a + i * h\n",
        "\n",
        "    return w\n",
        "\n",
        "approximate_rungeKutta_solution = runge_kutta()\n",
        "print(\"Approximate Runge-Kutta solution: %.5f\" % approximate_rungeKutta_solution)"
      ],
      "metadata": {
        "colab": {
          "base_uri": "https://localhost:8080/"
        },
        "id": "Iif3onUj7fz3",
        "outputId": "8d68b1c0-1fbc-4278-fd68-44e2dba81083"
      },
      "execution_count": null,
      "outputs": [
        {
          "output_type": "stream",
          "name": "stdout",
          "text": [
            "Approximate Runge-Kutta solution: 1.05481\n"
          ]
        }
      ]
    },
    {
      "cell_type": "markdown",
      "source": [
        "### **Chapter 6: Solving linear systems**\n",
        "\n",
        "* 6.1 Direct methos for solving linear systems\n",
        "  * Row operations (technique)\n",
        "    * Interchange two rows\n",
        "    * Multiply a row by a non-zero constant\n",
        "    * Add a multiple of one row to another row\n",
        "  * Gaussian Elimination (Backwards Substitution) -> assignment\n",
        "  * Gauss-Jordan -> in class\n",
        "* 6.2 Pivoting Strategies\n",
        "  * Partial Pivoting\n",
        "  * Complete Pivoting\n",
        "  * Scaled-column pivoting\n",
        "* 6.3/6.4 Matrix Operations\n",
        "  * Inverse\n",
        "  * Determinant\n",
        "  * Multiplication\n",
        "* 6.5 Matrix Factorization\n",
        "  * LU Decomposition\n",
        "  * Permutation matrix\n",
        "* 6.6 More matrices and LDL factorization\n",
        "  * Diagonally Dominant: matrix A is said to be diagonally dominant if the absolute value of each diagonal element is greater than or equal to the sum of the absolute values of the other elements in the same row\n",
        "  * Positive Definite: Property\n",
        "\n",
        "\n",
        "In class code and assignment 3:\n",
        "- gauss_jordan.py\n",
        "- gauss elimination and backward substitution\n",
        "- row_operations.py\n",
        "- pivoting_strategies.py"
      ],
      "metadata": {
        "id": "o9OkpSHXbF1q"
      }
    },
    {
      "cell_type": "markdown",
      "source": [
        "#### Row operations"
      ],
      "metadata": {
        "id": "OfPM2KaxRaRt"
      }
    },
    {
      "cell_type": "code",
      "source": [
        "def row_operations():\n",
        "  # Define the matrix\n",
        "  A = np.array([[1, 2, 3], [4, 5, 6], [7, 8, 9]])\n",
        "  # Print the original matrix\n",
        "  print(\"Original matrix:\\n\", A)\n",
        "  # Perform row operations\n",
        "  # a[0] = [1, 2, 3] -> 4a[0] = [4,8,12] -> [4, 5, 6] - [4,8,12]\n",
        "  # 4 - 4 = 0\n",
        "  # 5 - 8 = -3\n",
        "  # 6 - 12 = -6\n",
        "  A[1] = A[1] - 4 * A[0]\n",
        "  A[2] = A[2] - 7 * A[0]\n",
        "  A[2] = A[2] - 2 * A[1]\n",
        "\n",
        "  # Print the matrix after row operations\n",
        "  print(\"Matrix after row operations:\\n\", A)\n",
        "\n",
        "\n",
        "row_operations()\n"
      ],
      "metadata": {
        "colab": {
          "base_uri": "https://localhost:8080/"
        },
        "id": "GjzKg-cHW0aZ",
        "outputId": "b7a4e9d9-32f4-4990-b260-097957ca43c6"
      },
      "execution_count": null,
      "outputs": [
        {
          "output_type": "stream",
          "name": "stdout",
          "text": [
            "Original matrix:\n",
            " [[1 2 3]\n",
            " [4 5 6]\n",
            " [7 8 9]]\n",
            "Matrix after row operations:\n",
            " [[ 1  2  3]\n",
            " [ 0 -3 -6]\n",
            " [ 0  0  0]]\n"
          ]
        }
      ]
    },
    {
      "cell_type": "code",
      "source": [
        "def gauss_jordan(A, b):\n",
        "  n = len(b)\n",
        "  \n",
        "  # Combine A and b into augmented matrix\n",
        "  Ab = np.concatenate((A, b.reshape(n,1)), axis=1)\n",
        "    \n",
        "  # Perform elimination\n",
        "  for i in range(n):\n",
        "    # Find pivot row\n",
        "    max_row = i\n",
        "    for j in range(i+1, n):\n",
        "        if abs(Ab[j,i]) > abs(Ab[max_row,i]):\n",
        "            max_row = j\n",
        "    \n",
        "    # Swap rows to bring pivot element to diagonal\n",
        "    Ab[[i,max_row], :] = Ab[[max_row,i], :] # operation 1 of row operations\n",
        "    \n",
        "    # Divide pivot row by pivot element\n",
        "    pivot = Ab[i,i]\n",
        "    Ab[i,:] = Ab[i,:] / pivot\n",
        "    \n",
        "    # Eliminate entries below pivot\n",
        "    for j in range(i+1, n):\n",
        "        factor = Ab[j,i]\n",
        "        Ab[j,:] -= factor * Ab[i,:] # operation 2 of row operations\n",
        "  \n",
        "  # Perform back-substitution\n",
        "  for i in range(n-1, -1, -1):\n",
        "      for j in range(i-1, -1, -1):\n",
        "          factor = Ab[j,i]\n",
        "          Ab[j,:] -= factor * Ab[i,:]\n",
        "  \n",
        "  # Extract solution vector x\n",
        "  x = Ab[:,n]\n",
        "  \n",
        "  return x\n",
        "\n",
        "A = np.array([[1,2,3], [4,5,6], [7,8,9]])\n",
        "b = np.array([1,2,3])\n",
        "\n",
        "x = gauss_jordan(A, b)\n",
        "print(x)"
      ],
      "metadata": {
        "colab": {
          "base_uri": "https://localhost:8080/"
        },
        "id": "A55j90ZjTvwu",
        "outputId": "6eadfe12-66e9-41c2-b1cf-7a00756d401a"
      },
      "execution_count": null,
      "outputs": [
        {
          "output_type": "stream",
          "name": "stdout",
          "text": [
            "[ 9223372036854775806                    2 -9223372036854775808]\n"
          ]
        },
        {
          "output_type": "stream",
          "name": "stderr",
          "text": [
            "<ipython-input-7-7f37c130f0f5>:20: RuntimeWarning: divide by zero encountered in true_divide\n",
            "  Ab[i,:] = Ab[i,:] / pivot\n",
            "<ipython-input-7-7f37c130f0f5>:20: RuntimeWarning: invalid value encountered in true_divide\n",
            "  Ab[i,:] = Ab[i,:] / pivot\n"
          ]
        }
      ]
    },
    {
      "cell_type": "markdown",
      "source": [
        "3. Use **Gaussian elimination and backward substitution** solve the following linear system of equations written in augmented matrix format.\n",
        "\n",
        "![gaussian elimination.JPG](data:image/jpeg;base64,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)"
      ],
      "metadata": {
        "id": "S1UHuN3vPMnL"
      }
    },
    {
      "cell_type": "code",
      "source": [
        "###### Gaussian elimination and backward substitution ######\n",
        "# Solve a linear system of equations written in augmented matrix format.\n",
        "def gaussian_elimination(A: np.array, b: np.array):\n",
        "    n = len(b)\n",
        "\n",
        "    # Combine A and b into augmented matrix\n",
        "    Ab = np.concatenate((A, b.reshape(n, 1)), axis=1)\n",
        "\n",
        "    # numpy array of n size and initializing to zero for storing solution vector\n",
        "    x = np.zeros(n)\n",
        "\n",
        "    # Perform elimination\n",
        "    for i in range(n):\n",
        "        # Find pivot row to move the entry with largest abs value to the pivot position\n",
        "        max_row = i\n",
        "\n",
        "        for j in range(i + 1, n):\n",
        "            if abs(Ab[j, i]) > abs(Ab[max_row, i]):\n",
        "                max_row = j\n",
        "\n",
        "        # Swap rows to bring pivot element to diagonal\n",
        "        # Selects a submatrix consisting of all rows i to max_row\n",
        "        Ab[[i, max_row], :] = Ab[[max_row, i], :]\n",
        "\n",
        "        # Eliminate entries below pivot\n",
        "        for j in range(i + 1, n):\n",
        "            factor = Ab[j, i] / Ab[i, i]\n",
        "            Ab[j, :] = Ab[j, :] - factor * Ab[i, :]\n",
        "\n",
        "        if Ab[n - 1, n - 1] == 0:\n",
        "            print(\"No unique solution exists\")\n",
        "            return\n",
        "\n",
        "    # Start backward substitution\n",
        "    x[n - 1] = Ab[n - 1, n] / Ab[n - 1, n - 1]\n",
        "\n",
        "    for i in range(n - 2, -1, -1):\n",
        "        x[i] = Ab[i][n]\n",
        "        for j in range(i + 1, n):\n",
        "            x[i] = x[i] - Ab[i][j] * x[j]\n",
        "\n",
        "        x[i] = x[i] / Ab[i][i]\n",
        "\n",
        "    return x\n",
        "\n",
        "\n",
        "# A = np.array([[2, 3, -1], [4, -2, 1], [-2, 1, 2]], dtype=np.double)\n",
        "# b = np.array([5, 1, 3])  # b is a row vector but it should be a column vector\n",
        "\n",
        "A = np.array([[1,1,1], [2,3,4], [4,5,6]], dtype=np.double)\n",
        "b = np.array([6,20,33])  # b is a row vector but it should be a column vector\n",
        "\n",
        "x = gaussian_elimination(A, b)\n",
        "print(f\"{x}\\n\")"
      ],
      "metadata": {
        "colab": {
          "base_uri": "https://localhost:8080/"
        },
        "id": "zyTiOTfhPWWy",
        "outputId": "116edf34-70b1-4035-9c56-16449834bda9"
      },
      "execution_count": null,
      "outputs": [
        {
          "output_type": "stream",
          "name": "stdout",
          "text": [
            "No unique solution exists\n",
            "None\n",
            "\n"
          ]
        }
      ]
    },
    {
      "cell_type": "markdown",
      "source": [
        "#### LU Decomposition"
      ],
      "metadata": {
        "id": "7eS-lifeWAAC"
      }
    },
    {
      "cell_type": "markdown",
      "source": [
        "4. Implement **LU Factorization** for the following matrix and do the following:\n",
        "- Print out the matrix determinant.\n",
        "- Print out the L matrix.\n",
        "- Print out the U matrix."
      ],
      "metadata": {
        "id": "3UkDEaZsP_aZ"
      }
    },
    {
      "cell_type": "code",
      "source": [
        "def LU_factorization(mat: np.array):\n",
        "    # matrix determinant. It has to be a square matrix. Non-square matrix does not have det\n",
        "    det = np.linalg.det(mat)\n",
        "    print(\"Matrix determinant: %.5f\" % det)\n",
        "    print()\n",
        "\n",
        "    # print(np.shape(mat)) # gives (rows, columns)\n",
        "    # print(len(mat)) # gives the number of rows same as mat.shape[0]\n",
        "    n = len(mat)\n",
        "\n",
        "    # Initialize U to an identity matrix of dimension n x n\n",
        "    U = np.identity(n)\n",
        "    # Initialize L = A\n",
        "    L = mat.copy()\n",
        "\n",
        "    # Find L and U matrices\n",
        "    for i in range(n):\n",
        "        for j in range(i + 1, n):\n",
        "            if L[i, i] != 0:  # check for div by 0 error\n",
        "                factor = L[j, i] / L[i, i]\n",
        "                U[j, i] = factor\n",
        "                L[j, :] = L[j, :] - factor * L[i, :]\n",
        "            else:\n",
        "                print(\"Division by 0 error!\")\n",
        "                return\n",
        "\n",
        "    print(\"U matrix: \\n\", U)\n",
        "    print()\n",
        "    print(\"L matrix: \\n\", L)\n",
        "\n",
        "\n",
        "mat = np.array([[1, 1, 0, 3], [2, 1, -1, 1], [3, -1, -1, 2], [-1, 2, 3, -1]], dtype=np.float64)\n",
        "LU_factorization(mat)"
      ],
      "metadata": {
        "colab": {
          "base_uri": "https://localhost:8080/"
        },
        "id": "IqxYu92GQO_a",
        "outputId": "ebf8f603-6bdb-4e1b-aee8-f62ac7d32267"
      },
      "execution_count": null,
      "outputs": [
        {
          "output_type": "stream",
          "name": "stdout",
          "text": [
            "Matrix determinant: 39.00000\n",
            "\n",
            "U matrix: \n",
            " [[ 1.  0.  0.  0.]\n",
            " [ 2.  1.  0.  0.]\n",
            " [ 3.  4.  1.  0.]\n",
            " [-1. -3.  0.  1.]]\n",
            "\n",
            "L matrix: \n",
            " [[  1.   1.   0.   3.]\n",
            " [  0.  -1.  -1.  -5.]\n",
            " [  0.   0.   3.  13.]\n",
            " [  0.   0.   0. -13.]]\n"
          ]
        }
      ]
    },
    {
      "cell_type": "markdown",
      "source": [
        "#### Diagonally Dominant Matrix\n",
        "\n",
        "Determine if the following matrix is diagonally dominate. A matrix is **diagonally dominant**, meaning that the absolute value of the diagonal element in each row is greater than the sum of the absolute values of the other elements in that row."
      ],
      "metadata": {
        "id": "l82LIsQ6WsvL"
      }
    },
    {
      "cell_type": "code",
      "source": [
        "def diagonally_dominant_matrix(A: np.array):\n",
        "    # check if matrix A is square n x n\n",
        "    (row, column) = np.shape(A)\n",
        "    if row != column:\n",
        "        print(\"Matrix must be of type nxn (square matrix)\")\n",
        "        return False\n",
        "\n",
        "    # traverse the rows\n",
        "    for i in range(row):\n",
        "        sum = 0\n",
        "        # traverse columns and find the sum of each row\n",
        "        for j in range(column):\n",
        "            sum += abs(A[i, j])\n",
        "\n",
        "        # removing diagonal element\n",
        "        sum = sum - abs(A[i, i])\n",
        "\n",
        "        # checking if diagonal element is less than sum of non-diagonal element.\n",
        "        if abs(A[i, i]) < sum:\n",
        "            return False\n",
        "\n",
        "    return True\n",
        "\n",
        "matrix = np.array(\n",
        "    [\n",
        "        [9, 0, 5, 2, 1],\n",
        "        [3, 9, 1, 2, 1],\n",
        "        [0, 1, 7, 2, 3],\n",
        "        [4, 2, 3, 12, 2],\n",
        "        [3, 2, 4, 0, 8],\n",
        "    ]\n",
        ")\n",
        "print(diagonally_dominant_matrix(matrix))\n"
      ],
      "metadata": {
        "colab": {
          "base_uri": "https://localhost:8080/"
        },
        "id": "xse9r_-TRp8m",
        "outputId": "69fbdf01-1b91-4a1e-e987-e4b9063fcc9c"
      },
      "execution_count": null,
      "outputs": [
        {
          "output_type": "stream",
          "name": "stdout",
          "text": [
            "False\n"
          ]
        }
      ]
    },
    {
      "cell_type": "markdown",
      "source": [
        "#### Positive Definite Matrix\n",
        "\n",
        "Determine if the matrix is a **positive definite**"
      ],
      "metadata": {
        "id": "opp5nVYxW4AM"
      }
    },
    {
      "cell_type": "code",
      "source": [
        "###### Find if a matrix is positive definite ######\n",
        "# if it is symmetric and all its eigenvalues λ are positive, that is λ > 0\n",
        "\n",
        "def is_Symmetric(A: np.array) -> bool:\n",
        "    # Transpose the matrix\n",
        "    B = A.transpose()\n",
        "    # check if both the arrays are of equal size\n",
        "    if A.shape == B.shape:\n",
        "        # comparing the arrays using == and all() method\n",
        "        if (A == B).all():\n",
        "            return True\n",
        "        else:\n",
        "            return False\n",
        "    else:\n",
        "        return False\n",
        "\n",
        "\n",
        "def positive_eigenvalues(A: np.array) -> bool:\n",
        "    # w are eigen values and v are eigen vectors\n",
        "    w, v = eig(A)\n",
        "    return all(i > 0 for i in w)\n",
        "\n",
        "\n",
        "def positive_definite_matrix(A: np.array):\n",
        "    return is_Symmetric(A) and positive_eigenvalues(A)\n",
        "\n",
        "\n",
        "mat = np.array([[2, 2, 1], [2, 3, 0], [1, 0, 2]])\n",
        "print(positive_definite_matrix(mat))"
      ],
      "metadata": {
        "colab": {
          "base_uri": "https://localhost:8080/"
        },
        "id": "iCPyxRWDR_I3",
        "outputId": "aa1bd915-d104-4680-b633-90c3a817aee1"
      },
      "execution_count": null,
      "outputs": [
        {
          "output_type": "stream",
          "name": "stdout",
          "text": [
            "True\n"
          ]
        }
      ]
    },
    {
      "cell_type": "markdown",
      "source": [
        "### **Chapter 7: Iterative Techniques for Matrices**\n",
        "\n",
        "* 7.1/7.2 Matrices and Eigens\n",
        "* 7.3 Iterative Methods: Solve a system of equations using an iterative method such as the **Jacobi or Gauss-Seidel** methods.\n",
        "* 7.4 **Relaxation techniques**: residual vectors and over-relaxation (modification to Gauss-Seidel method)\n",
        "* 7.5 Error Bounds and Iterative Refinement\n",
        "\n",
        "In class code & bonus assignment:\n",
        "- Jacobi Method\n",
        "- Gauss-Seidel Method\n",
        "- Relaxation Techniques"
      ],
      "metadata": {
        "id": "uVGRHjZVbGSU"
      }
    },
    {
      "cell_type": "code",
      "source": [
        "# Jacobi and Gauss-Seidel methods require a diagonally dominant matrix\n",
        "def make_diagonally_dominant(A, b):\n",
        "  n = len(A)\n",
        "\n",
        "  # traverse the rows and find the sum of its elements\n",
        "  for i in range(n):\n",
        "    sum = np.sum(abs(A[i, :]))\n",
        "    pivot = A[i, i]\n",
        "    # removing diagonal element\n",
        "    sum = sum - abs(pivot)\n",
        "\n",
        "    # checking if diagonal element is less than sum of non-diagonal element.\n",
        "    if abs(pivot) > sum:\n",
        "        continue\n",
        "\n",
        "    # if we reach this point, this means we need to swap AT LEAST ONCE\n",
        "    max_value_of_row = 0\n",
        "    max_index_in_row = 0\n",
        "    for j in range(n):\n",
        "      current_value_in_row = abs(A[i, j])\n",
        "      if current_value_in_row > max_value_of_row:\n",
        "        max_value_of_row = current_value_in_row\n",
        "        max_index_in_row = j\n",
        "\n",
        "    # now that we have a new \"pivot\", we swap cur_row with the expected index\n",
        "    A[[i, max_index_in_row]] = A[[max_index_in_row, i]]\n",
        "    b[[i, max_index_in_row]] = b[[max_index_in_row, i]]\n",
        "\n",
        "  return A, b"
      ],
      "metadata": {
        "id": "58fhqIfRNq_d"
      },
      "execution_count": null,
      "outputs": []
    },
    {
      "cell_type": "markdown",
      "source": [
        "#### Gauss-seidel method\n",
        "\n",
        "1. The number of iterations it takes **gauss-seidel** to converge:\n",
        "- Initial guess: [0, 0, 0]\n",
        "- Tolerance: 1e-6\n",
        "- Iterations: 50\n",
        "-\n",
        "3\t1\t1\t1<br>\n",
        "1\t4\t1\t3<br>\n",
        "2\t3\t7\t0<br>\n",
        "\n",
        "This method is an improvement to jacobi. It uses a different formula to calculate xi\n",
        "\n",
        "![gauss-seidel.JPG](data:image/jpeg;base64,/9j/4AAQSkZJRgABAQEAYABgAAD/4RD0RXhpZgAATU0AKgAAAAgABAE7AAIAAAAOAAAISodpAAQAAAABAAAIWJydAAEAAAAcAAAQ0OocAAcAAAgMAAAAPgAAAAAc6gAAAAgAAAAAAAAAAAAAAAAAAAAAAAAAAAAAAAAAAAAAAAAAAAAAAAAAAAAAAAAAAAAAAAAAAAAAAAAAAAAAAAAAAAAAAAAAAAAAAAAAAAAAAAAAAAAAAAAAAAAAAAAAAAAAAAAAAAAAAAAAAAAAAAAAAAAAAAAAAAAAAAAAAAAAAAAAAAAAAAAAAAAAAAAAAAAAAAAAAAAAAAAAAAAAAAAAAAAAAAAAAAAAAAAAAAAAAAAAAAAAAAAAAAAAAAAAAAAAAAAAAAAAAAAAAAAAAAAAAAAAAAAAAAAAAAAAAAAAAAAAAAAAAAAAAAAAAAAAAAAAAAAAAAAAAAAAAAAAAAAAAAAAAAAAAAAAAAAAAAAAAAAAAAAAAAAAAAAAAAAAAAAAAAAAAAAAAAAAAAAAAAAAAAAAAAAAAAAAAAAAAAAAAAAAAAAAAAAAAAAAAAAAAAAAAAAAAAAAAAAAAAAAAAAAAAAAAAAAAAAAAAAAAAAAAAAAAAAAAAAAAAAAAAAAAAAAAAAAAAAAAAAAAAAAAAAAAAAAAAAAAAAAAAAAAAAAAAAAAAAAAAAAAAAAAAAAAAAAAAAAAAAAAAAAAAAAAAAAAAAAAAAAAAAAAAAAAAAAAAAAAAAAAAAAAAAAAAAAAAAAAAAAAAAAAAAAAAAAAAAAAAAAAAAAAAAAAAAAAAAAAAAAAAAAAAAAAAAAAAAAAAAAAAAAAAAAAAAAAAAAAAAAAAAAAAAAAAAAAAAAAAAAAAAAAAAAAAAAAAAAAAAAAAAAAAAAAAAAAAAAAAAAAAAAAAAAAAAAAAAAAAAAAAAAAAAAAAAAAAAAAAAAAAAAAAAAAAAAAAAAAAAAAAAAAAAAAAAAAAAAAAAAAAAAAAAAAAAAAAAAAAAAAAAAAAAAAAAAAAAAAAAAAAAAAAAAAAAAAAAAAAAAAAAAAAAAAAAAAAAAAAAAAAAAAAAAAAAAAAAAAAAAAAAAAAAAAAAAAAAAAAAAAAAAAAAAAAAAAAAAAAAAAAAAAAAAAAAAAAAAAAAAAAAAAAAAAAAAAAAAAAAAAAAAAAAAAAAAAAAAAAAAAAAAAAAAAAAAAAAAAAAAAAAAAAAAAAAAAAAAAAAAAAAAAAAAAAAAAAAAAAAAAAAAAAAAAAAAAAAAAAAAAAAAAAAAAAAAAAAAAAAAAAAAAAAAAAAAAAAAAAAAAAAAAAAAAAAAAAAAAAAAAAAAAAAAAAAAAAAAAAAAAAAAAAAAAAAAAAAAAAAAAAAAAAAAAAAAAAAAAAAAAAAAAAAAAAAAAAAAAAAAAAAAAAAAAAAAAAAAAAAAAAAAAAAAAAAAAAAAAAAAAAAAAAAAAAAAAAAAAAAAAAAAAAAAAAAAAAAAAAAAAAAAAAAAAAAAAAAAAAAAAAAAAAAAAAAAAAAAAAAAAAAAAAAAAAAAAAAAAAAAAAAAAAAAAAAAAAAAAAAAAAAAAAAAAAAAAAAAAAAAAAAAAAAAAAAAAAAAAAAAAAAAAAAAAAAAAAAAAAAAAAAAAAAAAAAAAAAAAAAAAAAAAAAAAAAAAAAAAAAAAAAAAAAAAAAAAAAAAAAAAAAAAAAAAAAAAAAAAAAAAAAAAAAAAAAAAAAAAAAAAAAAAAAAAAAAAAAAAAAAAAAAAAAAAAAAAAAAAAAAAAAAAAAAAAAAAAAAAAAAAAAAAAAAAAAAAAAAAAAAAAAAAAAAAAAAAAAAAAAAAAAAAAAAAAAAAAAAAAAAAAAAAAAAAAAAAAAAAAAAAAAAAAAAAAAAAAAAAAAAAAAAAAAAAAAAAAAAAAAAAAAAAAAAAAAAAAAAAAAAAAAAAAAAAAAAAAAAAAAAAAAAAAAAAAAAAAAAAAAAAAAAAAAAAAAAAAAAAAAAAAAAAAAAAAAAAAAAAAAAAAAAAAAAAAAAAAAAAAAAAAAAAAAAAAAAAAAAAAAAAAAAAAAAAAAAAAAAAAAAAAAAAAAAAAAAAAAAAAAAAAAAAAAAAAAAAAAAAAAAAAAAAAAAAAAAAAAAAAAAAAAAAAAAAAAAAAAAAAAAAAAAAAAAAAAAAAAAAAAAAAAAAAAAAAAAAAAAAAAAAAAAAAAAAAAAAAAAAAAAAAAAAAAAAAAAAAAAAAAAAAAAAAAAAAAAAAAAAAAAAAAAAAAAAAAAAAAAAAAAAAAAAAAAAAAAAAAAAAAAAAAAAAAAAAAAAAAAAAAAAAAAAAAAAAAAAAAAAAAAAAAAAAAAAAAAAAAAAAAAAAAAAAAAAAAAAAAAAAAAAAAAAAAAAAAAAAAAAAAAAAAAAAAAAAAAAAAAAAAAAAAAAAAAAAAAAAAAAAAAAAAAAAAAAAAAAAAAAAAAAAAAAAAAAAAAAAAAAAAAAAAAAAAAAAAAAAAAAAAAAAAAAAAAAAAAAAAAAAAAAAAAAAAAAAAAAAAAAAAAAAAAAAAAAAAAAAAAAAAAAAAAAAAAAAAAAAAAAAAAAAAAAAAAAAAAAAAAAAAAAAAAAAAAAAAAAAAAAAAAAAAAAAAAAAAAAAAAAAAAAAAAAAAAAAAAAAAAAAAAAAAAAAAAAAAAAAAAAAAAAAAAAAAAAAAAAAAAAAAAAAAAAAAAAAAAAAAAAAAAAAAAAAAAAAAAAAAAAAAAAAAAAAAAAAAAAAAAAAAAAAAAAAAAAAAAAAAAAAAAAAAAAAAAAAAAAAAAAAAAAAAAAAAAAAAAAAAAAAAAAAAAAAAAAAAAAAAAAAAAAAAAAAAAAAAAAAAAAAAAAAAAAAAAAAAAAAAAAEVkZWxpcyBNb2xpbmEAAAWQAwACAAAAFAAAEKaQBAACAAAAFAAAELqSkQACAAAAAzA0AACSkgACAAAAAzA0AADqHAAHAAAIDAAACJoAAAAAHOoAAAAIAAAAAAAAAAAAAAAAAAAAAAAAAAAAAAAAAAAAAAAAAAAAAAAAAAAAAAAAAAAAAAAAAAAAAAAAAAAAAAAAAAAAAAAAAAAAAAAAAAAAAAAAAAAAAAAAAAAAAAAAAAAAAAAAAAAAAAAAAAAAAAAAAAAAAAAAAAAAAAAAAAAAAAAAAAAAAAAAAAAAAAAAAAAAAAAAAAAAAAAAAAAAAAAAAAAAAAAAAAAAAAAAAAAAAAAAAAAAAAAAAAAAAAAAAAAAAAAAAAAAAAAAAAAAAAAAAAAAAAAAAAAAAAAAAAAAAAAAAAAAAAAAAAAAAAAAAAAAAAAAAAAAAAAAAAAAAAAAAAAAAAAAAAAAAAAAAAAAAAAAAAAAAAAAAAAAAAAAAAAAAAAAAAAAAAAAAAAAAAAAAAAAAAAAAAAAAAAAAAAAAAAAAAAAAAAAAAAAAAAAAAAAAAAAAAAAAAAAAAAAAAAAAAAAAAAAAAAAAAAAAAAAAAAAAAAAAAAAAAAAAAAAAAAAAAAAAAAAAAAAAAAAAAAAAAAAAAAAAAAAAAAAAAAAAAAAAAAAAAAAAAAAAAAAAAAAAAAAAAAAAAAAAAAAAAAAAAAAAAAAAAAAAAAAAAAAAAAAAAAAAAAAAAAAAAAAAAAAAAAAAAAAAAAAAAAAAAAAAAAAAAAAAAAAAAAAAAAAAAAAAAAAAAAAAAAAAAAAAAAAAAAAAAAAAAAAAAAAAAAAAAAAAAAAAAAAAAAAAAAAAAAAAAAAAAAAAAAAAAAAAAAAAAAAAAAAAAAAAAAAAAAAAAAAAAAAAAAAAAAAAAAAAAAAAAAAAAAAAAAAAAAAAAAAAAAAAAAAAAAAAAAAAAAAAAAAAAAAAAAAAAAAAAAAAAAAAAAAAAAAAAAAAAAAAAAAAAAAAAAAAAAAAAAAAAAAAAAAAAAAAAAAAAAAAAAAAAAAAAAAAAAAAAAAAAAAAAAAAAAAAAAAAAAAAAAAAAAAAAAAAAAAAAAAAAAAAAAAAAAAAAAAAAAAAAAAAAAAAAAAAAAAAAAAAAAAAAAAAAAAAAAAAAAAAAAAAAAAAAAAAAAAAAAAAAAAAAAAAAAAAAAAAAAAAAAAAAAAAAAAAAAAAAAAAAAAAAAAAAAAAAAAAAAAAAAAAAAAAAAAAAAAAAAAAAAAAAAAAAAAAAAAAAAAAAAAAAAAAAAAAAAAAAAAAAAAAAAAAAAAAAAAAAAAAAAAAAAAAAAAAAAAAAAAAAAAAAAAAAAAAAAAAAAAAAAAAAAAAAAAAAAAAAAAAAAAAAAAAAAAAAAAAAAAAAAAAAAAAAAAAAAAAAAAAAAAAAAAAAAAAAAAAAAAAAAAAAAAAAAAAAAAAAAAAAAAAAAAAAAAAAAAAAAAAAAAAAAAAAAAAAAAAAAAAAAAAAAAAAAAAAAAAAAAAAAAAAAAAAAAAAAAAAAAAAAAAAAAAAAAAAAAAAAAAAAAAAAAAAAAAAAAAAAAAAAAAAAAAAAAAAAAAAAAAAAAAAAAAAAAAAAAAAAAAAAAAAAAAAAAAAAAAAAAAAAAAAAAAAAAAAAAAAAAAAAAAAAAAAAAAAAAAAAAAAAAAAAAAAAAAAAAAAAAAAAAAAAAAAAAAAAAAAAAAAAAAAAAAAAAAAAAAAAAAAAAAAAAAAAAAAAAAAAAAAAAAAAAAAAAAAAAAAAAAAAAAAAAAAAAAAAAAAAAAAAAAAAAAAAAAAAAAAAAAAAAAAAAAAAAAAAAAAAAAAAAAAAAAAAAAAAAAAAAAAAAAAAAAAAAAAAAAAAAAAAAAAAAAAAAAAAAAAAAAAAAAAAAAAAAAAAAAAAAAAAAAAAAAAAAAAAAAAAAAAAAAAAAAAAAAAAAAAAAAAAAAAAAAAAAAAAAAAAAAAAAAAAAAAAAAAAAAAAAAAAAAAAAAAAAAAAAAAAAAAAAAAAAAAAAAAAAAAAAAAAAAAAAAAAAAAAAAAAAAAAAAAAAAAAAAAAAAAAAAAAAAAAAAAAAAAAAAAAAAAAAAAAAAAAAAAAAAAAAAAAAAAAAAAAAAAAAAAAAAAAAAAAAAAAAAAAAAAAAAAAAAAAAAAAAAAAAAAAAAAAAAAAAAAAAAAAAAAAAAAAAAAAAAAAAAAAAAAAAAAAAAAAAAAAAAAAAAAAAAAAAAAAAAAAAAAAAAAAAAAAAAAAAAAAAAAAAAAAAAAAAAAAAAAAAAAAAAAAAAAAAAAAAAAAAAAAAAAAAAAAAAAAAAAAAAAAAAAAAAAAAAAAAAAAAAAAAAAAAAAAAAAAAAAAAAAAAAAAAAAAAAAAAAAAAAAAAAAAAAAAAAAAAAAAAAAAAAAAAAAAAAAAAAAAAAAAAAAAAAAAAAAAAAAAAAAAAAAAAAAAAAAAAAAAAAAAAAAAAAAAAAAAAAAAAAAAAAAAAAAAAAAAAAAAAAAAAAAAAAAAAAAAAAAAAAAAAAAAAAAAAAAAAAAAAAAAAAAAAAAAAAAAAAAAAAAAAAAAAAAAAAAAAAAAAAAAAAAAAAAAAAAAAAAAAAAAAAAAAAAAAAAAAAAAAAAAAAAAAAAAAAAAAAAAAAAAAAAAAAAAAAAAAAAAAAAAAAAAAAAAAAAAAAAAAAAAAAAAAAAAAAAAAAAAAAAAAAAAAAAAAAAAAAAAAAAAAAAAAAAAAAAAAAAAAAAAAAAAAAAAAAAAAAAAAAAAAAAAAAAAAAAAAAAAAAAAAAAAAAAAAAAAAAAAAAAAAAAAAAAAAAAAAAAAAAAAAAAAAAAAAAAAAAAAyMDIzOjA0OjI0IDIyOjEwOjQ5ADIwMjM6MDQ6MjQgMjI6MTA6NDkAAABFAGQAZQBsAGkAcwAgAE0AbwBsAGkAbgBhAAAA/+ELIGh0dHA6Ly9ucy5hZG9iZS5jb20veGFwLzEuMC8APD94cGFja2V0IGJlZ2luPSfvu78nIGlkPSdXNU0wTXBDZWhpSHpyZVN6TlRjemtjOWQnPz4NCjx4OnhtcG1ldGEgeG1sbnM6eD0iYWRvYmU6bnM6bWV0YS8iPjxyZGY6UkRGIHhtbG5zOnJkZj0iaHR0cDovL3d3dy53My5vcmcvMTk5OS8wMi8yMi1yZGYtc3ludGF4LW5zIyI+PHJkZjpEZXNjcmlwdGlvbiByZGY6YWJvdXQ9InV1aWQ6ZmFmNWJkZDUtYmEzZC0xMWRhLWFkMzEtZDMzZDc1MTgyZjFiIiB4bWxuczpkYz0iaHR0cDovL3B1cmwub3JnL2RjL2VsZW1lbnRzLzEuMS8iLz48cmRmOkRlc2NyaXB0aW9uIHJkZjphYm91dD0idXVpZDpmYWY1YmRkNS1iYTNkLTExZGEtYWQzMS1kMzNkNzUxODJmMWIiIHhtbG5zOnhtcD0iaHR0cDovL25zLmFkb2JlLmNvbS94YXAvMS4wLyI+PHhtcDpDcmVhdGVEYXRlPjIwMjMtMDQtMjRUMjI6MTA6NDkuMDQyPC94bXA6Q3JlYXRlRGF0ZT48L3JkZjpEZXNjcmlwdGlvbj48cmRmOkRlc2NyaXB0aW9uIHJkZjphYm91dD0idXVpZDpmYWY1YmRkNS1iYTNkLTExZGEtYWQzMS1kMzNkNzUxODJmMWIiIHhtbG5zOmRjPSJodHRwOi8vcHVybC5vcmcvZGMvZWxlbWVudHMvMS4xLyI+PGRjOmNyZWF0b3I+PHJkZjpTZXEgeG1sbnM6cmRmPSJodHRwOi8vd3d3LnczLm9yZy8xOTk5LzAyLzIyLXJkZi1zeW50YXgtbnMjIj48cmRmOmxpPkVkZWxpcyBNb2xpbmE8L3JkZjpsaT48L3JkZjpTZXE+DQoJCQk8L2RjOmNyZWF0b3I+PC9yZGY6RGVzY3JpcHRpb24+PC9yZGY6UkRGPjwveDp4bXBtZXRhPg0KICAgICAgICAgICAgICAgICAgICAgICAgICAgICAgICAgICAgICAgICAgICAgICAgICAgICAgICAgICAgICAgICAgICAgICAgICAgICAgICAgICAgICAgICAgICAgICAgICAgIAogICAgICAgICAgICAgICAgICAgICAgICAgICAgICAgICAgICAgICAgICAgICAgICAgICAgICAgICAgICAgICAgICAgICAgICAgICAgICAgICAgICAgICAgICAgICAgICAgICAgCiAgICAgICAgICAgICAgICAgICAgICAgICAgICAgICAgICAgICAgICAgICAgICAgICAgICAgICAgICAgICAgICAgICAgICAgICAgICAgICAgICAgICAgICAgICAgICAgICAgICAKICAgICAgICAgICAgICAgICAgICAgICAgICAgICAgICAgICAgICAgICAgICAgICAgICAgICAgICAgICAgICAgICAgICAgICAgICAgICAgICAgICAgICAgICAgICAgICAgICAgIAogICAgICAgICAgICAgICAgICAgICAgICAgICAgICAgICAgICAgICAgICAgICAgICAgICAgICAgICAgICAgICAgICAgICAgICAgICAgICAgICAgICAgICAgICAgICAgICAgICAgCiAgICAgICAgICAgICAgICAgICAgICAgICAgICAgICAgICAgICAgICAgICAgICAgICAgICAgICAgICAgICAgICAgICAgICAgICAgICAgICAgICAgICAgICAgICAgICAgICAgICAKICAgICAgICAgICAgICAgICAgICAgICAgICAgICAgICAgICAgICAgICAgICAgICAgICAgICAgICAgICAgICAgICAgICAgICAgICAgICAgICAgICAgICAgICAgICAgICAgICAgIAogICAgICAgICAgICAgICAgICAgICAgICAgICAgICAgICAgICAgICAgICAgICAgICAgICAgICAgICAgICAgICAgICAgICAgICAgICAgICAgICAgICAgICAgICAgICAgICAgICAgCiAgICAgICAgICAgICAgICAgICAgICAgICAgICAgICAgICAgICAgICAgICAgICAgICAgICAgICAgICAgICAgICAgICAgICAgICAgICAgICAgICAgICAgICAgICAgICAgICAgICAKICAgICAgICAgICAgICAgICAgICAgICAgICAgICAgICAgICAgICAgICAgICAgICAgICAgICAgICAgICAgICAgICAgICAgICAgICAgICAgICAgICAgICAgICAgICAgICAgICAgIAogICAgICAgICAgICAgICAgICAgICAgICAgICAgICAgICAgICAgICAgICAgICAgICAgICAgICAgICAgICAgICAgICAgICAgICAgICAgICAgICAgICAgICAgICAgICAgICAgICAgCiAgICAgICAgICAgICAgICAgICAgICAgICAgICAgICAgICAgICAgICAgICAgICAgICAgICAgICAgICAgICAgICAgICAgICAgICAgICAgICAgICAgICAgICAgICAgICAgICAgICAKICAgICAgICAgICAgICAgICAgICAgICAgICAgICAgICAgICAgICAgICAgICAgICAgICAgICAgICAgICAgICAgICAgICAgICAgICAgICAgICAgICAgICAgICAgICAgICAgICAgIAogICAgICAgICAgICAgICAgICAgICAgICAgICAgICAgICAgICAgICAgICAgICAgICAgICAgICAgICAgICAgICAgICAgICAgICAgICAgICAgICAgICAgICAgICAgICAgICAgICAgCiAgICAgICAgICAgICAgICAgICAgICAgICAgICAgICAgICAgICAgICAgICAgICAgICAgICAgICAgICAgICAgICAgICAgICAgICAgICAgICAgICAgICAgICAgICAgICAgICAgICAKICAgICAgICAgICAgICAgICAgICAgICAgICAgICAgICAgICAgICAgICAgICAgICAgICAgICAgICAgICAgICAgICAgICAgICAgICAgICAgICAgICAgICAgICAgICAgICAgICAgIAogICAgICAgICAgICAgICAgICAgICAgICAgICAgICAgICAgICAgICAgICAgICAgICAgICAgICAgICAgICAgICAgICAgICAgICAgICAgICAgICAgICAgICAgICAgICAgICAgICAgCiAgICAgICAgICAgICAgICAgICAgICAgICAgICAgICAgICAgICAgICAgICAgICAgICAgICAgICAgICAgICAgICAgICAgICAgICAgICAgICAgICAgICAgICAgICAgICAgICAgICAKICAgICAgICAgICAgICAgICAgICAgICAgICAgICAgICAgICAgICAgICAgICAgICAgICAgICAgICAgICAgICAgICAgICAgICAgICAgICAgICAgICAgICAgICAgICAgICAgICAgIAogICAgICAgICAgICAgICAgICAgICAgICAgICAgICAgICAgICAgICAgICAgICAgICAgICAgICAgICAgICAgICAgICAgICAgICAgICAgICAgICAgICAgICAgICAgICAgICAgICAgCiAgICAgICAgICAgICAgICAgICAgICAgICAgICA8P3hwYWNrZXQgZW5kPSd3Jz8+/9sAQwAHBQUGBQQHBgUGCAcHCAoRCwoJCQoVDxAMERgVGhkYFRgXGx4nIRsdJR0XGCIuIiUoKSssKxogLzMvKjInKisq/9sAQwEHCAgKCQoUCwsUKhwYHCoqKioqKioqKioqKioqKioqKioqKioqKioqKioqKioqKioqKioqKioqKioqKioqKioq/8AAEQgATAHCAwEiAAIRAQMRAf/EAB8AAAEFAQEBAQEBAAAAAAAAAAABAgMEBQYHCAkKC//EALUQAAIBAwMCBAMFBQQEAAABfQECAwAEEQUSITFBBhNRYQcicRQygZGhCCNCscEVUtHwJDNicoIJChYXGBkaJSYnKCkqNDU2Nzg5OkNERUZHSElKU1RVVldYWVpjZGVmZ2hpanN0dXZ3eHl6g4SFhoeIiYqSk5SVlpeYmZqio6Slpqeoqaqys7S1tre4ubrCw8TFxsfIycrS09TV1tfY2drh4uPk5ebn6Onq8fLz9PX29/j5+v/EAB8BAAMBAQEBAQEBAQEAAAAAAAABAgMEBQYHCAkKC//EALURAAIBAgQEAwQHBQQEAAECdwABAgMRBAUhMQYSQVEHYXETIjKBCBRCkaGxwQkjM1LwFWJy0QoWJDThJfEXGBkaJicoKSo1Njc4OTpDREVGR0hJSlNUVVZXWFlaY2RlZmdoaWpzdHV2d3h5eoKDhIWGh4iJipKTlJWWl5iZmqKjpKWmp6ipqrKztLW2t7i5usLDxMXGx8jJytLT1NXW19jZ2uLj5OXm5+jp6vLz9PX29/j5+v/aAAwDAQACEQMRAD8A+kaKKKACiiigAooooAKKKKACiisTxdr8/hvQft1pZJfTvcwW0cDz+SrNLKsYJfa2AC2eho8gNuisTRr7xLc3bpr2h6fp9uEysltqbXLFsjgqYUwMZ5z26Vt0AFFFFABRRRQAUUUUAFFFFABRRRQAUUUUAFFFFABRRRQAUUUUAFFFFABRRRQAUUUUAFFFFABRUV088dnM9nCk9wqExRSSeWrtjgFsHAJ74OPSuTXxV4lstf0iw17w3p9pBqlw1uk9rq7TsjCJ5OUMCZGEI696Fq7B0udjRRRQAUUUUAFFFFABRRRQAUUUUAFFFFABRRRQAUUUUAFFFFABRRRQAUVXu76KzaBJMtJcSCKJFxlmwSfyAJPsKzLDxNBdae91OscQS4aJ1SUOUTzGRJG6EBsA9OAfQZoA26KKKACqWrazp+h2Ju9Wuo7WDcF3v3JOAAByTk9qu1x3xV/5Jxff9drb/wBKI6AOxrkviT/yLFp/2GNP/wDSuKutrkviT/yLFp/2GNP/APSuKqh8cfVfmg6P0f5HW0UUVIFLWdQTSdDvtRlxstYHmOR/dUn+lVNPu5rfS7SOHR5GQQIQbMxLEMqCQgZwQPwpvi3xND4Q8N3Ot3dje3ttagNMlkivIq92wzKMDvzWVpnju61nS7fUdL8Ga7c2dzGJIZUn0/Dqeh/4+qF1B9P6/r/glm4kQ/ErSC37uWTSrrMbMNw/eQYGASPXp7101cjqHjq60m1N3qngvxFbWiEebOPscoiXPLsI7hm2jqSAcCutVg6hlIKsMgjuKfRf11v+odRaKKKQBRRWJJ4mt1uNOEYjFtetJ+/llCAIowHHqCxVRyPvA0AbdFV7S9ju2nRMrJbyeXKh6qcAj8CCCPrVigAooooAK5LS/FV9qHi86c0dqlkz3QhYA+ZIsJRC3XA+dnHTkL27w6z8SrbR/G8PhU6BrF1qNzF51sYfsyR3Cgc7GlmTJHOR146Vf/4SjV/+hE8Qf9/9P/8AkqhdwfY6Siuf0XxYNV1q40m70XVNHvIYROqX6xbZkJwSjRyOrYOM88bh610FABRRRQAUUViSeJrdbjThGIxbXrSfv5ZQgCKMBx6gsVUcj7wNAG3RRWT/AG4Rreo6ebRz9htYbnejgmQOZBgL2I8s9+c0Aa1FR288V1bR3Fu4kilQOjr0ZSMg1JQAUUUjOqY3sFycDJxk+lAC1yXjD/kaPBX/AGF5P/SSeutrkvGH/I0eCv8AsLyf+kk9VH4kPo/R/kdbRRRUiCiiigAooooAKKKKACiiigAooooAKKKKACiiigAooooAKzfEOpz6N4evtStbRbx7SB5jAZfL3hQSQDg88elaVUdS0qPVDGl1PN9lAYS2q7fLuAccPlScDHQEA98jik720GrX1MR57jWf7J1PZDZnzi9lG04Z545IGGSp2gMNxbaC3yqeeeIbXwZPpnhC68P29691BdBYxJIuHiBUCRixYluhIHbIHQZFrS7CbQNQ0nQrGS9m023s5C01wm/ldixpvCgDC7uBgnA68mulq3ZO8SEnazIbueS1spZoLWa8kjXKwQlA8h9AXZVz9SBWD/wlGr/9CJ4g/wC/+n//ACVW9eWdrqFnLaX9tDdW0y7ZIZ4w6OPQqeCKwf8AhXHgj/oTfD//AIK4P/iako3HvIoNNa9vyLKGOIyzG4dVECgZbewJUYGcnOOOtc1f+Nfh1qlsbfU/Evhe8gJDGK4v7eRcg5BwWI4NdVDDFbwRw28aRRRqESNFCqqgYAAHQCq8+r6bbXS2tzqFrDcOyosUkyq7M33QATnJ7etD3EttTJtPHng25uILOx8VaFNNK6xQwQ6jCzOxOFVVDZJJwABVH4luqeF7QuwUf2xp/U4/5eo66+uR+JQB8MWmRn/icaf/AOlcVVH44+q/ND6P0f5HVXFxDaW0lxdzRwQRKXkllYKqKBkkk8AAd65//hY/gj/ocvD/AP4NIP8A4qukoqQIyIbq2IOyaGZPZldSP1BFeU+Gorv4WfEVfCbJNN4X16R5dIkALfY5+WeA+inkj/8AWa9UvLy30+xmvL2ZILeBDJLI5wEUDJJrn9AtLjV9SPibVomjd0KabayDBtoD/Ew/56PwT6DC+uXH4r/eD+Gx0rosiMkihlYYZSMgiuaj1GN/GkuiRn7PZaNp8Vy6g7QxdnVAf9lViJx0yR6Vu6jqNppOnzX2pXEdtawKXkllYKqge9Ydzoceqam+qJFJ9n1jTRZXsROyQJyUbrwR5jgjryPSp16f1o7D06/1qr/gMtPGT32p6NDa6crWur+bJBM1xtcQIufNMe3oxKgDOcMCcdK6AXMht45Psc4Z3CmMlNyDONx+bGO/BJx2zxXNR+BIrGSC9stRvLnUbLTXsLVruRBGynG0OEQcAqvQDPcGnJpk7SaFo6LNGmmRGS4uUVtocRbECuy4c5ct0PKcgdKp26f1v+n5k69f6/plm38RXt74o1DQl0yNWsjE8sxujgwSKdrgbM7sqw29PlJ3dAczTvCTzpod3BqYU6NALa1ZAJY5UBwznDYbcoXGfusueau3Oh2XhxrvxKby8e6hsGW5kLJm72ZZWcBRlhkgAYXnGOBje0xbldJtBfuHuhCnnMFCgvj5uB05zQtNV/W/9fMb7dH/AMAy30m5Ya1diVra4umVrcq3MXlphWOODk5OOhBAPepvDevx654O0/XZtlulzaLcSbmwsfy5bn0BzzV7UhdNp0yWCq1xIpSMscKhPG4+w64HNR6JpMGg6DZaVZ5MFnAkKFupCjGT7nrSWz+X6/8AADTQyf8AhY/gj/ocvD//AINIP/iq6GGaK4gjmt5ElikUOkiMGVlIyCCOoNPooA5D4j+CR408OqtnMbTWbB/tOmXinDQzLyOf7p6H8+1O+HHi248XeF/O1SzkstWsZms9QgdCAs6feKnoQeDx0zV/xHq9zC8Gj6KVOr34PlswyttGPvzMPRc8DuxA9SNDRtItdD0qKwsg3lx5LO5y0jk5Z2PdmJJJ9TRHRPt+v9f1oD6d/wBP6/rUtPbQyXEU7xqZYgwRyOVBxkD64H5VhT6o1148TRQ5jgs7EX0+DjeWcogJ/uja5I7nbWm+sWSa3FpAmD30kTTeShyUQYG5vQEkAetUdR0My+I49UiUus1o1hdxhtpaMtuVgfVTu49GPcAFa6Nef5P9R6Wa9PzX6FGLxobu+0dbHT1ms9XuJIrecz7WMaIzGbZt+4duBzk7lPGa6IXUhhV/sc4Yy+WYyU3Absbz82NuPm65x2zxXNWPw/tNLk0y4tdQv57jSLJ7OzFxKgTyyFwrBEHA2LyOSM53U200q7C6Do0gkU6bE0t3dRq2zzPL2rtd1w5LOX6HlOQOlVp0/r+kvxEXbfxFe3vijUNCXTI1ayMTyzG6ODBIp2uBszu3Kw29PlJ3dAczTvCTTrot1Bqaq2iQ/ZLYoBLHIFO12bDYJIVRg8qy55rR/wCEfsNBup/EUl7dmeGyK3crsg+0hMsHkwoywy2MYUA4xwMa2iNdvoNk+pHN28KvNhQuHIyRgehOKFpqun/B/wCD94Pt0YSaRbSTNI0l4GY7iFvplH5B8D6VWOlz22vajrEMgna5tIrdLYJtIMbSEHeWxz5npxjvWvRS6WGcfeb/AATovhzbOZI4ZrbTLnJ4kWQiMNjsQ5U59MjvXQ6tr2kaBDHNruq2OmxSNtR7y5SFXPXALEZNVtc0ltbutPt5kAs7W5S8lYkfvGjOUQD/AHsMT7Ad+Nine6u97/hp+txdfl/n/wAA4zwp8QtA1dZLabxRpFxfSX9xFbwpew+ZIgmYRhVBy2VC4OOevNJ48drvWfC+kW9qt1NNqP2sxsdoVIEL7i2DtG8x5OD16HpXRaHpbaRZzwvKJTLeT3IIGMCSVnA/DdiotQ8OQahrUWqG6ure4jtXtR5LqAY3ZWbqpIJ2jkEGjqn/AF5fiOWrl2d/x/4BF4a8Rv4h0mG8bT5LcvPNBIFkDojROyFgx2llJXghfqBWZ4ydV8VeCQzAE6vJgE9f9EnrUtdCNl4gtJbSK3h0yzsDbQRIxDKxYE/LjGMKvOc9eOc1meMQD4p8FZH/ADF5P/SSenHdWF0l6P8AI66iszWtOu9QFl9h1CexaC7SaQwsAJUH3kYFTuUjjHHY54wdOpAKKKKACiiigAooooAKKKKACo7iYW9rLMQWEaF8DvgZqSkIDKQwyCMEHvSd7aDVr6nFaHpOleM/Aemar4qsoL/7bCNQljuVDxhnXI4PGEU7R6DPc1b+HGlWemeDo5dPs4bKHUJpL1IYYwiokjZQYHTCbB+FXrXw0kHhe58O+c8Vg0bwW7wNtkjibPy8ggFQcA88AVoS6ar/AGFYLm4to7NwRFCwCyqFKhHBByvOcDHIFW7XfLpf+v8AIndK/wDX9anmnhi5K+MrGw1OIIpuLtrPWUTK60p3ZiY9iuScHhvLBXiuz8KajLJqfiDR5Pmj0m+WKBicny3iSQL/AMBLkD2AqW08HWNibIRS3EsGmyvNY2krL5cDsGHBC7sAOwGScZ9hi7oukLpa3czlXu7+4NzcyKOC5AUAeyqqqPpnvSVrfL9V/wAEbtf+v6/ryNOiiikAUUUUAFFFFABRRRQAj7vLbZjdj5c9M15ppWi+JN3hj+1tJMYs7ua+1WaS4jJkuSjAScMSU+c7e/yqCFAr0yijbYOljjvCut2+s6lbGK2sUZrFr7dDFh186U4wc9wmW98VJ8Sf+RYtP+wxp/8A6VxV1tcl8Sf+RYtP+wxp/wD6VxVUfjjbuvzDv6P8jraKKKkDM8Q+HdM8VaPJpeuQSXFlIQXiSeSLdg5GSjAkZ7ZxXJwfBvwPNAsj6LfwMw5jk1e63L9cTEfrXW6/dTWui3H2O3kuLuWNo7eNI2YNIVO3cQCFXPUnArPTwzcw28EFtqBjihhSJVLXH8KgZ+WZRzjPQUDOWk+E/wAOU8S2VhNoN1NdeU95A82oXMka+WyA8NKecuvGCDXpdYSaNeR+JdMvjJDJBaWM9vIxd97M7xsCA27I/dnq2ea3afRf11/ysLS9wooopAQ3FnbXfl/a7eKfynEkfmoG2MOjDPQ8nmpqKKACiiigApsrmOF3WNpCqkhExlvYZIGfqadWJ4pEt3pf9l20Mskt+yxFljbbHGWUSMXAwpCkkZIJPSjyAzNa+GXhTxNqzaxrWnXUl9LGqM41G4jIUdFwkgUYyenGc1mj4O+BvMlV9Gv40jAPmtq91tfjnH77PHfIFdFL4fvHmdo9S2IWJVd1z8o9OLgD8gB7Uy20PUEt9VMt2YJru5klQ2pVtybQqA+YhwcKMgd88nNJ6J2Hu1czdI8K+D/htp1/rfh7S5IVuUV7iWOeSd5VzkHMjn1z1Ga7OuZudA1CfwJJpS3TTXUtrHEBdMirGQBkZjT/ABrpRnaN3Bxzg1ct7ERu9WLRRRUlENzaW15GqXlvFOisHVZUDAMOhGe9TUUUAFFFFABRRRQAUUUUAFcl4w/5GjwV/wBheT/0knrra5Lxh/yNHgr/ALC8n/pJPVR+JD6P0f5HW0UUVIgooooAKKKKACiiigAooooAKKKKACiiigAooooAKKKKACiiigAooooAKKKKACiiigArJ8S+H4fE2jHTrm6ubQedFOk9qVEiPG4dSNysOqjqDWtRQBiaN4fu9Ju3mufE2sasrJtEN99n2Kcj5h5cSHPGOuOelbdFFABRRRQAUUUUAFFFFABRRRQAUUUUAFFFFABRRRQAUUUUAFFFFABRRRQAUUUUAFFFFABRRRQBFdQtc2c0Ec8ts0iFRNDt3xkj7y7gRke4I9q5m38CsutadqOo+KNc1RtOmaaCC7NsI95RkyfLhUnhz3rq6KFo7h0sFFFFABRRRQAUUUUAFFFFABRRRQAUUUUAFFFFABRRRQAUUUUAf//Z)"
      ],
      "metadata": {
        "id": "Uaub9xe18hQa"
      }
    },
    {
      "cell_type": "code",
      "source": [
        "def gauss_seidel(matrix, b, x0, tolerance, iterations):\n",
        "\n",
        "  n = len(matrix)\n",
        "  x = np.copy(x0)\n",
        "  x_new = np.zeros(n)\n",
        "\n",
        "  k = 1\n",
        "  while k < iterations:\n",
        "    for i in range(n):\n",
        "      # covers sum before pivot element to multiply with calculated values of x from previous row\n",
        "      s1 = np.dot(matrix[i, :i], x_new[:i])\n",
        "      # covers sum after pivot element\n",
        "      s2 = np.dot(matrix[i, i+1:], x[i+1:])\n",
        "\n",
        "      # print(f\"matrix[i, :i] = {matrix[i, :i]}\")\n",
        "      # print(f\"matrix[i, i+1:] = {matrix[i, i+1:]}\")\n",
        "\n",
        "\n",
        "      x_new[i] = 1/matrix[i, i] * (b[i] - s1 - s2)  \n",
        "\n",
        "    # one set of solutions\n",
        "    if(np.linalg.norm(x_new - x) < tolerance):\n",
        "      print(\"The procedure was successfull\")\n",
        "      return x_new, k\n",
        "\n",
        "    x = np.copy(x_new)\n",
        "    k += 1\n",
        "\n",
        "  print(\"Maximum number of iterations exceeded\")\n",
        "  return -1\n",
        "\n",
        "\n",
        "matrix = np.array([[3,1,1],[1,4,1],[2,3,7]])\n",
        "b_vector = np.array([1,3,0])\n",
        "x0 = np.array([0,0,0]) # initial guess\n",
        "tolerance = 1e-6\n",
        "iterations = 50\n",
        "\n",
        "d_matrix, new_b = make_diagonally_dominant(matrix, b_vector)\n",
        "\n",
        "solution, num_of_iter = gauss_seidel(d_matrix, new_b, x0, tolerance, iterations)\n",
        "print(solution)\n",
        "print(num_of_iter)\n",
        "\n"
      ],
      "metadata": {
        "colab": {
          "base_uri": "https://localhost:8080/"
        },
        "id": "1GhP4jD0O0J1",
        "outputId": "6fe55ac3-4b10-4e9f-d497-661a7b131fb3"
      },
      "execution_count": null,
      "outputs": [
        {
          "output_type": "stream",
          "name": "stdout",
          "text": [
            "The procedure was successfull\n",
            "[ 0.19999994  0.79999998 -0.39999997]\n",
            "9\n"
          ]
        }
      ]
    },
    {
      "cell_type": "markdown",
      "source": [
        "#### Jacobi\n",
        "\n",
        "2. The number of iterations it takes **jacobi** method to converge\n",
        "- Initial guess: [0, 0, 0]\n",
        "- Tolerance: 1e-6\n",
        "- Iterations: 50\n",
        "-  \n",
        "3 1 1 1<br>\n",
        "1 4 1 3<br>\n",
        "2 3 7 0<br>\n",
        "\n",
        "The method converges to a solution if the matrix A is **diagonally dominant**, meaning that the absolute value of the diagonal element in each row is greater than the sum of the absolute values of the other elements in that row.\n",
        "\n",
        "![jacobi.JPG](data:image/jpeg;base64,/9j/4AAQSkZJRgABAQEAYABgAAD/4RD0RXhpZgAATU0AKgAAAAgABAE7AAIAAAAOAAAISodpAAQAAAABAAAIWJydAAEAAAAcAAAQ0OocAAcAAAgMAAAAPgAAAAAc6gAAAAgAAAAAAAAAAAAAAAAAAAAAAAAAAAAAAAAAAAAAAAAAAAAAAAAAAAAAAAAAAAAAAAAAAAAAAAAAAAAAAAAAAAAAAAAAAAAAAAAAAAAAAAAAAAAAAAAAAAAAAAAAAAAAAAAAAAAAAAAAAAAAAAAAAAAAAAAAAAAAAAAAAAAAAAAAAAAAAAAAAAAAAAAAAAAAAAAAAAAAAAAAAAAAAAAAAAAAAAAAAAAAAAAAAAAAAAAAAAAAAAAAAAAAAAAAAAAAAAAAAAAAAAAAAAAAAAAAAAAAAAAAAAAAAAAAAAAAAAAAAAAAAAAAAAAAAAAAAAAAAAAAAAAAAAAAAAAAAAAAAAAAAAAAAAAAAAAAAAAAAAAAAAAAAAAAAAAAAAAAAAAAAAAAAAAAAAAAAAAAAAAAAAAAAAAAAAAAAAAAAAAAAAAAAAAAAAAAAAAAAAAAAAAAAAAAAAAAAAAAAAAAAAAAAAAAAAAAAAAAAAAAAAAAAAAAAAAAAAAAAAAAAAAAAAAAAAAAAAAAAAAAAAAAAAAAAAAAAAAAAAAAAAAAAAAAAAAAAAAAAAAAAAAAAAAAAAAAAAAAAAAAAAAAAAAAAAAAAAAAAAAAAAAAAAAAAAAAAAAAAAAAAAAAAAAAAAAAAAAAAAAAAAAAAAAAAAAAAAAAAAAAAAAAAAAAAAAAAAAAAAAAAAAAAAAAAAAAAAAAAAAAAAAAAAAAAAAAAAAAAAAAAAAAAAAAAAAAAAAAAAAAAAAAAAAAAAAAAAAAAAAAAAAAAAAAAAAAAAAAAAAAAAAAAAAAAAAAAAAAAAAAAAAAAAAAAAAAAAAAAAAAAAAAAAAAAAAAAAAAAAAAAAAAAAAAAAAAAAAAAAAAAAAAAAAAAAAAAAAAAAAAAAAAAAAAAAAAAAAAAAAAAAAAAAAAAAAAAAAAAAAAAAAAAAAAAAAAAAAAAAAAAAAAAAAAAAAAAAAAAAAAAAAAAAAAAAAAAAAAAAAAAAAAAAAAAAAAAAAAAAAAAAAAAAAAAAAAAAAAAAAAAAAAAAAAAAAAAAAAAAAAAAAAAAAAAAAAAAAAAAAAAAAAAAAAAAAAAAAAAAAAAAAAAAAAAAAAAAAAAAAAAAAAAAAAAAAAAAAAAAAAAAAAAAAAAAAAAAAAAAAAAAAAAAAAAAAAAAAAAAAAAAAAAAAAAAAAAAAAAAAAAAAAAAAAAAAAAAAAAAAAAAAAAAAAAAAAAAAAAAAAAAAAAAAAAAAAAAAAAAAAAAAAAAAAAAAAAAAAAAAAAAAAAAAAAAAAAAAAAAAAAAAAAAAAAAAAAAAAAAAAAAAAAAAAAAAAAAAAAAAAAAAAAAAAAAAAAAAAAAAAAAAAAAAAAAAAAAAAAAAAAAAAAAAAAAAAAAAAAAAAAAAAAAAAAAAAAAAAAAAAAAAAAAAAAAAAAAAAAAAAAAAAAAAAAAAAAAAAAAAAAAAAAAAAAAAAAAAAAAAAAAAAAAAAAAAAAAAAAAAAAAAAAAAAAAAAAAAAAAAAAAAAAAAAAAAAAAAAAAAAAAAAAAAAAAAAAAAAAAAAAAAAAAAAAAAAAAAAAAAAAAAAAAAAAAAAAAAAAAAAAAAAAAAAAAAAAAAAAAAAAAAAAAAAAAAAAAAAAAAAAAAAAAAAAAAAAAAAAAAAAAAAAAAAAAAAAAAAAAAAAAAAAAAAAAAAAAAAAAAAAAAAAAAAAAAAAAAAAAAAAAAAAAAAAAAAAAAAAAAAAAAAAAAAAAAAAAAAAAAAAAAAAAAAAAAAAAAAAAAAAAAAAAAAAAAAAAAAAAAAAAAAAAAAAAAAAAAAAAAAAAAAAAAAAAAAAAAAAAAAAAAAAAAAAAAAAAAAAAAAAAAAAAAAAAAAAAAAAAAAAAAAAAAAAAAAAAAAAAAAAAAAAAAAAAAAAAAAAAAAAAAAAAAAAAAAAAAAAAAAAAAAAAAAAAAAAAAAAAAAAAAAAAAAAAAAAAAAAAAAAAAAAAAAAAAAAAAAAAAAAAAAAAAAAAAAAAAAAAAAAAAAAAAAAAAAAAAAAAAAAAAAAAAAAAAAAAAAAAAAAAAAAAAAAAAAAAAAAAAAAAAAAAAAAAAAAAAAAAAAAAAAAAAAAAAAAAAAAAAAAAAAAAAAAAAAAAAAAAAAAAAAAAAAAAAAAAAAAAAAAAAAAAAAAAAAAAAAAAAAAAAAAAAAAAAAAAAAAAAAAAAAAAAAAAAAAAAAAAAAAAAAAAAAAAAAAAAAAAAAAAAAAAAAAAAAAAAAAAAAAAAAAAAAAAAAAAAAAAAAAAAAAAAAAAAAAAAAAAAAAAAAAAAAAAAAAAAAAAAAAAAAAAAAAAAAAAAAAAAAAAAAAAAAAAAAAAAAAAAAAAAAAAAAAAAAAAAAAAAAAAAAAAAAAAAAAAAAAAAAAAAAAAAAAAAAAAAAAAAAAAAAAAAAAAAAAAAAAAAAAAAAAAAAAAAAAAAAAAAAAAAAAAAAAAAAAAAAAAAAAAAAAAAAAAAAAAAAAAAAAAAAAAAAAAAAAAAAAAAAAAAAAAAAAAAAAAAAAAAAAAAAAAAAAAAAAAAAAAAAAAAAAAAAAAAAAAAAAAAAAAAAAAAAAAAAAAAAAAAAAAAAAAAAAAAAAAAAAAAAAAAAAAAAAAAAAAAAAAAAAAAAAAAAAAAAAAAAAAAAAAAAAAAAAAAAAAAAAAAAAAAAAAAAAAAAAAAAAAAAAAAAAAAAAAAAAAAAAAAAAAAAAAAAAAAAAAAAAAAAAAAAAAAAAAAAAAAAAEVkZWxpcyBNb2xpbmEAAAWQAwACAAAAFAAAEKaQBAACAAAAFAAAELqSkQACAAAAAzYyAACSkgACAAAAAzYyAADqHAAHAAAIDAAACJoAAAAAHOoAAAAIAAAAAAAAAAAAAAAAAAAAAAAAAAAAAAAAAAAAAAAAAAAAAAAAAAAAAAAAAAAAAAAAAAAAAAAAAAAAAAAAAAAAAAAAAAAAAAAAAAAAAAAAAAAAAAAAAAAAAAAAAAAAAAAAAAAAAAAAAAAAAAAAAAAAAAAAAAAAAAAAAAAAAAAAAAAAAAAAAAAAAAAAAAAAAAAAAAAAAAAAAAAAAAAAAAAAAAAAAAAAAAAAAAAAAAAAAAAAAAAAAAAAAAAAAAAAAAAAAAAAAAAAAAAAAAAAAAAAAAAAAAAAAAAAAAAAAAAAAAAAAAAAAAAAAAAAAAAAAAAAAAAAAAAAAAAAAAAAAAAAAAAAAAAAAAAAAAAAAAAAAAAAAAAAAAAAAAAAAAAAAAAAAAAAAAAAAAAAAAAAAAAAAAAAAAAAAAAAAAAAAAAAAAAAAAAAAAAAAAAAAAAAAAAAAAAAAAAAAAAAAAAAAAAAAAAAAAAAAAAAAAAAAAAAAAAAAAAAAAAAAAAAAAAAAAAAAAAAAAAAAAAAAAAAAAAAAAAAAAAAAAAAAAAAAAAAAAAAAAAAAAAAAAAAAAAAAAAAAAAAAAAAAAAAAAAAAAAAAAAAAAAAAAAAAAAAAAAAAAAAAAAAAAAAAAAAAAAAAAAAAAAAAAAAAAAAAAAAAAAAAAAAAAAAAAAAAAAAAAAAAAAAAAAAAAAAAAAAAAAAAAAAAAAAAAAAAAAAAAAAAAAAAAAAAAAAAAAAAAAAAAAAAAAAAAAAAAAAAAAAAAAAAAAAAAAAAAAAAAAAAAAAAAAAAAAAAAAAAAAAAAAAAAAAAAAAAAAAAAAAAAAAAAAAAAAAAAAAAAAAAAAAAAAAAAAAAAAAAAAAAAAAAAAAAAAAAAAAAAAAAAAAAAAAAAAAAAAAAAAAAAAAAAAAAAAAAAAAAAAAAAAAAAAAAAAAAAAAAAAAAAAAAAAAAAAAAAAAAAAAAAAAAAAAAAAAAAAAAAAAAAAAAAAAAAAAAAAAAAAAAAAAAAAAAAAAAAAAAAAAAAAAAAAAAAAAAAAAAAAAAAAAAAAAAAAAAAAAAAAAAAAAAAAAAAAAAAAAAAAAAAAAAAAAAAAAAAAAAAAAAAAAAAAAAAAAAAAAAAAAAAAAAAAAAAAAAAAAAAAAAAAAAAAAAAAAAAAAAAAAAAAAAAAAAAAAAAAAAAAAAAAAAAAAAAAAAAAAAAAAAAAAAAAAAAAAAAAAAAAAAAAAAAAAAAAAAAAAAAAAAAAAAAAAAAAAAAAAAAAAAAAAAAAAAAAAAAAAAAAAAAAAAAAAAAAAAAAAAAAAAAAAAAAAAAAAAAAAAAAAAAAAAAAAAAAAAAAAAAAAAAAAAAAAAAAAAAAAAAAAAAAAAAAAAAAAAAAAAAAAAAAAAAAAAAAAAAAAAAAAAAAAAAAAAAAAAAAAAAAAAAAAAAAAAAAAAAAAAAAAAAAAAAAAAAAAAAAAAAAAAAAAAAAAAAAAAAAAAAAAAAAAAAAAAAAAAAAAAAAAAAAAAAAAAAAAAAAAAAAAAAAAAAAAAAAAAAAAAAAAAAAAAAAAAAAAAAAAAAAAAAAAAAAAAAAAAAAAAAAAAAAAAAAAAAAAAAAAAAAAAAAAAAAAAAAAAAAAAAAAAAAAAAAAAAAAAAAAAAAAAAAAAAAAAAAAAAAAAAAAAAAAAAAAAAAAAAAAAAAAAAAAAAAAAAAAAAAAAAAAAAAAAAAAAAAAAAAAAAAAAAAAAAAAAAAAAAAAAAAAAAAAAAAAAAAAAAAAAAAAAAAAAAAAAAAAAAAAAAAAAAAAAAAAAAAAAAAAAAAAAAAAAAAAAAAAAAAAAAAAAAAAAAAAAAAAAAAAAAAAAAAAAAAAAAAAAAAAAAAAAAAAAAAAAAAAAAAAAAAAAAAAAAAAAAAAAAAAAAAAAAAAAAAAAAAAAAAAAAAAAAAAAAAAAAAAAAAAAAAAAAAAAAAAAAAAAAAAAAAAAAAAAAAAAAAAAAAAAAAAAAAAAAAAAAAAAAAAAAAAAAAAAAAAAAAAAAAAAAAAAAAAAAAAAAAAAAAAAAAAAAAAAAAAAAAAAAAAAAAAAAAAAAAAAAAAAAAAAAAAAAAAAAAAAAAAAAAAAAAAAAAAAAAAAAAAAAAAAAAAAAAAAAAAAAAAAAAAAAAAAAAAAAAAAAAAAAAAAAAAAAAAAAAAAAAAAAAAAAAAAAAAAAAAAAAAAAAAAAAAAAAAAAAAAAAAAAAAAAAAAAAAAAAAAAAAAAAAAAAAAAAAAAAAAAAAAAAAAAAAAAAAAAAAAAAAAAAAAAAAAAAAAAAAAAAAAAAAAAAAAAAAAAAAAAAAAAAAAAAAAAAAAAAAAAAAAAAAAAAAAAAAAAAAAAAAAAAAAAAAAAAAAAAAAAAAAAAAAAAAAAAAAAAAAAAAAAAAAAAAAAAAAAAAAAAAAAAAAAAAAAAAAAAAAAAAAAAAAAAAAAAAAAAAAAAAAAAAAAAAAAAAAAAAAAAAAAAAAAAAAAAAAAAAAAAAAAAAAAAAAAAAAAAAAAAAAAAAAAAAAAAAAAAAAAAAAAAAAAAAAAAAAAAAAAAAAAAAAAAAAAAAAAAAAAAAAAAAAAAAAAAAAAAAAAAAAAAAAAAAAAAAAAAAAAAAAAAAAAAAAAAAAAAAAAAAAAAAAAAAAAAAAAAAAAAAAAAAAAAAAAAAAAAAAAAAAAAAAAAAAAAAAAAAAAAAAAAAAAAAAAAAAAAAAAAAAAAAAAAAAAAAAAAAAAAAAAAAAAAyMDIzOjA0OjI0IDIyOjExOjMzADIwMjM6MDQ6MjQgMjI6MTE6MzMAAABFAGQAZQBsAGkAcwAgAE0AbwBsAGkAbgBhAAAA/+ELIGh0dHA6Ly9ucy5hZG9iZS5jb20veGFwLzEuMC8APD94cGFja2V0IGJlZ2luPSfvu78nIGlkPSdXNU0wTXBDZWhpSHpyZVN6TlRjemtjOWQnPz4NCjx4OnhtcG1ldGEgeG1sbnM6eD0iYWRvYmU6bnM6bWV0YS8iPjxyZGY6UkRGIHhtbG5zOnJkZj0iaHR0cDovL3d3dy53My5vcmcvMTk5OS8wMi8yMi1yZGYtc3ludGF4LW5zIyI+PHJkZjpEZXNjcmlwdGlvbiByZGY6YWJvdXQ9InV1aWQ6ZmFmNWJkZDUtYmEzZC0xMWRhLWFkMzEtZDMzZDc1MTgyZjFiIiB4bWxuczpkYz0iaHR0cDovL3B1cmwub3JnL2RjL2VsZW1lbnRzLzEuMS8iLz48cmRmOkRlc2NyaXB0aW9uIHJkZjphYm91dD0idXVpZDpmYWY1YmRkNS1iYTNkLTExZGEtYWQzMS1kMzNkNzUxODJmMWIiIHhtbG5zOnhtcD0iaHR0cDovL25zLmFkb2JlLmNvbS94YXAvMS4wLyI+PHhtcDpDcmVhdGVEYXRlPjIwMjMtMDQtMjRUMjI6MTE6MzMuNjIxPC94bXA6Q3JlYXRlRGF0ZT48L3JkZjpEZXNjcmlwdGlvbj48cmRmOkRlc2NyaXB0aW9uIHJkZjphYm91dD0idXVpZDpmYWY1YmRkNS1iYTNkLTExZGEtYWQzMS1kMzNkNzUxODJmMWIiIHhtbG5zOmRjPSJodHRwOi8vcHVybC5vcmcvZGMvZWxlbWVudHMvMS4xLyI+PGRjOmNyZWF0b3I+PHJkZjpTZXEgeG1sbnM6cmRmPSJodHRwOi8vd3d3LnczLm9yZy8xOTk5LzAyLzIyLXJkZi1zeW50YXgtbnMjIj48cmRmOmxpPkVkZWxpcyBNb2xpbmE8L3JkZjpsaT48L3JkZjpTZXE+DQoJCQk8L2RjOmNyZWF0b3I+PC9yZGY6RGVzY3JpcHRpb24+PC9yZGY6UkRGPjwveDp4bXBtZXRhPg0KICAgICAgICAgICAgICAgICAgICAgICAgICAgICAgICAgICAgICAgICAgICAgICAgICAgICAgICAgICAgICAgICAgICAgICAgICAgICAgICAgICAgICAgICAgICAgICAgICAgIAogICAgICAgICAgICAgICAgICAgICAgICAgICAgICAgICAgICAgICAgICAgICAgICAgICAgICAgICAgICAgICAgICAgICAgICAgICAgICAgICAgICAgICAgICAgICAgICAgICAgCiAgICAgICAgICAgICAgICAgICAgICAgICAgICAgICAgICAgICAgICAgICAgICAgICAgICAgICAgICAgICAgICAgICAgICAgICAgICAgICAgICAgICAgICAgICAgICAgICAgICAKICAgICAgICAgICAgICAgICAgICAgICAgICAgICAgICAgICAgICAgICAgICAgICAgICAgICAgICAgICAgICAgICAgICAgICAgICAgICAgICAgICAgICAgICAgICAgICAgICAgIAogICAgICAgICAgICAgICAgICAgICAgICAgICAgICAgICAgICAgICAgICAgICAgICAgICAgICAgICAgICAgICAgICAgICAgICAgICAgICAgICAgICAgICAgICAgICAgICAgICAgCiAgICAgICAgICAgICAgICAgICAgICAgICAgICAgICAgICAgICAgICAgICAgICAgICAgICAgICAgICAgICAgICAgICAgICAgICAgICAgICAgICAgICAgICAgICAgICAgICAgICAKICAgICAgICAgICAgICAgICAgICAgICAgICAgICAgICAgICAgICAgICAgICAgICAgICAgICAgICAgICAgICAgICAgICAgICAgICAgICAgICAgICAgICAgICAgICAgICAgICAgIAogICAgICAgICAgICAgICAgICAgICAgICAgICAgICAgICAgICAgICAgICAgICAgICAgICAgICAgICAgICAgICAgICAgICAgICAgICAgICAgICAgICAgICAgICAgICAgICAgICAgCiAgICAgICAgICAgICAgICAgICAgICAgICAgICAgICAgICAgICAgICAgICAgICAgICAgICAgICAgICAgICAgICAgICAgICAgICAgICAgICAgICAgICAgICAgICAgICAgICAgICAKICAgICAgICAgICAgICAgICAgICAgICAgICAgICAgICAgICAgICAgICAgICAgICAgICAgICAgICAgICAgICAgICAgICAgICAgICAgICAgICAgICAgICAgICAgICAgICAgICAgIAogICAgICAgICAgICAgICAgICAgICAgICAgICAgICAgICAgICAgICAgICAgICAgICAgICAgICAgICAgICAgICAgICAgICAgICAgICAgICAgICAgICAgICAgICAgICAgICAgICAgCiAgICAgICAgICAgICAgICAgICAgICAgICAgICAgICAgICAgICAgICAgICAgICAgICAgICAgICAgICAgICAgICAgICAgICAgICAgICAgICAgICAgICAgICAgICAgICAgICAgICAKICAgICAgICAgICAgICAgICAgICAgICAgICAgICAgICAgICAgICAgICAgICAgICAgICAgICAgICAgICAgICAgICAgICAgICAgICAgICAgICAgICAgICAgICAgICAgICAgICAgIAogICAgICAgICAgICAgICAgICAgICAgICAgICAgICAgICAgICAgICAgICAgICAgICAgICAgICAgICAgICAgICAgICAgICAgICAgICAgICAgICAgICAgICAgICAgICAgICAgICAgCiAgICAgICAgICAgICAgICAgICAgICAgICAgICAgICAgICAgICAgICAgICAgICAgICAgICAgICAgICAgICAgICAgICAgICAgICAgICAgICAgICAgICAgICAgICAgICAgICAgICAKICAgICAgICAgICAgICAgICAgICAgICAgICAgICAgICAgICAgICAgICAgICAgICAgICAgICAgICAgICAgICAgICAgICAgICAgICAgICAgICAgICAgICAgICAgICAgICAgICAgIAogICAgICAgICAgICAgICAgICAgICAgICAgICAgICAgICAgICAgICAgICAgICAgICAgICAgICAgICAgICAgICAgICAgICAgICAgICAgICAgICAgICAgICAgICAgICAgICAgICAgCiAgICAgICAgICAgICAgICAgICAgICAgICAgICAgICAgICAgICAgICAgICAgICAgICAgICAgICAgICAgICAgICAgICAgICAgICAgICAgICAgICAgICAgICAgICAgICAgICAgICAKICAgICAgICAgICAgICAgICAgICAgICAgICAgICAgICAgICAgICAgICAgICAgICAgICAgICAgICAgICAgICAgICAgICAgICAgICAgICAgICAgICAgICAgICAgICAgICAgICAgIAogICAgICAgICAgICAgICAgICAgICAgICAgICAgICAgICAgICAgICAgICAgICAgICAgICAgICAgICAgICAgICAgICAgICAgICAgICAgICAgICAgICAgICAgICAgICAgICAgICAgCiAgICAgICAgICAgICAgICAgICAgICAgICAgICA8P3hwYWNrZXQgZW5kPSd3Jz8+/9sAQwAHBQUGBQQHBgUGCAcHCAoRCwoJCQoVDxAMERgVGhkYFRgXGx4nIRsdJR0XGCIuIiUoKSssKxogLzMvKjInKisq/9sAQwEHCAgKCQoUCwsUKhwYHCoqKioqKioqKioqKioqKioqKioqKioqKioqKioqKioqKioqKioqKioqKioqKioqKioq/8AAEQgAVQGBAwEiAAIRAQMRAf/EAB8AAAEFAQEBAQEBAAAAAAAAAAABAgMEBQYHCAkKC//EALUQAAIBAwMCBAMFBQQEAAABfQECAwAEEQUSITFBBhNRYQcicRQygZGhCCNCscEVUtHwJDNicoIJChYXGBkaJSYnKCkqNDU2Nzg5OkNERUZHSElKU1RVVldYWVpjZGVmZ2hpanN0dXZ3eHl6g4SFhoeIiYqSk5SVlpeYmZqio6Slpqeoqaqys7S1tre4ubrCw8TFxsfIycrS09TV1tfY2drh4uPk5ebn6Onq8fLz9PX29/j5+v/EAB8BAAMBAQEBAQEBAQEAAAAAAAABAgMEBQYHCAkKC//EALURAAIBAgQEAwQHBQQEAAECdwABAgMRBAUhMQYSQVEHYXETIjKBCBRCkaGxwQkjM1LwFWJy0QoWJDThJfEXGBkaJicoKSo1Njc4OTpDREVGR0hJSlNUVVZXWFlaY2RlZmdoaWpzdHV2d3h5eoKDhIWGh4iJipKTlJWWl5iZmqKjpKWmp6ipqrKztLW2t7i5usLDxMXGx8jJytLT1NXW19jZ2uLj5OXm5+jp6vLz9PX29/j5+v/aAAwDAQACEQMRAD8A+kaKKKACiiigAooooAKKKKACiiucsPFjah4ok0mOwKxJJOguTL9/ytgYhcdNz7evVT17G7sHS50dFFFABRUNtdwXkbPbSeYiuULAHBIODg9+eMj3qagAooooAKKKKACiobm7gtFja5k8tZHEasQcbj0BPbJ457kDqamoAKKKKACiorq6gsrWS5u5UhgiUtJI5wqgdyadBPFc28c9vIskUqh0dTkMpGQQfSgB9FFFABRRRQAUUUUAFFFFABRRRQAUUUUAFFFFABRRRQAUUUUAFFFFABRRRQAUUUUAFFFFABRRRQAUUUUAFFY2r+JYNH1SzsJrK8nmvlk+zGBUIldAD5YywwxHIzhcA5IxWnb3UVyGCMBLHgSxbgWiJAO1gCcHBFAE1FYF34z0yyu5baa11tpImKsYdBvZUJHo6QlWHuCRWhpOs2utQPLZxXsaxttIvLCe1Yn2WVFJHuBijcNjH1H4ieG9K8St4furi9fVljEv2S20y6nYp/eHlxsCPcVBF4q8NQTrPDo2sRyoHCyJ4Wvgy723Ng+Rxk8n1PNUvid4MutfsLXXPDbi38T6I32jT5gP9Zj70LeqsOPr9TWt4C8Z2vjnwtDqcCGC5QmG8tX4a3mX7yEfy9qI6rzX9f8AA/4cJaPyf9f1/wAAtaJ4v0bxBqF1YabNci8tEV5re6sp7aRFbIB2yopI4PIqv4v1KWJdO0WykaK81q5+zLIp5jiCl5XHoQikA9iy1tSafbyalDfsmLmGN4lcHHyMQSp9RlQfwrir2f7X+0DpdoTlbDQJ7gDPRpJkTP5LTVnJL+tE3+gapN/1rZfmzure3itLaK3to1jhiQIiKMBVAwAKkoopANkkWKJpJGCogLMx7AVxlr4yv9R1Dw8bNLRLXW3kmSGVGMqWiIW80ndgFjs4xxvHU12csaTQvFKodHUqynoQeorn7bwNoVg1rLp9o0VzYwNb2k0k8svkocYXDMcqCqkA8DHGKNtf6/rb8Q30NMaixsY5wbMtLOI0/wBK+R1L7chtvLbeduOvGe9YsevarP48v9BSTT0htYILsTNGxYxszBoyN/3vlB3dBkfKc06DQrqJNC0khnstLUPNc/KgnZYyiqFDFgctuJP90cmpL7w5a2FvFdaNp0txqVtA8FrI90zEbud0jO/zjcqnJ3MO1N6P+v63DdW/r+rGuqxavpLx3aQSw3CujLFL5iMmSPvYHUfkfpmsnwfqk11a32l38plvtGums5pG6yLgNG592jZSffNa+lWCaXo9nYRnK20KRA+u0AZrjdJm+y/HnxDZqcLeaPaXZGerI7x5/LH5Uac1v601/K4r+7f+tdP8jvaKralcvZ6Vd3MQUvDC8ihuhIUkZ/KjTrh7zS7W5lCh5oUkYL0BKgnH50u/9f1sP+v6+8574k3E0fgS9tLNWe61Ipp8CqcEtMwTr2wCTn2puia3fx6jqul3Cae0Omy21tbzIzQIxdQWi5LZZQVxjGdwGBXQajpNlqywLfxGT7PMJ4SsjIUcAgMCpB6E/nVO58PRuunR2LpawWd59qkj8vf55w3Uk5zubduOTkU4+f8AW3/BB6/1/XkbFFFFIAooooAKKK89tvELS+KPEV7rLajbW2h38dvbpFcARyb4UAjaMPh2Z5cjI/u8jGKFq7f1/WodD0KiuW1Lx9p2kRX/APaVnfQT2CRSS2xRGkaOVtiOu1yGG75euQR0rbtdTM+lyXtzZXNiI9+6G5CBwFJ5+ViMHGRz0PajZXDrYvUVkeHLu2uPC9tqFo99LbXMZuozdlnmKuS445PQ8L2GBVL/AITzSP8Anz8Qf+E5qH/xih6OzBaq50lFV7G9i1CyjurdZ0jkGVW4t3hcfVHAZfxArm/B95eT+JPF1teXk11HaalHHAJSP3aG3jbaAAABliadtWv66f5h0udZRVPVLGTUbQWyXc1rG7fvXgcpIUweFYcqSccjnGcYPNYHgSK/t4dXt7m9ub7T4dQePTp7uUyytEFXcC55YCTeATk4HU0lrf8Ar+tweh1dFFFABRRWfrutWvh3Q7rVtQ3/AGa0jMkmwAnHtkigDQorI0bxHba3e31tb29zC1n5ZZplUBxIu5SuGJ6djg+2CDWvQF7hRRRQAUUUUAFFFFABRRRQAUUUUAc3q3hi91bU7O/k1ZYp9PvPPs/LtjtjjKlHRgX+diGI3cAcfL1zf0C5vLuG9lvkmjP22VIkmh8siNTtU9BkHG4H0NatFC00B6/16/5mBd+DNMvbuW5mutbWSVizCHXr2JAT6IkwVR7AAVoaTo1rosDxWct7Isjbiby/numB9mldiB7A4q/RRsG5j+Itak0q2igsIludUvW8qytycBmxy7eiKOWP4dSKf4c0CDw9pZt4m82eaRp7u4Iw1xMxy7n6noOwAHaue8ReAbfVvFKazL4v17SbuaMWsEVldwxLtGWKIGjJJO0seSTj0HEX/Csbgf8ANQ/Gn/gfD/8AGaFt/X9f15A9ztZLu3iu4bWSVRPMGaOPuwXGT9BkfmK4W5h+zftEWNy33b3w7LCpPrHOrEfk1aHg3wNpugalda3ba/q3iC5vIxD9q1O8W42IrElUKqMDd1HtU/jKyaC70fxLCpL6LcFpwo5NtIuyX/vnKv8A8AprSSfr+Ka/UN01/Wln+h1DKroVdQysMEEZBFc5/wAK48Ef9Cb4f/8ABXB/8TXRqyuoZCGVhkEHgilpAVv7NsRpR0z7Fb/YDD5BtPKXyvLxt2bMY244xjGKxP8AhXHgj/oTfD//AIK4P/ia6SsHxrd6lZ+EruTRIp5LtjHGDbxmSSNGdVeRVAJYqpZgAD06UMEiH/hXHgj/AKE3w/8A+CuD/wCJo/4Vx4I/6E3w/wD+CuD/AOJrmLXy9M8Ra9qI0W7tbSKxtrCyZ1a3a43sdzeYeQ7M6jP3hty2DXb6HeR3326WFXCJdPAC07SBvLAQkA/d5BGB1IJ70w/r+vxJtK0XStBtWtdD0yz023dzI0VnbrCjMQAWIUAZwAM+wrjtNi+0ftA65dLytpoVrbsR/eeV3x+QrvZJEijaSRgiICzMTgADvXM+CrF2bVfENwjJNrl156Kw5WBFCQj2yq7sdt5ojvft+un+f3A/ht3/AE1/Qs+JfB2heI7e4l1HQtLvr827RQ3F3aRyOvB2gMwJABOaPDfg7QvDlvby6doWl2F8LdYpp7S0jjd+BuBZQCQSM1v0Ulpt/X9XB67mRqvhPw5r10t1rmgaXqVwiCNZbyyjmdVBJCgsCcZJOPc1S/4Vx4I/6E3w/wD+CuD/AOJqt4nnvH8U6XZy2F1daT9nmnkWCBpFnuFKiOJyBhVwWb5sAkD0rn/D2pf2D4M09L7TLu3vZorrUprYzNbMru3+r29TzMEUEDG3IHANC1V/6/rR/wBMDsptKuNLh0qz8Jx2emWEFzme1itFEZhOSwUAjYcnOQDk9RyTW3TIF2W8ajJCoBlnLHp/ePJ+tPo8hb6hRRRQMK46fwCLxfESXeo5XWbyK9iMUG1rWSJYwhyWIbBiU9B3rsaKNtf6/rQDjNe8Bz+ILe9e81OFdQuobe3+0R2ZCJHFL5uAhkzlmzk7umOOOeh17S5ta8M3+lx3f2SW8tng+0LHu8ssuNwXI9emfxrSoo6WGm07lWysRa6TDYtIXWOIRbkHl8AY4wcrjtzkeueaxf8AhA9I/wCfzxB/4Ueof/H66Sih6u5KVlZFexsotPso7W3ad44xhWuLh5nP1dyWb8SaxdM8O3mk3viK9j1COSXV5/tEYW1x5DCJYx1c7/uA9q6KijuNaGBPp/iG+8GxWX9rW9nrDxKs959kLqT/ABYRZFwSOOG4zx2NVItJ8V2OlxxR63YzTpcQhFg0vyYkgU/Om0ysQSP4geMDC11VFO+tw6WK00N2+oW0sN2sdtGHE0BiDGUkDaQ2flxz2Oc0JDdrqksz3atZtEqx23k4KOCdzb885BAxjjHvVmikBThgvo1vPPvVmMkjNb4gC+SuBhTz8+Dk54znFYlx4e1DxB4RsNN8SXsbzrPFNetHAFFwscm8IVDELnC5wWHUc109FH/A/D+vmH9fec7aeG7/AE+51a4s9XVJtSv0uizWoYIgCKY/vc/Im0NxjOcZ69FRRR0sAUUUUAFFFFABRRRQAUUUUAFFFFABRRRQAUUUUAYeq396uvWtlpuWZbaW5lXy1cEAqqDkrjJYn7w+6afY3Gsy3apqFtttyDuP2dF7eonc/wDjpo1JrTT760WKzUT6hdASSQP5TNsRn3OR94ALjBODkCsS38aW2q+LEtbcstvZALJtvbbDzP8AdUhZskKpyRg8svcULt1/r/hgZr+DYpIPC8Mc0MsDrNOSksZRgDM5HBAPQg1ukAggjIPUGszQL1dS01ryNHRJp5CoeYyZAYqGGegIXIA4Ga06BLRWK1hYxabai2ti3kqT5aMciNf7q/7I7Dt06YqzRRQMKKKKAIbq0tr2Hyby3iuItwbZKgZcg5Bwe4IBFFtaW1nGyWdvFAju0jLEgUMzHJY47k8k1NRQBWv7CLUrcW90WMBYGSMHAlA/hb1X1HfoeMg2enSiigAooooAKqXeladfyb7+wtbl9uzdNCrnbkNjkdMgHHqBVuigA6dKKKKACiiigAooooAKKKKACiiigAooooAKKKKACiiigAooooAKKKKACiiigAooooAKKKKACiiigAooooAKKKKACiiigCkdLjfWU1KWaWSSKNo4Y2K7Ig2NxAAySdo5JPfGM1JY2MVhA8cRZ/MkeV3c5Z2Y5JP8voAKs0UARWtpb2NslvZW8VvAn3YoUCKv0A4FS0UUAFFFFABRRRQAUUUUAFFFFABRRRQAUUUUAFFFFABRRRQAUUUUAFFFFABRRRQAUUUUAFFFFABRRRQAUUUUAFFFFABRRRQAUUUUAFFFFABRRRQAUUUUAFFFFABRRRQAUUUUAFFFFABRRRQAUUUUAFFFFABRRRQAUUUUAFFFFABRRRQAUUUUAFFFFABRRRQAUUUUAFFFFABRRRQAUUUUAFFFFABRRRQAUUUUAFFFFABRRRQB/9k=)"
      ],
      "metadata": {
        "id": "LUBg9Gf5-ts3"
      }
    },
    {
      "cell_type": "code",
      "source": [
        "def jacobi(matrix, b, x0, tolerance, iterations):\n",
        "  # x_prev = np.copy(x0)\n",
        "  x = np.zeros(len(b))\n",
        "\n",
        "  k = 1\n",
        "  while k < iterations:\n",
        "\n",
        "    for i in range(len(b)):\n",
        "      # dot product dot product A.B = a1b1 + a2 b2 + ... + an bn\n",
        "      rows_sum = np.dot(matrix[i, :], x0)\n",
        "\n",
        "      # less a_ii (pivot) * x_i\n",
        "      rows_sum = rows_sum - (matrix[i, i] * x0[i])\n",
        "      # Apply formula\n",
        "      x[i] = 1/matrix[i, i] * (b[i] - rows_sum)\n",
        "    \n",
        "    # print(x)\n",
        "    # one set of solutions\n",
        "    if(np.linalg.norm(x - x0) < tolerance):\n",
        "      print(\"The procedure was successfull\")\n",
        "      return x, k\n",
        "\n",
        "    x0 = np.copy(x)\n",
        "    k += 1\n",
        "\n",
        "  print(\"Maximum number of iterations exceeded\")\n",
        "  return -1\n",
        "\n",
        "\n",
        "matrix = np.array([[3,1,1],[1,4,1],[2,3,7]])\n",
        "b_vector = np.array([1,3,0])\n",
        "x0 = np.array([0,0,0]) # initial guess\n",
        "\n",
        "# matrix = np.array([[8,1,-1],[2,1,9],[1,-7,2]])\n",
        "# b_vector = np.array([8,12,-4])\n",
        "# x0 = np.array([0,0,0]) # initial guess\n",
        "tolerance = 1e-6\n",
        "iterations = 50\n",
        "\n",
        "d_matrix, new_b = make_diagonally_dominant(matrix, b_vector)\n",
        "\n",
        "solution, num_of_iter = jacobi(d_matrix, new_b, x0, tolerance, iterations)\n",
        "print(solution)\n",
        "print(num_of_iter)\n"
      ],
      "metadata": {
        "id": "tubPwXEp_Um7",
        "colab": {
          "base_uri": "https://localhost:8080/"
        },
        "outputId": "a3013694-9d7f-4406-8b34-d2393a212351"
      },
      "execution_count": null,
      "outputs": [
        {
          "output_type": "stream",
          "name": "stdout",
          "text": [
            "The procedure was successfull\n",
            "[ 0.2000002  0.8000002 -0.3999998]\n",
            "29\n"
          ]
        }
      ]
    },
    {
      "cell_type": "markdown",
      "source": [
        "#### Relaxation techniques for solving linear systems\n",
        "\n",
        "- under-relaxation: 0 < w < 1 \n",
        "- over-relaxation: 1 < w\n",
        "  - used to accelerate the convergence for systems that are convergent by the Gauss-Seidel technique.\n"
      ],
      "metadata": {
        "id": "yaUXBghSOlCY"
      }
    },
    {
      "cell_type": "code",
      "source": [
        "# global variables\n",
        "tolerance = 1e-7\n",
        "max_iterations = 1000\n",
        "\n",
        "# Successive Over-Relaxation SOR\n",
        "def sor_gauss_seidel(matrix: np.array, b_vector: np.array, w: float, ):\n",
        "  # Set the initial guess for the solution vector x\n",
        "  x0 = np.ones_like(b_vector, dtype=float)\n",
        "  # print(x0)\n",
        "\n",
        "  # Initialize the iteration counter and the error\n",
        "  iteration = 0\n",
        "  error = tolerance + 1\n",
        "\n",
        "  # Perform the SOR Gauss-Seidel iteration until convergence or the maximum number of iterations is reached\n",
        "  while error > tolerance and iteration < max_iterations:\n",
        "    x = np.copy(x0)\n",
        "\n",
        "    # get the new approximations\n",
        "    for i in range(len(b_vector)):\n",
        "      first_summation = np.dot(matrix[i, :i], x[:i])\n",
        "      second_summation = np.dot(matrix[i, i + 1:], x0[i + 1:])\n",
        "      right_hand_side = w * (b_vector[i] - first_summation - second_summation) / matrix[i, i]\n",
        "      left_hand_side = (1 - w) * x0[i]\n",
        "      x[i] = left_hand_side + right_hand_side\n",
        "\n",
        "      # check the error\n",
        "      # one set of solutions\n",
        "    error = np.linalg.norm(x - x0)\n",
        "\n",
        "    # rinse and repeat\n",
        "    x0 = np.copy(x)\n",
        "    iteration += 1\n",
        "\n",
        "    # if we went through ALL iterations, it might've not converged...\n",
        "    if iteration == max_iterations:\n",
        "      iteration = -1\n",
        "\n",
        "  return iteration\n",
        "\n",
        "\n",
        "matrix = np.array([[4, 3, 0], [3, 4, -1], [0, -1, 4]])\n",
        "b_vector = np.array([24, 30, -24])\n",
        "value_for_w: float = 1.25\n",
        "sor_gauss_seidel(matrix, b_vector, value_for_w)\n"
      ],
      "metadata": {
        "colab": {
          "base_uri": "https://localhost:8080/"
        },
        "id": "qB5jdEpRO0GE",
        "outputId": "8c164842-cf77-47f9-f4da-72c1e5616dfc"
      },
      "execution_count": null,
      "outputs": [
        {
          "output_type": "execute_result",
          "data": {
            "text/plain": [
              "15"
            ]
          },
          "metadata": {},
          "execution_count": 5
        }
      ]
    },
    {
      "cell_type": "markdown",
      "source": [
        "### **Chapter 9: Eigenvalues and Power Method**\n",
        "\n",
        "* 9.3 Power Method: The power method is an iterative algorithm used to find the dominant eigenvector and eigenvalue of a matrix. It is one of the most widely used methods for computing eigenvalues and eigenvectors in numerical linear algebra.\n",
        "\n",
        "In class code: \n",
        "- None"
      ],
      "metadata": {
        "id": "MCt_rKvwbGwV"
      }
    },
    {
      "cell_type": "markdown",
      "source": [
        "#### Power method\n",
        "\n",
        "From Chapter 9.3 Example"
      ],
      "metadata": {
        "id": "pLjuwkCROT4Q"
      }
    },
    {
      "cell_type": "code",
      "execution_count": null,
      "metadata": {
        "id": "bAJJR-xFauvi",
        "colab": {
          "base_uri": "https://localhost:8080/"
        },
        "outputId": "ad56a134-1f5f-4150-a9fd-f83df83fa81c"
      },
      "outputs": [
        {
          "output_type": "stream",
          "name": "stdout",
          "text": [
            "[[4.83505155]]\n",
            "\n",
            "[[4.1775537]]\n",
            "\n",
            "[[4.04272045]]\n",
            "\n",
            "[[4.01057992]]\n",
            "\n",
            "[[4.00263878]]\n",
            "\n",
            "[[4.00065931]]\n",
            "\n",
            "[[4.0001648]]\n",
            "\n",
            "[[4.0000412]]\n",
            "\n",
            "[[4.0000103]]\n",
            "\n",
            "[[4.00000257]]\n",
            "\n",
            "[[4.00000064]]\n",
            "\n",
            "[[4.00000016]]\n",
            "\n",
            "hello\n",
            "[[4.00000016]]\n",
            "[[4.00000064]]\n",
            "4.000000160932548\n",
            "[[-0.44721358]\n",
            " [ 0.8944272 ]]\n"
          ]
        }
      ],
      "source": [
        "import numpy as np\n",
        "  \n",
        "# Define the matrix A\n",
        "A = np.array([[-2, -3], [6, 7]])\n",
        "# print(\"Lenght of matrix: \", len(A))\n",
        "  \n",
        "# Choose the initial vector x\n",
        "# x = np.array([[1, 2]]).T\n",
        "# print(x)\n",
        "x = np.ones([len(A), 1]) \n",
        "\n",
        "  \n",
        "# Define the tolerance for the eigenvalue and eigenvector approximations\n",
        "# (i.e. the maximum allowed difference between the approximations and the actual values)\n",
        "tol = 1e-6\n",
        "  \n",
        "# Define the maximum number of iterations\n",
        "max_iter = 100\n",
        "  \n",
        "# Define the variable lam_prev to store the\n",
        "# previous approximation for the largest eigenvalue\n",
        "lam_prev = 0\n",
        "  \n",
        "# Iteratively improve the approximations for the largest eigenvalue and eigenvector using the power method\n",
        "for i in range(max_iter):\n",
        "    # Compute the updated approximation for the eigenvector\n",
        "    x = A @ x / np.linalg.norm(A @ x)\n",
        "    # print(x)\n",
        "  \n",
        "    # Compute the updated approximation for the largest eigenvalue\n",
        "    lam = (x.T @ A @ x) / (x.T @ x)\n",
        "    print(lam)\n",
        "    print()\n",
        "  \n",
        "    # Check if the approximations have converged\n",
        "    if np.abs(lam - lam_prev) < tol:\n",
        "      print(\"hello\")\n",
        "      print(lam)\n",
        "      print(lam_prev)\n",
        "      break\n",
        "  \n",
        "    # Store the current approximation for the largest eigenvalue\n",
        "    lam_prev = lam\n",
        "  \n",
        "# Print the approximations for the largest eigenvalue and eigenvector\n",
        "print(float(lam))\n",
        "print(x)"
      ]
    }
  ]
}